{
 "cells": [
  {
   "cell_type": "markdown",
   "metadata": {},
   "source": [
    "# Clustering Crypto"
   ]
  },
  {
   "cell_type": "code",
   "execution_count": 28,
   "metadata": {},
   "outputs": [],
   "source": [
    "# Initial imports\n",
    "import pandas as pd\n",
    "import hvplot.pandas\n",
    "import plotly.express as px\n",
    "from sklearn.preprocessing import StandardScaler, MinMaxScaler\n",
    "from sklearn.decomposition import PCA\n",
    "from sklearn.cluster import KMeans\n",
    "import matplotlib.pyplot as plt"
   ]
  },
  {
   "cell_type": "markdown",
   "metadata": {},
   "source": [
    "### Deliverable 1: Preprocessing the Data for PCA"
   ]
  },
  {
   "cell_type": "code",
   "execution_count": 29,
   "metadata": {},
   "outputs": [
    {
     "data": {
      "text/plain": [
       "CoinName            object\n",
       "Algorithm           object\n",
       "IsTrading             bool\n",
       "ProofType           object\n",
       "TotalCoinsMined    float64\n",
       "TotalCoinSupply     object\n",
       "dtype: object"
      ]
     },
     "execution_count": 29,
     "metadata": {},
     "output_type": "execute_result"
    }
   ],
   "source": [
    "# Load the crypto_data.csv dataset.\n",
    "df = pd.read_csv(r'crypto_data.csv', index_col = 0)\n",
    "df.dtypes"
   ]
  },
  {
   "cell_type": "code",
   "execution_count": 30,
   "metadata": {},
   "outputs": [
    {
     "data": {
      "text/html": [
       "<div>\n",
       "<style scoped>\n",
       "    .dataframe tbody tr th:only-of-type {\n",
       "        vertical-align: middle;\n",
       "    }\n",
       "\n",
       "    .dataframe tbody tr th {\n",
       "        vertical-align: top;\n",
       "    }\n",
       "\n",
       "    .dataframe thead th {\n",
       "        text-align: right;\n",
       "    }\n",
       "</style>\n",
       "<table border=\"1\" class=\"dataframe\">\n",
       "  <thead>\n",
       "    <tr style=\"text-align: right;\">\n",
       "      <th></th>\n",
       "      <th>CoinName</th>\n",
       "      <th>Algorithm</th>\n",
       "      <th>IsTrading</th>\n",
       "      <th>ProofType</th>\n",
       "      <th>TotalCoinsMined</th>\n",
       "      <th>TotalCoinSupply</th>\n",
       "    </tr>\n",
       "  </thead>\n",
       "  <tbody>\n",
       "    <tr>\n",
       "      <th>42</th>\n",
       "      <td>42 Coin</td>\n",
       "      <td>Scrypt</td>\n",
       "      <td>True</td>\n",
       "      <td>PoW/PoS</td>\n",
       "      <td>4.199995e+01</td>\n",
       "      <td>42</td>\n",
       "    </tr>\n",
       "    <tr>\n",
       "      <th>365</th>\n",
       "      <td>365Coin</td>\n",
       "      <td>X11</td>\n",
       "      <td>True</td>\n",
       "      <td>PoW/PoS</td>\n",
       "      <td>NaN</td>\n",
       "      <td>2300000000</td>\n",
       "    </tr>\n",
       "    <tr>\n",
       "      <th>404</th>\n",
       "      <td>404Coin</td>\n",
       "      <td>Scrypt</td>\n",
       "      <td>True</td>\n",
       "      <td>PoW/PoS</td>\n",
       "      <td>1.055185e+09</td>\n",
       "      <td>532000000</td>\n",
       "    </tr>\n",
       "    <tr>\n",
       "      <th>611</th>\n",
       "      <td>SixEleven</td>\n",
       "      <td>SHA-256</td>\n",
       "      <td>True</td>\n",
       "      <td>PoW</td>\n",
       "      <td>NaN</td>\n",
       "      <td>611000</td>\n",
       "    </tr>\n",
       "    <tr>\n",
       "      <th>808</th>\n",
       "      <td>808</td>\n",
       "      <td>SHA-256</td>\n",
       "      <td>True</td>\n",
       "      <td>PoW/PoS</td>\n",
       "      <td>0.000000e+00</td>\n",
       "      <td>0</td>\n",
       "    </tr>\n",
       "    <tr>\n",
       "      <th>...</th>\n",
       "      <td>...</td>\n",
       "      <td>...</td>\n",
       "      <td>...</td>\n",
       "      <td>...</td>\n",
       "      <td>...</td>\n",
       "      <td>...</td>\n",
       "    </tr>\n",
       "    <tr>\n",
       "      <th>SERO</th>\n",
       "      <td>Super Zero</td>\n",
       "      <td>Ethash</td>\n",
       "      <td>True</td>\n",
       "      <td>PoW</td>\n",
       "      <td>NaN</td>\n",
       "      <td>1000000000</td>\n",
       "    </tr>\n",
       "    <tr>\n",
       "      <th>UOS</th>\n",
       "      <td>UOS</td>\n",
       "      <td>SHA-256</td>\n",
       "      <td>True</td>\n",
       "      <td>DPoI</td>\n",
       "      <td>NaN</td>\n",
       "      <td>1000000000</td>\n",
       "    </tr>\n",
       "    <tr>\n",
       "      <th>BDX</th>\n",
       "      <td>Beldex</td>\n",
       "      <td>CryptoNight</td>\n",
       "      <td>True</td>\n",
       "      <td>PoW</td>\n",
       "      <td>9.802226e+08</td>\n",
       "      <td>1400222610</td>\n",
       "    </tr>\n",
       "    <tr>\n",
       "      <th>ZEN</th>\n",
       "      <td>Horizen</td>\n",
       "      <td>Equihash</td>\n",
       "      <td>True</td>\n",
       "      <td>PoW</td>\n",
       "      <td>7.296538e+06</td>\n",
       "      <td>21000000</td>\n",
       "    </tr>\n",
       "    <tr>\n",
       "      <th>XBC</th>\n",
       "      <td>BitcoinPlus</td>\n",
       "      <td>Scrypt</td>\n",
       "      <td>True</td>\n",
       "      <td>PoS</td>\n",
       "      <td>1.283270e+05</td>\n",
       "      <td>1000000</td>\n",
       "    </tr>\n",
       "  </tbody>\n",
       "</table>\n",
       "<p>1142 rows × 6 columns</p>\n",
       "</div>"
      ],
      "text/plain": [
       "         CoinName    Algorithm  IsTrading ProofType  TotalCoinsMined  \\\n",
       "42        42 Coin       Scrypt       True   PoW/PoS     4.199995e+01   \n",
       "365       365Coin          X11       True   PoW/PoS              NaN   \n",
       "404       404Coin       Scrypt       True   PoW/PoS     1.055185e+09   \n",
       "611     SixEleven      SHA-256       True       PoW              NaN   \n",
       "808           808      SHA-256       True   PoW/PoS     0.000000e+00   \n",
       "...           ...          ...        ...       ...              ...   \n",
       "SERO   Super Zero       Ethash       True       PoW              NaN   \n",
       "UOS           UOS      SHA-256       True      DPoI              NaN   \n",
       "BDX        Beldex  CryptoNight       True       PoW     9.802226e+08   \n",
       "ZEN       Horizen     Equihash       True       PoW     7.296538e+06   \n",
       "XBC   BitcoinPlus       Scrypt       True       PoS     1.283270e+05   \n",
       "\n",
       "     TotalCoinSupply  \n",
       "42                42  \n",
       "365       2300000000  \n",
       "404        532000000  \n",
       "611           611000  \n",
       "808                0  \n",
       "...              ...  \n",
       "SERO      1000000000  \n",
       "UOS       1000000000  \n",
       "BDX       1400222610  \n",
       "ZEN         21000000  \n",
       "XBC          1000000  \n",
       "\n",
       "[1142 rows x 6 columns]"
      ]
     },
     "execution_count": 30,
     "metadata": {},
     "output_type": "execute_result"
    }
   ],
   "source": [
    "# Keep all the cryptocurrencies that are being traded.\n",
    "crypto_df = df.loc[df['IsTrading'] == True]\n",
    "crypto_df = crypto_df.rename(columns={'Unnamed: 0': 'ID'})\n",
    "\n",
    "# Dropping BitTorrent and \n",
    "filter_list = ['BitTorrent', 'Vechain']\n",
    "crypto_df = crypto_df[~crypto_df.CoinName.isin(filter_list)]\n",
    "\n",
    "\n",
    "crypto_df"
   ]
  },
  {
   "cell_type": "code",
   "execution_count": 31,
   "metadata": {},
   "outputs": [
    {
     "data": {
      "text/plain": [
       "array(['Scrypt', 'X11', 'SHA-256', 'X13', 'Ethash', 'CryptoNight-V7',\n",
       "       'Equihash', 'SHA-512', 'Multiple', 'X15', 'NIST5', 'Quark',\n",
       "       'Groestl', 'PoS', 'NeoScrypt', 'SHA3', 'HybridScryptHash256',\n",
       "       'Scrypt-n', 'PHI1612', 'Lyra2REv2', 'CryptoNight', 'Shabal256',\n",
       "       'Counterparty', 'Blake', 'Momentum', 'Stanford Folding', 'QuBit',\n",
       "       'XG Hash', 'M7 POW', 'Curve25519', 'Lyra2RE', 'QUAIT', 'vDPOS',\n",
       "       'Blake2b', 'BLAKE256', '1GB AES Pattern Search', 'Dagger',\n",
       "       'CryptoNight-Lite', 'X11GOST', 'SHA-256D', 'POS 3.0',\n",
       "       'Progressive-n', 'DPoS', 'Lyra2Z', 'X14', 'Time Travel', 'Argon2',\n",
       "       'Keccak', 'Blake2S', 'Dagger-Hashimoto', '536', 'Argon2d',\n",
       "       'Cloverhash', 'Skein', 'SkunkHash v2 Raptor', 'Ouroboros',\n",
       "       'POS 2.0', 'SkunkHash', 'C11', 'Proof-of-BibleHash',\n",
       "       'SHA-256 + Hive', 'Proof-of-Authority', 'XEVAN', 'VBFT',\n",
       "       'YescryptR16', 'IMesh', 'Green Protocol', 'Semux BFT consensus',\n",
       "       'X16R', 'Tribus', 'CryptoNight Heavy', 'Jump Consistent Hash',\n",
       "       'HMQ1725', 'Zhash', 'Cryptonight-GPU', 'ECC 256K1',\n",
       "       'CryptoNight Heavy X', 'Rainforest', 'Exosis', 'CryptoNight-lite',\n",
       "       'QuarkTX', 'Leased POS', 'Equihash1927', 'T-Inside', 'SHA3-256',\n",
       "       'Equihash+Scrypt', 'Slatechain'], dtype=object)"
      ]
     },
     "execution_count": 31,
     "metadata": {},
     "output_type": "execute_result"
    }
   ],
   "source": [
    "# Keep all the cryptocurrencies that have a working algorithm.\n",
    "#crypto_df = crypto_df.loc[df['Algorithm'] != \"N/A\"]\n",
    "\n",
    "crypto_df.Algorithm.unique()\n",
    "\n",
    "#crypto_df.isna().any()"
   ]
  },
  {
   "cell_type": "code",
   "execution_count": 32,
   "metadata": {},
   "outputs": [],
   "source": [
    "# Remove the \"IsTrading\" column. \n",
    "crypto_df = crypto_df.drop('IsTrading', axis=1)"
   ]
  },
  {
   "cell_type": "code",
   "execution_count": 33,
   "metadata": {},
   "outputs": [
    {
     "name": "stdout",
     "output_type": "stream",
     "text": [
      "Column CoinName has 0 null values\n",
      "Column Algorithm has 0 null values\n",
      "Column ProofType has 0 null values\n",
      "Column TotalCoinsMined has 0 null values\n",
      "Column TotalCoinSupply has 0 null values\n"
     ]
    }
   ],
   "source": [
    "# Remove rows that have at least 1 null value.\n",
    "crypto_df = crypto_df.dropna()\n",
    "for column in crypto_df.columns:\n",
    "    print(f\"Column {column} has {crypto_df[column].isnull().sum()} null values\")"
   ]
  },
  {
   "cell_type": "code",
   "execution_count": 34,
   "metadata": {},
   "outputs": [
    {
     "data": {
      "text/html": [
       "<div>\n",
       "<style scoped>\n",
       "    .dataframe tbody tr th:only-of-type {\n",
       "        vertical-align: middle;\n",
       "    }\n",
       "\n",
       "    .dataframe tbody tr th {\n",
       "        vertical-align: top;\n",
       "    }\n",
       "\n",
       "    .dataframe thead th {\n",
       "        text-align: right;\n",
       "    }\n",
       "</style>\n",
       "<table border=\"1\" class=\"dataframe\">\n",
       "  <thead>\n",
       "    <tr style=\"text-align: right;\">\n",
       "      <th></th>\n",
       "      <th>CoinName</th>\n",
       "      <th>Algorithm</th>\n",
       "      <th>ProofType</th>\n",
       "      <th>TotalCoinsMined</th>\n",
       "      <th>TotalCoinSupply</th>\n",
       "    </tr>\n",
       "  </thead>\n",
       "  <tbody>\n",
       "    <tr>\n",
       "      <th>42</th>\n",
       "      <td>42 Coin</td>\n",
       "      <td>Scrypt</td>\n",
       "      <td>PoW/PoS</td>\n",
       "      <td>4.199995e+01</td>\n",
       "      <td>42</td>\n",
       "    </tr>\n",
       "    <tr>\n",
       "      <th>404</th>\n",
       "      <td>404Coin</td>\n",
       "      <td>Scrypt</td>\n",
       "      <td>PoW/PoS</td>\n",
       "      <td>1.055185e+09</td>\n",
       "      <td>532000000</td>\n",
       "    </tr>\n",
       "    <tr>\n",
       "      <th>1337</th>\n",
       "      <td>EliteCoin</td>\n",
       "      <td>X13</td>\n",
       "      <td>PoW/PoS</td>\n",
       "      <td>2.927942e+10</td>\n",
       "      <td>314159265359</td>\n",
       "    </tr>\n",
       "    <tr>\n",
       "      <th>BTC</th>\n",
       "      <td>Bitcoin</td>\n",
       "      <td>SHA-256</td>\n",
       "      <td>PoW</td>\n",
       "      <td>1.792718e+07</td>\n",
       "      <td>21000000</td>\n",
       "    </tr>\n",
       "    <tr>\n",
       "      <th>ETH</th>\n",
       "      <td>Ethereum</td>\n",
       "      <td>Ethash</td>\n",
       "      <td>PoW</td>\n",
       "      <td>1.076842e+08</td>\n",
       "      <td>0</td>\n",
       "    </tr>\n",
       "    <tr>\n",
       "      <th>...</th>\n",
       "      <td>...</td>\n",
       "      <td>...</td>\n",
       "      <td>...</td>\n",
       "      <td>...</td>\n",
       "      <td>...</td>\n",
       "    </tr>\n",
       "    <tr>\n",
       "      <th>ZEPH</th>\n",
       "      <td>ZEPHYR</td>\n",
       "      <td>SHA-256</td>\n",
       "      <td>DPoS</td>\n",
       "      <td>2.000000e+09</td>\n",
       "      <td>2000000000</td>\n",
       "    </tr>\n",
       "    <tr>\n",
       "      <th>GAP</th>\n",
       "      <td>Gapcoin</td>\n",
       "      <td>Scrypt</td>\n",
       "      <td>PoW/PoS</td>\n",
       "      <td>1.493105e+07</td>\n",
       "      <td>250000000</td>\n",
       "    </tr>\n",
       "    <tr>\n",
       "      <th>BDX</th>\n",
       "      <td>Beldex</td>\n",
       "      <td>CryptoNight</td>\n",
       "      <td>PoW</td>\n",
       "      <td>9.802226e+08</td>\n",
       "      <td>1400222610</td>\n",
       "    </tr>\n",
       "    <tr>\n",
       "      <th>ZEN</th>\n",
       "      <td>Horizen</td>\n",
       "      <td>Equihash</td>\n",
       "      <td>PoW</td>\n",
       "      <td>7.296538e+06</td>\n",
       "      <td>21000000</td>\n",
       "    </tr>\n",
       "    <tr>\n",
       "      <th>XBC</th>\n",
       "      <td>BitcoinPlus</td>\n",
       "      <td>Scrypt</td>\n",
       "      <td>PoS</td>\n",
       "      <td>1.283270e+05</td>\n",
       "      <td>1000000</td>\n",
       "    </tr>\n",
       "  </tbody>\n",
       "</table>\n",
       "<p>531 rows × 5 columns</p>\n",
       "</div>"
      ],
      "text/plain": [
       "         CoinName    Algorithm ProofType  TotalCoinsMined TotalCoinSupply\n",
       "42        42 Coin       Scrypt   PoW/PoS     4.199995e+01              42\n",
       "404       404Coin       Scrypt   PoW/PoS     1.055185e+09       532000000\n",
       "1337    EliteCoin          X13   PoW/PoS     2.927942e+10    314159265359\n",
       "BTC       Bitcoin      SHA-256       PoW     1.792718e+07        21000000\n",
       "ETH      Ethereum       Ethash       PoW     1.076842e+08               0\n",
       "...           ...          ...       ...              ...             ...\n",
       "ZEPH       ZEPHYR      SHA-256      DPoS     2.000000e+09      2000000000\n",
       "GAP       Gapcoin       Scrypt   PoW/PoS     1.493105e+07       250000000\n",
       "BDX        Beldex  CryptoNight       PoW     9.802226e+08      1400222610\n",
       "ZEN       Horizen     Equihash       PoW     7.296538e+06        21000000\n",
       "XBC   BitcoinPlus       Scrypt       PoS     1.283270e+05         1000000\n",
       "\n",
       "[531 rows x 5 columns]"
      ]
     },
     "execution_count": 34,
     "metadata": {},
     "output_type": "execute_result"
    }
   ],
   "source": [
    "# Keep the rows where coins are mined.\n",
    "crypto_df = crypto_df.loc[crypto_df ['TotalCoinsMined'] != 0]\n",
    "crypto_df"
   ]
  },
  {
   "cell_type": "code",
   "execution_count": 35,
   "metadata": {},
   "outputs": [
    {
     "data": {
      "text/plain": [
       "42          42 Coin\n",
       "404         404Coin\n",
       "1337      EliteCoin\n",
       "BTC         Bitcoin\n",
       "ETH        Ethereum\n",
       "           ...     \n",
       "ZEPH         ZEPHYR\n",
       "GAP         Gapcoin\n",
       "BDX          Beldex\n",
       "ZEN         Horizen\n",
       "XBC     BitcoinPlus\n",
       "Name: CoinName, Length: 531, dtype: object"
      ]
     },
     "execution_count": 35,
     "metadata": {},
     "output_type": "execute_result"
    }
   ],
   "source": [
    "# Create a new DataFrame that holds only the cryptocurrencies names.\n",
    "names_df = crypto_df['CoinName']\n",
    "names_df"
   ]
  },
  {
   "cell_type": "code",
   "execution_count": 36,
   "metadata": {},
   "outputs": [
    {
     "data": {
      "text/html": [
       "<div>\n",
       "<style scoped>\n",
       "    .dataframe tbody tr th:only-of-type {\n",
       "        vertical-align: middle;\n",
       "    }\n",
       "\n",
       "    .dataframe tbody tr th {\n",
       "        vertical-align: top;\n",
       "    }\n",
       "\n",
       "    .dataframe thead th {\n",
       "        text-align: right;\n",
       "    }\n",
       "</style>\n",
       "<table border=\"1\" class=\"dataframe\">\n",
       "  <thead>\n",
       "    <tr style=\"text-align: right;\">\n",
       "      <th></th>\n",
       "      <th>Algorithm</th>\n",
       "      <th>ProofType</th>\n",
       "      <th>TotalCoinsMined</th>\n",
       "      <th>TotalCoinSupply</th>\n",
       "    </tr>\n",
       "  </thead>\n",
       "  <tbody>\n",
       "    <tr>\n",
       "      <th>42</th>\n",
       "      <td>Scrypt</td>\n",
       "      <td>PoW/PoS</td>\n",
       "      <td>4.199995e+01</td>\n",
       "      <td>42</td>\n",
       "    </tr>\n",
       "    <tr>\n",
       "      <th>404</th>\n",
       "      <td>Scrypt</td>\n",
       "      <td>PoW/PoS</td>\n",
       "      <td>1.055185e+09</td>\n",
       "      <td>532000000</td>\n",
       "    </tr>\n",
       "    <tr>\n",
       "      <th>1337</th>\n",
       "      <td>X13</td>\n",
       "      <td>PoW/PoS</td>\n",
       "      <td>2.927942e+10</td>\n",
       "      <td>314159265359</td>\n",
       "    </tr>\n",
       "    <tr>\n",
       "      <th>BTC</th>\n",
       "      <td>SHA-256</td>\n",
       "      <td>PoW</td>\n",
       "      <td>1.792718e+07</td>\n",
       "      <td>21000000</td>\n",
       "    </tr>\n",
       "    <tr>\n",
       "      <th>ETH</th>\n",
       "      <td>Ethash</td>\n",
       "      <td>PoW</td>\n",
       "      <td>1.076842e+08</td>\n",
       "      <td>0</td>\n",
       "    </tr>\n",
       "    <tr>\n",
       "      <th>...</th>\n",
       "      <td>...</td>\n",
       "      <td>...</td>\n",
       "      <td>...</td>\n",
       "      <td>...</td>\n",
       "    </tr>\n",
       "    <tr>\n",
       "      <th>ZEPH</th>\n",
       "      <td>SHA-256</td>\n",
       "      <td>DPoS</td>\n",
       "      <td>2.000000e+09</td>\n",
       "      <td>2000000000</td>\n",
       "    </tr>\n",
       "    <tr>\n",
       "      <th>GAP</th>\n",
       "      <td>Scrypt</td>\n",
       "      <td>PoW/PoS</td>\n",
       "      <td>1.493105e+07</td>\n",
       "      <td>250000000</td>\n",
       "    </tr>\n",
       "    <tr>\n",
       "      <th>BDX</th>\n",
       "      <td>CryptoNight</td>\n",
       "      <td>PoW</td>\n",
       "      <td>9.802226e+08</td>\n",
       "      <td>1400222610</td>\n",
       "    </tr>\n",
       "    <tr>\n",
       "      <th>ZEN</th>\n",
       "      <td>Equihash</td>\n",
       "      <td>PoW</td>\n",
       "      <td>7.296538e+06</td>\n",
       "      <td>21000000</td>\n",
       "    </tr>\n",
       "    <tr>\n",
       "      <th>XBC</th>\n",
       "      <td>Scrypt</td>\n",
       "      <td>PoS</td>\n",
       "      <td>1.283270e+05</td>\n",
       "      <td>1000000</td>\n",
       "    </tr>\n",
       "  </tbody>\n",
       "</table>\n",
       "<p>531 rows × 4 columns</p>\n",
       "</div>"
      ],
      "text/plain": [
       "        Algorithm ProofType  TotalCoinsMined TotalCoinSupply\n",
       "42         Scrypt   PoW/PoS     4.199995e+01              42\n",
       "404        Scrypt   PoW/PoS     1.055185e+09       532000000\n",
       "1337          X13   PoW/PoS     2.927942e+10    314159265359\n",
       "BTC       SHA-256       PoW     1.792718e+07        21000000\n",
       "ETH        Ethash       PoW     1.076842e+08               0\n",
       "...           ...       ...              ...             ...\n",
       "ZEPH      SHA-256      DPoS     2.000000e+09      2000000000\n",
       "GAP        Scrypt   PoW/PoS     1.493105e+07       250000000\n",
       "BDX   CryptoNight       PoW     9.802226e+08      1400222610\n",
       "ZEN      Equihash       PoW     7.296538e+06        21000000\n",
       "XBC        Scrypt       PoS     1.283270e+05         1000000\n",
       "\n",
       "[531 rows x 4 columns]"
      ]
     },
     "execution_count": 36,
     "metadata": {},
     "output_type": "execute_result"
    }
   ],
   "source": [
    "# Drop the 'CoinName' column since it's not going to be used on the clustering algorithm.\n",
    "crypto_df = crypto_df.drop('CoinName', axis=1)\n",
    "crypto_df\n"
   ]
  },
  {
   "cell_type": "code",
   "execution_count": 37,
   "metadata": {},
   "outputs": [
    {
     "data": {
      "text/html": [
       "<div>\n",
       "<style scoped>\n",
       "    .dataframe tbody tr th:only-of-type {\n",
       "        vertical-align: middle;\n",
       "    }\n",
       "\n",
       "    .dataframe tbody tr th {\n",
       "        vertical-align: top;\n",
       "    }\n",
       "\n",
       "    .dataframe thead th {\n",
       "        text-align: right;\n",
       "    }\n",
       "</style>\n",
       "<table border=\"1\" class=\"dataframe\">\n",
       "  <thead>\n",
       "    <tr style=\"text-align: right;\">\n",
       "      <th></th>\n",
       "      <th>TotalCoinsMined</th>\n",
       "      <th>TotalCoinSupply</th>\n",
       "      <th>Algorithm_1GB AES Pattern Search</th>\n",
       "      <th>Algorithm_536</th>\n",
       "      <th>Algorithm_Argon2d</th>\n",
       "      <th>Algorithm_BLAKE256</th>\n",
       "      <th>Algorithm_Blake</th>\n",
       "      <th>Algorithm_Blake2S</th>\n",
       "      <th>Algorithm_Blake2b</th>\n",
       "      <th>Algorithm_C11</th>\n",
       "      <th>...</th>\n",
       "      <th>ProofType_PoW and PoS</th>\n",
       "      <th>ProofType_PoW/PoS</th>\n",
       "      <th>ProofType_PoW/PoS</th>\n",
       "      <th>ProofType_PoW/PoW</th>\n",
       "      <th>ProofType_PoW/nPoS</th>\n",
       "      <th>ProofType_Pos</th>\n",
       "      <th>ProofType_Proof of Trust</th>\n",
       "      <th>ProofType_TPoS</th>\n",
       "      <th>ProofType_Zero-Knowledge Proof</th>\n",
       "      <th>ProofType_dPoW/PoW</th>\n",
       "    </tr>\n",
       "  </thead>\n",
       "  <tbody>\n",
       "    <tr>\n",
       "      <th>42</th>\n",
       "      <td>4.199995e+01</td>\n",
       "      <td>42</td>\n",
       "      <td>0</td>\n",
       "      <td>0</td>\n",
       "      <td>0</td>\n",
       "      <td>0</td>\n",
       "      <td>0</td>\n",
       "      <td>0</td>\n",
       "      <td>0</td>\n",
       "      <td>0</td>\n",
       "      <td>...</td>\n",
       "      <td>0</td>\n",
       "      <td>1</td>\n",
       "      <td>0</td>\n",
       "      <td>0</td>\n",
       "      <td>0</td>\n",
       "      <td>0</td>\n",
       "      <td>0</td>\n",
       "      <td>0</td>\n",
       "      <td>0</td>\n",
       "      <td>0</td>\n",
       "    </tr>\n",
       "    <tr>\n",
       "      <th>404</th>\n",
       "      <td>1.055185e+09</td>\n",
       "      <td>532000000</td>\n",
       "      <td>0</td>\n",
       "      <td>0</td>\n",
       "      <td>0</td>\n",
       "      <td>0</td>\n",
       "      <td>0</td>\n",
       "      <td>0</td>\n",
       "      <td>0</td>\n",
       "      <td>0</td>\n",
       "      <td>...</td>\n",
       "      <td>0</td>\n",
       "      <td>1</td>\n",
       "      <td>0</td>\n",
       "      <td>0</td>\n",
       "      <td>0</td>\n",
       "      <td>0</td>\n",
       "      <td>0</td>\n",
       "      <td>0</td>\n",
       "      <td>0</td>\n",
       "      <td>0</td>\n",
       "    </tr>\n",
       "    <tr>\n",
       "      <th>1337</th>\n",
       "      <td>2.927942e+10</td>\n",
       "      <td>314159265359</td>\n",
       "      <td>0</td>\n",
       "      <td>0</td>\n",
       "      <td>0</td>\n",
       "      <td>0</td>\n",
       "      <td>0</td>\n",
       "      <td>0</td>\n",
       "      <td>0</td>\n",
       "      <td>0</td>\n",
       "      <td>...</td>\n",
       "      <td>0</td>\n",
       "      <td>1</td>\n",
       "      <td>0</td>\n",
       "      <td>0</td>\n",
       "      <td>0</td>\n",
       "      <td>0</td>\n",
       "      <td>0</td>\n",
       "      <td>0</td>\n",
       "      <td>0</td>\n",
       "      <td>0</td>\n",
       "    </tr>\n",
       "    <tr>\n",
       "      <th>BTC</th>\n",
       "      <td>1.792718e+07</td>\n",
       "      <td>21000000</td>\n",
       "      <td>0</td>\n",
       "      <td>0</td>\n",
       "      <td>0</td>\n",
       "      <td>0</td>\n",
       "      <td>0</td>\n",
       "      <td>0</td>\n",
       "      <td>0</td>\n",
       "      <td>0</td>\n",
       "      <td>...</td>\n",
       "      <td>0</td>\n",
       "      <td>0</td>\n",
       "      <td>0</td>\n",
       "      <td>0</td>\n",
       "      <td>0</td>\n",
       "      <td>0</td>\n",
       "      <td>0</td>\n",
       "      <td>0</td>\n",
       "      <td>0</td>\n",
       "      <td>0</td>\n",
       "    </tr>\n",
       "    <tr>\n",
       "      <th>ETH</th>\n",
       "      <td>1.076842e+08</td>\n",
       "      <td>0</td>\n",
       "      <td>0</td>\n",
       "      <td>0</td>\n",
       "      <td>0</td>\n",
       "      <td>0</td>\n",
       "      <td>0</td>\n",
       "      <td>0</td>\n",
       "      <td>0</td>\n",
       "      <td>0</td>\n",
       "      <td>...</td>\n",
       "      <td>0</td>\n",
       "      <td>0</td>\n",
       "      <td>0</td>\n",
       "      <td>0</td>\n",
       "      <td>0</td>\n",
       "      <td>0</td>\n",
       "      <td>0</td>\n",
       "      <td>0</td>\n",
       "      <td>0</td>\n",
       "      <td>0</td>\n",
       "    </tr>\n",
       "  </tbody>\n",
       "</table>\n",
       "<p>5 rows × 97 columns</p>\n",
       "</div>"
      ],
      "text/plain": [
       "      TotalCoinsMined TotalCoinSupply  Algorithm_1GB AES Pattern Search  \\\n",
       "42       4.199995e+01              42                                 0   \n",
       "404      1.055185e+09       532000000                                 0   \n",
       "1337     2.927942e+10    314159265359                                 0   \n",
       "BTC      1.792718e+07        21000000                                 0   \n",
       "ETH      1.076842e+08               0                                 0   \n",
       "\n",
       "      Algorithm_536  Algorithm_Argon2d  Algorithm_BLAKE256  Algorithm_Blake  \\\n",
       "42                0                  0                   0                0   \n",
       "404               0                  0                   0                0   \n",
       "1337              0                  0                   0                0   \n",
       "BTC               0                  0                   0                0   \n",
       "ETH               0                  0                   0                0   \n",
       "\n",
       "      Algorithm_Blake2S  Algorithm_Blake2b  Algorithm_C11  ...  \\\n",
       "42                    0                  0              0  ...   \n",
       "404                   0                  0              0  ...   \n",
       "1337                  0                  0              0  ...   \n",
       "BTC                   0                  0              0  ...   \n",
       "ETH                   0                  0              0  ...   \n",
       "\n",
       "      ProofType_PoW and PoS  ProofType_PoW/PoS  ProofType_PoW/PoS   \\\n",
       "42                        0                  1                   0   \n",
       "404                       0                  1                   0   \n",
       "1337                      0                  1                   0   \n",
       "BTC                       0                  0                   0   \n",
       "ETH                       0                  0                   0   \n",
       "\n",
       "      ProofType_PoW/PoW  ProofType_PoW/nPoS  ProofType_Pos  \\\n",
       "42                    0                   0              0   \n",
       "404                   0                   0              0   \n",
       "1337                  0                   0              0   \n",
       "BTC                   0                   0              0   \n",
       "ETH                   0                   0              0   \n",
       "\n",
       "      ProofType_Proof of Trust  ProofType_TPoS  \\\n",
       "42                           0               0   \n",
       "404                          0               0   \n",
       "1337                         0               0   \n",
       "BTC                          0               0   \n",
       "ETH                          0               0   \n",
       "\n",
       "      ProofType_Zero-Knowledge Proof  ProofType_dPoW/PoW  \n",
       "42                                 0                   0  \n",
       "404                                0                   0  \n",
       "1337                               0                   0  \n",
       "BTC                                0                   0  \n",
       "ETH                                0                   0  \n",
       "\n",
       "[5 rows x 97 columns]"
      ]
     },
     "execution_count": 37,
     "metadata": {},
     "output_type": "execute_result"
    }
   ],
   "source": [
    "# Use get_dummies() to create variables for text features\n",
    "x = pd.get_dummies(crypto_df, columns=[\"Algorithm\", \"ProofType\"])\n",
    "x.head()"
   ]
  },
  {
   "cell_type": "code",
   "execution_count": 48,
   "metadata": {},
   "outputs": [
    {
     "data": {
      "text/plain": [
       "1.0"
      ]
     },
     "execution_count": 48,
     "metadata": {},
     "output_type": "execute_result"
    }
   ],
   "source": [
    "# Standardize the data with StandardScaler().\n",
    "x = MinMaxScaler().fit_transform(x)\n",
    "x.max()"
   ]
  },
  {
   "cell_type": "markdown",
   "metadata": {},
   "source": [
    "### Deliverable 2: Reducing Data Dimensions Using PCA"
   ]
  },
  {
   "cell_type": "code",
   "execution_count": 49,
   "metadata": {},
   "outputs": [
    {
     "data": {
      "text/plain": [
       "0.9469980141741227"
      ]
     },
     "execution_count": 49,
     "metadata": {},
     "output_type": "execute_result"
    }
   ],
   "source": [
    "# Using PCA to reduce dimension to three principal components.\n",
    "pcs_df = PCA(n_components=3)\n",
    "\n",
    "x = pcs_df.fit_transform(x)\n",
    "\n",
    "x.max()"
   ]
  },
  {
   "cell_type": "code",
   "execution_count": 50,
   "metadata": {},
   "outputs": [
    {
     "data": {
      "text/plain": [
       "(531, 3)"
      ]
     },
     "execution_count": 50,
     "metadata": {},
     "output_type": "execute_result"
    }
   ],
   "source": [
    "# Create a DataFrame with the three principal components.\n",
    "pcs_df = pd.DataFrame(\n",
    "    data=x, columns=['PC1','PC2','PC3'],index = crypto_df.index)\n",
    "pcs_df.head()\n",
    "\n",
    "# Print the shape of the clustered_df\n",
    "pcs_df.shape"
   ]
  },
  {
   "cell_type": "markdown",
   "metadata": {},
   "source": [
    "### Deliverable 3: Clustering Crytocurrencies Using K-Means\n",
    "\n",
    "#### Finding the Best Value for `k` Using the Elbow Curve"
   ]
  },
  {
   "cell_type": "code",
   "execution_count": 51,
   "metadata": {},
   "outputs": [
    {
     "name": "stderr",
     "output_type": "stream",
     "text": [
      "C:\\Users\\Chapm\\.conda\\envs\\mlenv\\lib\\site-packages\\sklearn\\cluster\\_kmeans.py:1039: UserWarning:\n",
      "\n",
      "KMeans is known to have a memory leak on Windows with MKL, when there are less chunks than available threads. You can avoid it by setting the environment variable OMP_NUM_THREADS=3.\n",
      "\n"
     ]
    },
    {
     "data": {},
     "metadata": {},
     "output_type": "display_data"
    },
    {
     "data": {
      "application/vnd.holoviews_exec.v0+json": "",
      "text/html": [
       "<div id='1557'>\n",
       "  <div class=\"bk-root\" id=\"dbcee338-9f15-484d-b619-ce5420d11bf9\" data-root-id=\"1557\"></div>\n",
       "</div>\n",
       "<script type=\"application/javascript\">(function(root) {\n",
       "  function embed_document(root) {\n",
       "    var docs_json = {\"51307498-99c7-4693-afa7-cbf6dff2e5bd\":{\"defs\":[{\"extends\":null,\"module\":null,\"name\":\"ReactiveHTML1\",\"overrides\":[],\"properties\":[]},{\"extends\":null,\"module\":null,\"name\":\"FlexBox1\",\"overrides\":[],\"properties\":[{\"default\":\"flex-start\",\"kind\":null,\"name\":\"align_content\"},{\"default\":\"flex-start\",\"kind\":null,\"name\":\"align_items\"},{\"default\":\"row\",\"kind\":null,\"name\":\"flex_direction\"},{\"default\":\"wrap\",\"kind\":null,\"name\":\"flex_wrap\"},{\"default\":\"flex-start\",\"kind\":null,\"name\":\"justify_content\"}]},{\"extends\":null,\"module\":null,\"name\":\"GridStack1\",\"overrides\":[],\"properties\":[{\"default\":\"warn\",\"kind\":null,\"name\":\"mode\"},{\"default\":null,\"kind\":null,\"name\":\"ncols\"},{\"default\":null,\"kind\":null,\"name\":\"nrows\"},{\"default\":true,\"kind\":null,\"name\":\"allow_resize\"},{\"default\":true,\"kind\":null,\"name\":\"allow_drag\"},{\"default\":[],\"kind\":null,\"name\":\"state\"}]},{\"extends\":null,\"module\":null,\"name\":\"click1\",\"overrides\":[],\"properties\":[{\"default\":\"\",\"kind\":null,\"name\":\"terminal_output\"},{\"default\":\"\",\"kind\":null,\"name\":\"debug_name\"},{\"default\":0,\"kind\":null,\"name\":\"clears\"}]},{\"extends\":null,\"module\":null,\"name\":\"NotificationAreaBase1\",\"overrides\":[],\"properties\":[{\"default\":\"bottom-right\",\"kind\":null,\"name\":\"position\"},{\"default\":0,\"kind\":null,\"name\":\"_clear\"}]},{\"extends\":null,\"module\":null,\"name\":\"NotificationArea1\",\"overrides\":[],\"properties\":[{\"default\":[],\"kind\":null,\"name\":\"notifications\"},{\"default\":\"bottom-right\",\"kind\":null,\"name\":\"position\"},{\"default\":0,\"kind\":null,\"name\":\"_clear\"},{\"default\":[{\"background\":\"#ffc107\",\"icon\":{\"className\":\"fas fa-exclamation-triangle\",\"color\":\"white\",\"tagName\":\"i\"},\"type\":\"warning\"},{\"background\":\"#007bff\",\"icon\":{\"className\":\"fas fa-info-circle\",\"color\":\"white\",\"tagName\":\"i\"},\"type\":\"info\"}],\"kind\":null,\"name\":\"types\"}]},{\"extends\":null,\"module\":null,\"name\":\"Notification\",\"overrides\":[],\"properties\":[{\"default\":null,\"kind\":null,\"name\":\"background\"},{\"default\":3000,\"kind\":null,\"name\":\"duration\"},{\"default\":null,\"kind\":null,\"name\":\"icon\"},{\"default\":\"\",\"kind\":null,\"name\":\"message\"},{\"default\":null,\"kind\":null,\"name\":\"notification_type\"},{\"default\":false,\"kind\":null,\"name\":\"_destroyed\"}]},{\"extends\":null,\"module\":null,\"name\":\"TemplateActions1\",\"overrides\":[],\"properties\":[{\"default\":0,\"kind\":null,\"name\":\"open_modal\"},{\"default\":0,\"kind\":null,\"name\":\"close_modal\"}]},{\"extends\":null,\"module\":null,\"name\":\"MaterialTemplateActions1\",\"overrides\":[],\"properties\":[{\"default\":0,\"kind\":null,\"name\":\"open_modal\"},{\"default\":0,\"kind\":null,\"name\":\"close_modal\"}]}],\"roots\":{\"references\":[{\"attributes\":{},\"id\":\"1609\",\"type\":\"AllLabels\"},{\"attributes\":{\"line_alpha\":0.1,\"line_color\":\"#30a2da\",\"line_width\":2,\"x\":{\"field\":\"k\"},\"y\":{\"field\":\"inertia\"}},\"id\":\"1596\",\"type\":\"Line\"},{\"attributes\":{\"line_color\":\"#30a2da\",\"line_width\":2,\"x\":{\"field\":\"k\"},\"y\":{\"field\":\"inertia\"}},\"id\":\"1595\",\"type\":\"Line\"},{\"attributes\":{},\"id\":\"1583\",\"type\":\"ResetTool\"},{\"attributes\":{},\"id\":\"1581\",\"type\":\"WheelZoomTool\"},{\"attributes\":{},\"id\":\"1580\",\"type\":\"PanTool\"},{\"attributes\":{\"overlay\":{\"id\":\"1584\"}},\"id\":\"1582\",\"type\":\"BoxZoomTool\"},{\"attributes\":{\"data\":{\"inertia\":{\"__ndarray__\":\"xyZ4TYK1KkCk5PVSZ6EWQPPp58M2LgRAbofS/wxy/T+s2w8f6MP3Pxg9o3C3V/I/YIphpWA96z/xVOP90djjP1T9Gz7mRN8/\",\"dtype\":\"float64\",\"order\":\"little\",\"shape\":[9]},\"k\":[1,2,3,4,5,6,7,8,9]},\"selected\":{\"id\":\"1593\"},\"selection_policy\":{\"id\":\"1616\"}},\"id\":\"1592\",\"type\":\"ColumnDataSource\"},{\"attributes\":{\"ticks\":[1,2,3,4,5,6,7,8,9]},\"id\":\"1601\",\"type\":\"FixedTicker\"},{\"attributes\":{},\"id\":\"1576\",\"type\":\"BasicTicker\"},{\"attributes\":{},\"id\":\"1616\",\"type\":\"UnionRenderers\"},{\"attributes\":{\"margin\":[5,5,5,5],\"name\":\"HSpacer01438\",\"sizing_mode\":\"stretch_width\"},\"id\":\"1558\",\"type\":\"Spacer\"},{\"attributes\":{},\"id\":\"1567\",\"type\":\"LinearScale\"},{\"attributes\":{\"coordinates\":null,\"group\":null,\"text\":\"Elbow Visualization\",\"text_color\":\"black\",\"text_font_size\":\"12pt\"},\"id\":\"1563\",\"type\":\"Title\"},{\"attributes\":{\"axis\":{\"id\":\"1571\"},\"coordinates\":null,\"grid_line_color\":null,\"group\":null,\"ticker\":null},\"id\":\"1574\",\"type\":\"Grid\"},{\"attributes\":{\"callback\":null,\"renderers\":[{\"id\":\"1598\"}],\"tags\":[\"hv_created\"],\"tooltips\":[[\"k\",\"@{k}\"],[\"inertia\",\"@{inertia}\"]]},\"id\":\"1561\",\"type\":\"HoverTool\"},{\"attributes\":{},\"id\":\"1579\",\"type\":\"SaveTool\"},{\"attributes\":{\"tools\":[{\"id\":\"1561\"},{\"id\":\"1579\"},{\"id\":\"1580\"},{\"id\":\"1581\"},{\"id\":\"1582\"},{\"id\":\"1583\"}]},\"id\":\"1585\",\"type\":\"Toolbar\"},{\"attributes\":{},\"id\":\"1569\",\"type\":\"LinearScale\"},{\"attributes\":{},\"id\":\"1603\",\"type\":\"BasicTickFormatter\"},{\"attributes\":{\"bottom_units\":\"screen\",\"coordinates\":null,\"fill_alpha\":0.5,\"fill_color\":\"lightgrey\",\"group\":null,\"left_units\":\"screen\",\"level\":\"overlay\",\"line_alpha\":1.0,\"line_color\":\"black\",\"line_dash\":[4,4],\"line_width\":2,\"right_units\":\"screen\",\"syncable\":false,\"top_units\":\"screen\"},\"id\":\"1584\",\"type\":\"BoxAnnotation\"},{\"attributes\":{\"margin\":[5,5,5,5],\"name\":\"HSpacer01439\",\"sizing_mode\":\"stretch_width\"},\"id\":\"1619\",\"type\":\"Spacer\"},{\"attributes\":{\"axis_label\":\"Inertia\",\"coordinates\":null,\"formatter\":{\"id\":\"1608\"},\"group\":null,\"major_label_policy\":{\"id\":\"1609\"},\"ticker\":{\"id\":\"1576\"}},\"id\":\"1575\",\"type\":\"LinearAxis\"},{\"attributes\":{\"axis_label\":\"Number of Clusters\",\"coordinates\":null,\"formatter\":{\"id\":\"1603\"},\"group\":null,\"major_label_policy\":{\"id\":\"1604\"},\"ticker\":{\"id\":\"1601\"}},\"id\":\"1571\",\"type\":\"LinearAxis\"},{\"attributes\":{\"line_color\":\"#30a2da\",\"line_width\":2,\"x\":{\"field\":\"k\"},\"y\":{\"field\":\"inertia\"}},\"id\":\"1600\",\"type\":\"Line\"},{\"attributes\":{},\"id\":\"1604\",\"type\":\"AllLabels\"},{\"attributes\":{},\"id\":\"1608\",\"type\":\"BasicTickFormatter\"},{\"attributes\":{\"end\":14.641102702086693,\"reset_end\":14.641102702086693,\"reset_start\":-0.7980126622893156,\"start\":-0.7980126622893156,\"tags\":[[[\"inertia\",\"inertia\",null]]]},\"id\":\"1560\",\"type\":\"Range1d\"},{\"attributes\":{\"below\":[{\"id\":\"1571\"}],\"center\":[{\"id\":\"1574\"},{\"id\":\"1578\"}],\"height\":300,\"left\":[{\"id\":\"1575\"}],\"margin\":[5,5,5,5],\"min_border_bottom\":10,\"min_border_left\":10,\"min_border_right\":10,\"min_border_top\":10,\"renderers\":[{\"id\":\"1598\"}],\"sizing_mode\":\"fixed\",\"title\":{\"id\":\"1563\"},\"toolbar\":{\"id\":\"1585\"},\"width\":700,\"x_range\":{\"id\":\"1559\"},\"x_scale\":{\"id\":\"1567\"},\"y_range\":{\"id\":\"1560\"},\"y_scale\":{\"id\":\"1569\"}},\"id\":\"1562\",\"subtype\":\"Figure\",\"type\":\"Plot\"},{\"attributes\":{\"axis\":{\"id\":\"1575\"},\"coordinates\":null,\"dimension\":1,\"grid_line_color\":null,\"group\":null,\"ticker\":null},\"id\":\"1578\",\"type\":\"Grid\"},{\"attributes\":{\"coordinates\":null,\"data_source\":{\"id\":\"1592\"},\"glyph\":{\"id\":\"1595\"},\"group\":null,\"hover_glyph\":null,\"muted_glyph\":{\"id\":\"1597\"},\"nonselection_glyph\":{\"id\":\"1596\"},\"selection_glyph\":{\"id\":\"1600\"},\"view\":{\"id\":\"1599\"}},\"id\":\"1598\",\"type\":\"GlyphRenderer\"},{\"attributes\":{\"source\":{\"id\":\"1592\"}},\"id\":\"1599\",\"type\":\"CDSView\"},{\"attributes\":{\"line_alpha\":0.2,\"line_color\":\"#30a2da\",\"line_width\":2,\"x\":{\"field\":\"k\"},\"y\":{\"field\":\"inertia\"}},\"id\":\"1597\",\"type\":\"Line\"},{\"attributes\":{\"end\":9.0,\"reset_end\":9.0,\"reset_start\":1.0,\"start\":1.0,\"tags\":[[[\"k\",\"k\",null]]]},\"id\":\"1559\",\"type\":\"Range1d\"},{\"attributes\":{\"children\":[{\"id\":\"1558\"},{\"id\":\"1562\"},{\"id\":\"1619\"}],\"margin\":[0,0,0,0],\"name\":\"Row01434\",\"tags\":[\"embedded\"]},\"id\":\"1557\",\"type\":\"Row\"},{\"attributes\":{},\"id\":\"1593\",\"type\":\"Selection\"}],\"root_ids\":[\"1557\"]},\"title\":\"Bokeh Application\",\"version\":\"2.4.3\"}};\n",
       "    var render_items = [{\"docid\":\"51307498-99c7-4693-afa7-cbf6dff2e5bd\",\"root_ids\":[\"1557\"],\"roots\":{\"1557\":\"dbcee338-9f15-484d-b619-ce5420d11bf9\"}}];\n",
       "    root.Bokeh.embed.embed_items_notebook(docs_json, render_items);\n",
       "  }\n",
       "  if (root.Bokeh !== undefined && root.Bokeh.Panel !== undefined) {\n",
       "    embed_document(root);\n",
       "  } else {\n",
       "    var attempts = 0;\n",
       "    var timer = setInterval(function(root) {\n",
       "      if (root.Bokeh !== undefined && root.Bokeh.Panel !== undefined) {\n",
       "        clearInterval(timer);\n",
       "        embed_document(root);\n",
       "      } else if (document.readyState == \"complete\") {\n",
       "        attempts++;\n",
       "        if (attempts > 200) {\n",
       "          clearInterval(timer);\n",
       "          console.log(\"Bokeh: ERROR: Unable to run BokehJS code because BokehJS library is missing\");\n",
       "        }\n",
       "      }\n",
       "    }, 25, root)\n",
       "  }\n",
       "})(window);</script>"
      ],
      "text/plain": [
       ":Curve   [k]   (inertia)"
      ]
     },
     "execution_count": 51,
     "metadata": {
      "application/vnd.holoviews_exec.v0+json": {
       "id": "1557"
      }
     },
     "output_type": "execute_result"
    }
   ],
   "source": [
    "# Create an elbow curve to find the best value for K.\n",
    "# Finding the best value for k\n",
    "inertia = []\n",
    "k = list(range(1,10))\n",
    "\n",
    "# Calculate the inertia for the range of k values\n",
    "for i in k:\n",
    "    km = KMeans(n_clusters=i, random_state=1)\n",
    "    km.fit(pcs_df)\n",
    "    inertia.append(km.inertia_)\n",
    "\n",
    "# Creating the Elbow Curve\n",
    "elbow_data = {\"k\": k, \"inertia\": inertia}\n",
    "df_elbow = pd.DataFrame(elbow_data)\n",
    "\n",
    "df_elbow.hvplot.line(x=\"k\", y=\"inertia\", xticks=k, title=\"Elbow Visualization\", xlabel=\"Number of Clusters\", ylabel=\"Inertia\")"
   ]
  },
  {
   "cell_type": "markdown",
   "metadata": {},
   "source": [
    "Running K-Means with `k=4`"
   ]
  },
  {
   "cell_type": "code",
   "execution_count": 52,
   "metadata": {},
   "outputs": [],
   "source": [
    "# Initialize the K-Means model.\n",
    "model = KMeans(n_clusters=4, random_state=1)\n",
    "\n",
    "# Fit the model\n",
    "model.fit(x)\n",
    "\n",
    "# Predict clusters\n",
    "predictions = model.predict(x)"
   ]
  },
  {
   "cell_type": "code",
   "execution_count": 53,
   "metadata": {},
   "outputs": [
    {
     "data": {
      "text/plain": [
       "array([1, 1, 0, 0, 3, 0, 1, 3, 3, 3, 1, 3, 1, 1, 0, 1, 0, 0, 1, 1, 3, 3,\n",
       "       0, 0, 0, 1, 0, 0, 0, 1, 0, 1, 0, 0, 0, 1, 3, 0, 0, 0, 0, 0, 1, 1,\n",
       "       0, 0, 0, 0, 0, 1, 1, 3, 1, 0, 0, 0, 0, 1, 0, 3, 1, 0, 1, 1, 1, 0,\n",
       "       0, 0, 1, 1, 1, 1, 1, 0, 0, 0, 1, 1, 0, 1, 0, 1, 1, 0, 0, 0, 0, 1,\n",
       "       1, 0, 1, 0, 0, 1, 1, 0, 1, 1, 3, 3, 1, 1, 0, 1, 1, 0, 1, 0, 1, 0,\n",
       "       1, 0, 1, 1, 0, 3, 1, 3, 0, 0, 1, 0, 3, 0, 0, 0, 1, 1, 0, 3, 0, 1,\n",
       "       0, 1, 0, 0, 1, 3, 1, 3, 1, 1, 0, 0, 1, 0, 3, 1, 1, 0, 1, 0, 1, 1,\n",
       "       1, 0, 3, 0, 3, 1, 0, 1, 1, 1, 0, 0, 1, 1, 1, 1, 1, 0, 1, 1, 1, 1,\n",
       "       1, 0, 1, 0, 1, 1, 3, 1, 0, 1, 1, 3, 1, 0, 1, 0, 1, 0, 1, 1, 1, 1,\n",
       "       3, 1, 1, 1, 1, 1, 3, 3, 1, 1, 0, 0, 1, 1, 1, 1, 1, 0, 1, 1, 1, 1,\n",
       "       1, 1, 1, 1, 3, 1, 1, 1, 1, 1, 1, 0, 3, 3, 1, 1, 1, 1, 0, 1, 3, 1,\n",
       "       1, 0, 1, 0, 3, 1, 0, 3, 1, 3, 1, 1, 1, 0, 1, 1, 0, 1, 1, 1, 1, 1,\n",
       "       1, 1, 0, 1, 0, 1, 1, 1, 1, 0, 1, 3, 1, 3, 3, 3, 3, 1, 0, 1, 1, 0,\n",
       "       1, 0, 0, 0, 1, 3, 1, 3, 3, 0, 1, 0, 1, 0, 1, 1, 0, 1, 3, 0, 0, 0,\n",
       "       0, 1, 1, 3, 1, 1, 1, 3, 1, 0, 1, 0, 1, 3, 1, 1, 1, 1, 3, 1, 1, 0,\n",
       "       1, 1, 1, 0, 0, 3, 0, 1, 1, 1, 1, 3, 1, 3, 3, 3, 1, 1, 0, 3, 1, 1,\n",
       "       0, 1, 3, 0, 0, 1, 0, 0, 1, 1, 1, 0, 0, 0, 1, 0, 1, 3, 3, 1, 3, 0,\n",
       "       3, 0, 1, 2, 2, 0, 0, 0, 1, 2, 1, 1, 1, 1, 3, 3, 0, 3, 1, 1, 1, 3,\n",
       "       1, 3, 1, 1, 1, 1, 0, 1, 1, 3, 1, 1, 0, 3, 1, 3, 1, 3, 3, 3, 3, 1,\n",
       "       1, 3, 1, 3, 1, 1, 3, 1, 1, 1, 0, 3, 0, 1, 1, 1, 1, 1, 1, 0, 1, 3,\n",
       "       3, 0, 3, 1, 1, 1, 1, 0, 1, 1, 0, 1, 1, 0, 2, 3, 1, 3, 0, 1, 1, 3,\n",
       "       1, 3, 3, 1, 3, 0, 1, 3, 1, 3, 1, 1, 0, 1, 1, 1, 1, 1, 0, 0, 0, 1,\n",
       "       1, 1, 0, 1, 0, 1, 3, 1, 1, 1, 1, 0, 1, 1, 1, 0, 1, 0, 1, 0, 1, 1,\n",
       "       1, 0, 0, 1, 1, 1, 1, 1, 1, 2, 3, 1, 3, 1, 3, 1, 1, 2, 1, 1, 1, 1,\n",
       "       3, 3, 1])"
      ]
     },
     "execution_count": 53,
     "metadata": {},
     "output_type": "execute_result"
    }
   ],
   "source": [
    "predictions"
   ]
  },
  {
   "cell_type": "code",
   "execution_count": 54,
   "metadata": {
    "scrolled": true
   },
   "outputs": [
    {
     "name": "stdout",
     "output_type": "stream",
     "text": [
      "(531, 9)\n"
     ]
    },
    {
     "data": {
      "text/plain": [
       "(531, 9)"
      ]
     },
     "execution_count": 54,
     "metadata": {},
     "output_type": "execute_result"
    }
   ],
   "source": [
    "# Create a new DataFrame including predicted clusters and cryptocurrencies features.\n",
    "# Concatentate the crypto_df and pcs_df DataFrames on the same columns.\n",
    "clustered_df = pd.concat([crypto_df, pcs_df, names_df], axis=1)\n",
    "\n",
    "#  Add a new column, \"CoinName\" to the clustered_df DataFrame that holds the names of the cryptocurrencies. \n",
    "# YOUR CODE HERE\n",
    "\n",
    "#  Add a new column, \"Class\" to the clustered_df DataFrame that holds the predictions.\n",
    "# YOUR CODE HERE\n",
    "clustered_df[\"Class\"] = predictions.tolist()\n",
    "\n",
    "# Print the shape of the clustered_df\n",
    "print(clustered_df.shape)\n",
    "\n",
    "# Print the shape of the clustered_df\n",
    "clustered_df.shape"
   ]
  },
  {
   "cell_type": "markdown",
   "metadata": {},
   "source": [
    "### Deliverable 4: Visualizing Cryptocurrencies Results\n",
    "\n",
    "#### 3D-Scatter with Clusters"
   ]
  },
  {
   "cell_type": "code",
   "execution_count": null,
   "metadata": {},
   "outputs": [],
   "source": []
  },
  {
   "cell_type": "code",
   "execution_count": 55,
   "metadata": {},
   "outputs": [
    {
     "data": {
      "application/vnd.plotly.v1+json": {
       "config": {
        "plotlyServerURL": "https://plot.ly"
       },
       "data": [
        {
         "customdata": [
          [
           "Scrypt"
          ],
          [
           "Scrypt"
          ],
          [
           "X11"
          ],
          [
           "SHA-512"
          ],
          [
           "SHA-256"
          ],
          [
           "SHA-256"
          ],
          [
           "X15"
          ],
          [
           "Scrypt"
          ],
          [
           "Scrypt"
          ],
          [
           "Scrypt"
          ],
          [
           "Scrypt"
          ],
          [
           "Scrypt"
          ],
          [
           "Groestl"
          ],
          [
           "PoS"
          ],
          [
           "Scrypt"
          ],
          [
           "Scrypt"
          ],
          [
           "X11"
          ],
          [
           "X11"
          ],
          [
           "SHA3"
          ],
          [
           "Scrypt"
          ],
          [
           "SHA-256"
          ],
          [
           "Scrypt"
          ],
          [
           "X13"
          ],
          [
           "X13"
          ],
          [
           "NeoScrypt"
          ],
          [
           "Scrypt"
          ],
          [
           "Scrypt"
          ],
          [
           "Scrypt"
          ],
          [
           "X11"
          ],
          [
           "X11"
          ],
          [
           "Multiple"
          ],
          [
           "PHI1612"
          ],
          [
           "X11"
          ],
          [
           "Scrypt"
          ],
          [
           "Scrypt"
          ],
          [
           "Scrypt"
          ],
          [
           "X11"
          ],
          [
           "Multiple"
          ],
          [
           "X13"
          ],
          [
           "Scrypt"
          ],
          [
           "Shabal256"
          ],
          [
           "Counterparty"
          ],
          [
           "SHA-256"
          ],
          [
           "Groestl"
          ],
          [
           "Scrypt"
          ],
          [
           "X13"
          ],
          [
           "Scrypt"
          ],
          [
           "Scrypt"
          ],
          [
           "X13"
          ],
          [
           "X11"
          ],
          [
           "Scrypt"
          ],
          [
           "X11"
          ],
          [
           "SHA3"
          ],
          [
           "QUAIT"
          ],
          [
           "X11"
          ],
          [
           "Scrypt"
          ],
          [
           "X13"
          ],
          [
           "SHA-256"
          ],
          [
           "X15"
          ],
          [
           "BLAKE256"
          ],
          [
           "SHA-256"
          ],
          [
           "X11"
          ],
          [
           "SHA-256"
          ],
          [
           "NIST5"
          ],
          [
           "Scrypt"
          ],
          [
           "Scrypt"
          ],
          [
           "X11"
          ],
          [
           "SHA-256"
          ],
          [
           "Scrypt"
          ],
          [
           "PoS"
          ],
          [
           "X11"
          ],
          [
           "SHA-256"
          ],
          [
           "SHA-256"
          ],
          [
           "NIST5"
          ],
          [
           "X11"
          ],
          [
           "POS 3.0"
          ],
          [
           "Scrypt"
          ],
          [
           "Scrypt"
          ],
          [
           "Scrypt"
          ],
          [
           "X13"
          ],
          [
           "X11"
          ],
          [
           "X11"
          ],
          [
           "Scrypt"
          ],
          [
           "SHA-256"
          ],
          [
           "X11"
          ],
          [
           "Scrypt"
          ],
          [
           "Scrypt"
          ],
          [
           "Scrypt"
          ],
          [
           "Scrypt"
          ],
          [
           "SHA-256D"
          ],
          [
           "PoS"
          ],
          [
           "Scrypt"
          ],
          [
           "X11"
          ],
          [
           "PoS"
          ],
          [
           "X13"
          ],
          [
           "X14"
          ],
          [
           "PoS"
          ],
          [
           "SHA-256D"
          ],
          [
           "DPoS"
          ],
          [
           "X11"
          ],
          [
           "X13"
          ],
          [
           "X11"
          ],
          [
           "PoS"
          ],
          [
           "Scrypt"
          ],
          [
           "Scrypt"
          ],
          [
           "PoS"
          ],
          [
           "X11"
          ],
          [
           "SHA-256"
          ],
          [
           "Scrypt"
          ],
          [
           "X11"
          ],
          [
           "Scrypt"
          ],
          [
           "Scrypt"
          ],
          [
           "X11"
          ],
          [
           "Scrypt"
          ],
          [
           "Scrypt"
          ],
          [
           "Scrypt"
          ],
          [
           "Scrypt"
          ],
          [
           "Quark"
          ],
          [
           "QuBit"
          ],
          [
           "Scrypt"
          ],
          [
           "SHA-256"
          ],
          [
           "X11"
          ],
          [
           "Scrypt"
          ],
          [
           "Scrypt"
          ],
          [
           "Scrypt"
          ],
          [
           "Scrypt"
          ],
          [
           "X13"
          ],
          [
           "Scrypt"
          ],
          [
           "Scrypt"
          ],
          [
           "X11"
          ],
          [
           "Blake2S"
          ],
          [
           "X11"
          ],
          [
           "PoS"
          ],
          [
           "X11"
          ],
          [
           "PoS"
          ],
          [
           "X11"
          ],
          [
           "Scrypt"
          ],
          [
           "Scrypt"
          ],
          [
           "Scrypt"
          ],
          [
           "SHA-256"
          ],
          [
           "X11"
          ],
          [
           "Scrypt"
          ],
          [
           "PoS"
          ],
          [
           "Scrypt"
          ],
          [
           "X15"
          ],
          [
           "SHA-256"
          ],
          [
           "POS 3.0"
          ],
          [
           "536"
          ],
          [
           "NIST5"
          ],
          [
           "NIST5"
          ],
          [
           "Skein"
          ],
          [
           "X13"
          ],
          [
           "Scrypt"
          ],
          [
           "X13"
          ],
          [
           "SkunkHash v2 Raptor"
          ],
          [
           "Skein"
          ],
          [
           "X11"
          ],
          [
           "Scrypt"
          ],
          [
           "PoS"
          ],
          [
           "Scrypt"
          ],
          [
           "Scrypt"
          ],
          [
           "SHA-512"
          ],
          [
           "Ouroboros"
          ],
          [
           "X11"
          ],
          [
           "NeoScrypt"
          ],
          [
           "Scrypt"
          ],
          [
           "Lyra2REv2"
          ],
          [
           "Scrypt"
          ],
          [
           "SHA-256"
          ],
          [
           "NIST5"
          ],
          [
           "PHI1612"
          ],
          [
           "Scrypt"
          ],
          [
           "Quark"
          ],
          [
           "POS 2.0"
          ],
          [
           "Scrypt"
          ],
          [
           "SHA-256"
          ],
          [
           "X11"
          ],
          [
           "DPoS"
          ],
          [
           "NIST5"
          ],
          [
           "X13"
          ],
          [
           "Scrypt"
          ],
          [
           "NIST5"
          ],
          [
           "Quark"
          ],
          [
           "Scrypt"
          ],
          [
           "Scrypt"
          ],
          [
           "X11"
          ],
          [
           "Quark"
          ],
          [
           "Scrypt"
          ],
          [
           "Scrypt"
          ],
          [
           "X11"
          ],
          [
           "POS 3.0"
          ],
          [
           "Scrypt"
          ],
          [
           "Scrypt"
          ],
          [
           "X13"
          ],
          [
           "C11"
          ],
          [
           "X11"
          ],
          [
           "XEVAN"
          ],
          [
           "Scrypt"
          ],
          [
           "VBFT"
          ],
          [
           "NIST5"
          ],
          [
           "Scrypt"
          ],
          [
           "Scrypt"
          ],
          [
           "Scrypt"
          ],
          [
           "Green Protocol"
          ],
          [
           "PoS"
          ],
          [
           "Scrypt"
          ],
          [
           "Semux BFT consensus"
          ],
          [
           "Quark"
          ],
          [
           "PoS"
          ],
          [
           "X16R"
          ],
          [
           "Scrypt"
          ],
          [
           "XEVAN"
          ],
          [
           "Scrypt"
          ],
          [
           "Scrypt"
          ],
          [
           "Scrypt"
          ],
          [
           "SHA-256D"
          ],
          [
           "Scrypt"
          ],
          [
           "X15"
          ],
          [
           "Quark"
          ],
          [
           "SHA-256"
          ],
          [
           "DPoS"
          ],
          [
           "X16R"
          ],
          [
           "Quark"
          ],
          [
           "Quark"
          ],
          [
           "Scrypt"
          ],
          [
           "Lyra2REv2"
          ],
          [
           "Quark"
          ],
          [
           "Scrypt"
          ],
          [
           "X11"
          ],
          [
           "X11"
          ],
          [
           "Scrypt"
          ],
          [
           "PoS"
          ],
          [
           "Keccak"
          ],
          [
           "X11"
          ],
          [
           "Scrypt"
          ],
          [
           "SHA-512"
          ],
          [
           "XEVAN"
          ],
          [
           "XEVAN"
          ],
          [
           "X11"
          ],
          [
           "Quark"
          ],
          [
           "Equihash"
          ],
          [
           "Scrypt"
          ],
          [
           "Quark"
          ],
          [
           "Quark"
          ],
          [
           "Scrypt"
          ],
          [
           "X11"
          ],
          [
           "Scrypt"
          ],
          [
           "XEVAN"
          ],
          [
           "SHA-256D"
          ],
          [
           "X11"
          ],
          [
           "X11"
          ],
          [
           "DPoS"
          ],
          [
           "Scrypt"
          ],
          [
           "X11"
          ],
          [
           "Scrypt"
          ],
          [
           "Scrypt"
          ],
          [
           "SHA-256"
          ],
          [
           "Scrypt"
          ],
          [
           "X11"
          ],
          [
           "Scrypt"
          ],
          [
           "SHA-256"
          ],
          [
           "X11"
          ],
          [
           "Scrypt"
          ],
          [
           "Scrypt"
          ],
          [
           "X11"
          ],
          [
           "Scrypt"
          ],
          [
           "PoS"
          ],
          [
           "X11"
          ],
          [
           "SHA-256"
          ],
          [
           "DPoS"
          ],
          [
           "Scrypt"
          ],
          [
           "Scrypt"
          ],
          [
           "NeoScrypt"
          ],
          [
           "X13"
          ],
          [
           "DPoS"
          ],
          [
           "DPoS"
          ],
          [
           "SHA-256"
          ],
          [
           "PoS"
          ],
          [
           "PoS"
          ],
          [
           "SHA-256"
          ],
          [
           "Scrypt"
          ],
          [
           "Scrypt"
          ]
         ],
         "hovertemplate": "<b>%{hovertext}</b><br><br>Class=%{marker.color}<br>PC1=%{x}<br>PC2=%{y}<br>PC3=%{z}<br>Algorithm=%{customdata[0]}<extra></extra>",
         "hovertext": [
          "42 Coin",
          "404Coin",
          "Dash",
          "Bitshares",
          "BitcoinDark",
          "PayCoin",
          "KoboCoin",
          "Aurora Coin",
          "BlueCoin",
          "EnergyCoin",
          "BitBar",
          "CryptoBullion",
          "Diamond",
          "Exclusive Coin",
          "FlutterCoin",
          "HoboNickels",
          "HyperStake",
          "IOCoin",
          "MaxCoin",
          "MintCoin",
          "MazaCoin",
          "Nautilus Coin",
          "NavCoin",
          "OpalCoin",
          "Orbitcoin",
          "PotCoin",
          "PhoenixCoin",
          "Reddcoin",
          "SuperCoin",
          "SyncCoin",
          "TeslaCoin",
          "TittieCoin",
          "TorCoin",
          "UnitaryStatus Dollar",
          "UltraCoin",
          "VeriCoin",
          "X11 Coin",
          "Crypti",
          "StealthCoin",
          "ZCC Coin",
          "BurstCoin",
          "StorjCoin",
          "Neutron",
          "FairCoin",
          "RubyCoin",
          "Kore",
          "Dnotes",
          "8BIT Coin",
          "Sativa Coin",
          "Ucoin",
          "Vtorrent",
          "IslaCoin",
          "Nexus",
          "Droidz",
          "Squall Coin",
          "Diggits",
          "Paycon",
          "Emercoin",
          "EverGreenCoin",
          "Decred",
          "EDRCoin",
          "Hitcoin",
          "DubaiCoin",
          "PWR Coin",
          "BillaryCoin",
          "GPU Coin",
          "EuropeCoin",
          "SwingCoin",
          "SafeExchangeCoin",
          "Nebuchadnezzar",
          "Ratecoin",
          "Revenu",
          "Clockcoin",
          "VIP Tokens",
          "BitSend",
          "Let it Ride",
          "PutinCoin",
          "iBankCoin",
          "Frankywillcoin",
          "MudraCoin",
          "Lutetium Coin",
          "GoldBlocks",
          "CarterCoin",
          "BitTokens",
          "MustangCoin",
          "ZoneCoin",
          "RootCoin",
          "BitCurrency",
          "Swiscoin",
          "BuzzCoin",
          "Opair",
          "PesoBit",
          "Halloween Coin",
          "CoffeeCoin",
          "RoyalCoin",
          "GanjaCoin V2",
          "TeamUP",
          "LanaCoin",
          "ARK",
          "InsaneCoin",
          "EmberCoin",
          "XenixCoin",
          "FreeCoin",
          "PLNCoin",
          "AquariusCoin",
          "Creatio",
          "Eternity",
          "Eurocoin",
          "BitcoinFast",
          "Stakenet",
          "BitConnect Coin",
          "MoneyCoin",
          "Enigma",
          "Russiacoin",
          "PandaCoin",
          "GameUnits",
          "GAKHcoin",
          "Allsafe",
          "LiteCreed",
          "Klingon Empire Darsek",
          "Internet of People",
          "KushCoin",
          "Printerium",
          "Impeach",
          "Zilbercoin",
          "FirstCoin",
          "FindCoin",
          "OpenChat",
          "RenosCoin",
          "VirtacoinPlus",
          "TajCoin",
          "Impact",
          "Atmos",
          "HappyCoin",
          "MacronCoin",
          "Condensate",
          "Independent Money System",
          "ArgusCoin",
          "LomoCoin",
          "ProCurrency",
          "GoldReserve",
          "GrowthCoin",
          "Phreak",
          "Degas Coin",
          "HTML5 Coin",
          "Ultimate Secure Cash",
          "QTUM",
          "Espers",
          "Denarius",
          "Virta Unique Coin",
          "Bitcoin Planet",
          "BritCoin",
          "Linda",
          "DeepOnion",
          "Signatum",
          "Cream",
          "Monoeci",
          "Draftcoin",
          "Stakecoin",
          "CoinonatX",
          "Ethereum Dark",
          "Obsidian",
          "Cardano",
          "Regalcoin",
          "TrezarCoin",
          "TerraNovaCoin",
          "Rupee",
          "WomenCoin",
          "Theresa May Coin",
          "NamoCoin",
          "LUXCoin",
          "Xios",
          "Bitcloud 2.0",
          "KekCoin",
          "BlackholeCoin",
          "Infinity Economics",
          "Magnet",
          "Lamden Tau",
          "Electra",
          "Bitcoin Diamond",
          "Cash & Back Coin",
          "Bulwark",
          "Kalkulus",
          "GermanCoin",
          "LiteCoin Ultra",
          "PhantomX",
          "Digiwage",
          "Trollcoin",
          "Litecoin Plus",
          "Monkey Project",
          "TokenPay",
          "My Big Coin",
          "Unified Society USDEX",
          "Tokyo Coin",
          "Stipend",
          "Pushi",
          "Ellerium",
          "Velox",
          "Ontology",
          "Bitspace",
          "Briacoin",
          "Ignition",
          "MedicCoin",
          "Bitcoin Green",
          "Deviant Coin",
          "Abjcoin",
          "Semux",
          "Carebit",
          "Zealium",
          "Proton",
          "iDealCash",
          "Bitcoin Incognito",
          "HollyWoodCoin",
          "Swisscoin",
          "Xt3ch",
          "TheVig",
          "EmaratCoin",
          "Dekado",
          "Poseidon Quark",
          "BitcoinWSpectrum",
          "Muse",
          "Trivechain",
          "Dystem",
          "Giant",
          "Peony Coin",
          "Absolute Coin",
          "Vitae",
          "TPCash",
          "ARENON",
          "EUNO",
          "MMOCoin",
          "Ketan",
          "XDNA",
          "PAXEX",
          "ThunderStake",
          "Kcash",
          "Bettex coin",
          "BitMoney",
          "Junson Ming Chan Coin",
          "HerbCoin",
          "PirateCash",
          "Oduwa",
          "Galilel",
          "Crypto Sports",
          "Credit",
          "Dash Platinum",
          "Nasdacoin",
          "Beetle Coin",
          "Titan Coin",
          "Award",
          "Insane Coin",
          "ALAX",
          "LiteDoge",
          "TruckCoin",
          "OrangeCoin",
          "BitstarCoin",
          "NeosCoin",
          "HyperCoin",
          "PinkCoin",
          "AudioCoin",
          "IncaKoin",
          "Piggy Coin",
          "Genstake",
          "XiaoMiCoin",
          "CapriCoin",
          " ClubCoin",
          "Radium",
          "Creditbit ",
          "OKCash",
          "Lisk",
          "HiCoin",
          "WhiteCoin",
          "FriendshipCoin",
          "Triangles Coin",
          "EOS",
          "Oxycoin",
          "TigerCash",
          "Particl",
          "Nxt",
          "ZEPHYR",
          "Gapcoin",
          "BitcoinPlus"
         ],
         "legendgroup": "1",
         "marker": {
          "color": [
           1,
           1,
           1,
           1,
           1,
           1,
           1,
           1,
           1,
           1,
           1,
           1,
           1,
           1,
           1,
           1,
           1,
           1,
           1,
           1,
           1,
           1,
           1,
           1,
           1,
           1,
           1,
           1,
           1,
           1,
           1,
           1,
           1,
           1,
           1,
           1,
           1,
           1,
           1,
           1,
           1,
           1,
           1,
           1,
           1,
           1,
           1,
           1,
           1,
           1,
           1,
           1,
           1,
           1,
           1,
           1,
           1,
           1,
           1,
           1,
           1,
           1,
           1,
           1,
           1,
           1,
           1,
           1,
           1,
           1,
           1,
           1,
           1,
           1,
           1,
           1,
           1,
           1,
           1,
           1,
           1,
           1,
           1,
           1,
           1,
           1,
           1,
           1,
           1,
           1,
           1,
           1,
           1,
           1,
           1,
           1,
           1,
           1,
           1,
           1,
           1,
           1,
           1,
           1,
           1,
           1,
           1,
           1,
           1,
           1,
           1,
           1,
           1,
           1,
           1,
           1,
           1,
           1,
           1,
           1,
           1,
           1,
           1,
           1,
           1,
           1,
           1,
           1,
           1,
           1,
           1,
           1,
           1,
           1,
           1,
           1,
           1,
           1,
           1,
           1,
           1,
           1,
           1,
           1,
           1,
           1,
           1,
           1,
           1,
           1,
           1,
           1,
           1,
           1,
           1,
           1,
           1,
           1,
           1,
           1,
           1,
           1,
           1,
           1,
           1,
           1,
           1,
           1,
           1,
           1,
           1,
           1,
           1,
           1,
           1,
           1,
           1,
           1,
           1,
           1,
           1,
           1,
           1,
           1,
           1,
           1,
           1,
           1,
           1,
           1,
           1,
           1,
           1,
           1,
           1,
           1,
           1,
           1,
           1,
           1,
           1,
           1,
           1,
           1,
           1,
           1,
           1,
           1,
           1,
           1,
           1,
           1,
           1,
           1,
           1,
           1,
           1,
           1,
           1,
           1,
           1,
           1,
           1,
           1,
           1,
           1,
           1,
           1,
           1,
           1,
           1,
           1,
           1,
           1,
           1,
           1,
           1,
           1,
           1,
           1,
           1,
           1,
           1,
           1,
           1,
           1,
           1,
           1,
           1,
           1,
           1,
           1,
           1,
           1,
           1,
           1,
           1,
           1,
           1,
           1,
           1,
           1,
           1,
           1,
           1,
           1,
           1,
           1,
           1,
           1,
           1,
           1,
           1,
           1,
           1,
           1,
           1,
           1,
           1,
           1,
           1,
           1
          ],
          "coloraxis": "coloraxis",
          "symbol": "circle"
         },
         "mode": "markers",
         "name": "1",
         "scene": "scene",
         "showlegend": true,
         "type": "scatter3d",
         "x": [
          -0.09110494500811109,
          -0.08968262419168334,
          -0.1130884907873229,
          -0.15692916355356856,
          -0.07869202679950639,
          -0.067703142483877,
          -0.14440136156872457,
          -0.0910776843625475,
          -0.09036673566704147,
          -0.09096197576130582,
          -0.09110471097151664,
          -0.09110336860172225,
          -0.08685627635057419,
          -0.1527117814959716,
          -0.03975525036990008,
          -0.09095692629876728,
          -0.10017711709994022,
          -0.11307847686707424,
          -0.1799989333001841,
          -0.05538658250431056,
          -0.07593342727347985,
          -0.0801002190452213,
          -0.14391414702952357,
          -0.14397331626331253,
          -0.05581017860100646,
          -0.09069115541173585,
          -0.09098283399633751,
          -0.05704732242388712,
          -0.10206824276469184,
          -0.11310710512536504,
          -0.023653923305475277,
          -0.1492111087406639,
          -0.11310175072012396,
          -0.08923739886936621,
          -0.09100965710427701,
          -0.0392237683346458,
          -0.11309700069986023,
          -0.023667917484260618,
          -0.14395247737346573,
          -0.0905637484704477,
          -0.08469133683854864,
          -0.1526636439189797,
          -0.07863108785775409,
          -0.08679993435151069,
          -0.08009340923003261,
          -0.14398414347717653,
          -0.07973746055956955,
          -0.09110323979498947,
          -0.14397898681865973,
          -0.10211664257922913,
          -0.09108407783036467,
          -0.11310534830284735,
          -0.20537525230338188,
          -0.1657266564214651,
          -0.09427037747549377,
          -0.0799718883979697,
          -0.1439456909728688,
          -0.07828235531400042,
          -0.14453484925952922,
          -0.05247590118078105,
          -0.07868926084911622,
          -0.09052798059490585,
          -0.07869181204614174,
          -0.1186199572913044,
          -0.09107898146192774,
          -0.0799963389103321,
          -0.11295321735788709,
          -0.07868179221560107,
          -0.03856041218611073,
          -0.15268775941267432,
          -0.11292309138300122,
          -0.07861801399199904,
          -0.078488424354339,
          -0.1301880465268828,
          -0.1130274460058296,
          -0.14473817335700453,
          -0.08942179253189486,
          -0.09108331571070828,
          -0.0909518424152302,
          -0.13293130796967279,
          -0.10112126838706381,
          -0.11307056201231226,
          -0.0910215630806769,
          -0.07869320166912099,
          -0.11310523504425642,
          -0.09109419082567201,
          -0.09110269138899875,
          -0.07992795834443978,
          -0.038745163704905494,
          -0.13208619816548942,
          -0.1526050447024482,
          -0.09106599947695683,
          -0.11224571286634194,
          -0.15253083618447097,
          -0.1330071425317454,
          -0.16532150062167267,
          -0.15258652937757036,
          -0.15818728529855106,
          -0.1895161034341547,
          -0.11307471890624274,
          -0.03657120954259286,
          -0.1131012073163373,
          -0.15264182861551917,
          -0.09107085950260109,
          -0.09108659001396675,
          -0.15268775941267432,
          -0.1130778995298,
          -0.07867983763892451,
          -0.09106924056529503,
          -0.07321771099598935,
          -0.09108173245067541,
          -0.09085199754298091,
          -0.1131043140726047,
          -0.09104203746646396,
          -0.028835562550147135,
          -0.09109610982428436,
          -0.09109986851134856,
          -0.1438805068686431,
          -0.06323423456487554,
          -0.09089246927795898,
          -0.0786909587198062,
          -0.11309707822616373,
          -0.0910838257217011,
          -0.09109648777307194,
          -0.08010128596322731,
          -0.0529087896036315,
          -0.1329887323544503,
          -0.08957391850057451,
          -0.08007039665760814,
          -0.11305488815862408,
          -0.17126314163210704,
          -0.11293796158039084,
          -0.15254854035384546,
          -0.11304517751168738,
          -0.15210431799003638,
          -0.11278112712524084,
          -0.0910908747158743,
          -0.09109304994285318,
          -0.09073509657503781,
          -0.03990981275482198,
          -0.11307238715051694,
          -0.0790435795486837,
          -0.15269406921856107,
          -0.09104135823721261,
          -0.06409021335003513,
          -0.0676357931967559,
          -0.14464227322076864,
          -0.06748159417322093,
          -0.13030969104882106,
          -0.13020079423203015,
          -0.1650947539411323,
          -0.14395513788043166,
          -0.062133534666362455,
          -0.14395848352459473,
          -0.1510060087440908,
          -0.16504767082427735,
          -0.11308899368141251,
          -0.0800968813703687,
          -0.15269098603595715,
          -0.09106442687999995,
          -0.09109851476081239,
          -0.16138099018903468,
          -0.05456212313380055,
          -0.11308869947573949,
          -0.05545542347603245,
          -0.09109781000301193,
          -0.07340925520228325,
          -0.02557502859827249,
          -0.07855778043116175,
          -0.12922386938382513,
          -0.1628933252396845,
          -0.09109469303315611,
          -0.15476868607443045,
          -0.13953996829956916,
          -0.09108047490781242,
          -0.05394245488186928,
          -0.11300955476546881,
          -0.18916864102103265,
          -0.08624723428996862,
          -0.1437001558087555,
          -0.09089847037560345,
          -0.11931265115347031,
          -0.1438711811355129,
          -0.06693558476217876,
          -0.09103977361369604,
          -0.11303616193340096,
          -0.14382223723773915,
          -0.09008597824683334,
          -0.09110055839264249,
          -0.10211427806031334,
          -0.1447623910247964,
          -0.04733211088259932,
          -0.09074644023298968,
          -0.13244800435550122,
          -0.09541387747825893,
          -0.11309535667903146,
          -0.1331361545376323,
          -0.08004949567882247,
          -0.14139607569844356,
          -0.13028374832092457,
          -0.0911028548422589,
          -0.09110172535691108,
          -0.07962982177738055,
          -0.15127641588977397,
          -0.1526604690730778,
          -0.0910823882817773,
          -0.18686255423085885,
          -0.1546420217657858,
          -0.15267597175906947,
          -0.0736168614991789,
          -0.0875822817638149,
          -0.11430202719767985,
          -0.08007042211461213,
          -0.07548847403964966,
          -0.08009987905912964,
          -0.1621406786506158,
          -0.09104883336624647,
          -0.13351190846524913,
          -0.14365508540280172,
          -0.06761750798315386,
          -0.16660193487437044,
          -0.0845451711742838,
          -0.14388228234698208,
          -0.1548694398990866,
          -0.07389054309771594,
          -0.08439107801905534,
          -0.1437845995540028,
          -0.09072939953857985,
          -0.10208445660006717,
          -0.11305289485000242,
          -0.07990378583603526,
          -0.15262999786570478,
          -0.08675001644475756,
          -0.10208499277828004,
          -0.08322671680651539,
          -0.19539949767886294,
          -0.12215249496473568,
          -0.07280414489669086,
          -0.08213336985674947,
          -0.15481725431748977,
          -0.01667581492521614,
          -0.0910800225021124,
          -0.15484997009846035,
          -0.14389108023452102,
          -0.027671682649440477,
          -0.10211904684892473,
          -0.0910500564793949,
          -0.132743045712189,
          -0.15932852646757298,
          -0.1129340998669577,
          -0.11306840689869477,
          -0.18815694005447448,
          -0.06038372421516742,
          -0.11282529422328509,
          -0.09102698223315032,
          -0.0910610050743025,
          -0.06770883665148687,
          -0.09109375593958503,
          -0.11241553532273738,
          -0.08608826028750811,
          -0.05778985098402445,
          -0.11216365072496347,
          -0.09102970052090921,
          -0.09048751973956388,
          -0.1127963623871068,
          -0.09092547861108909,
          -0.15271061716909456,
          -0.07084332307352355,
          -0.07857611934709026,
          -0.18948948876146116,
          -0.06481117836635897,
          -0.09070139506640086,
          -0.05579179255483652,
          -0.14399071644335323,
          -0.1885023398887403,
          -0.18838402895886502,
          -0.06619066744496893,
          -0.15270440686762451,
          -0.1708118279955633,
          -0.08771785747528338,
          -0.09099528189137741,
          -0.08012447270249874
         ],
         "y": [
          -0.038614433120227526,
          -0.038647351174313054,
          -0.03190524369903618,
          0.009232235605814461,
          -0.025683394788678794,
          -0.002962982361122769,
          -0.04700840854858197,
          -0.03861488887374804,
          -0.03863887747631053,
          -0.038619167267642925,
          -0.0386144275445885,
          -0.038614458668111085,
          -0.03299483825410483,
          0.0007719194329980959,
          -0.019097660225004157,
          -0.038616136129595746,
          -0.009248823898239514,
          -0.0319055752903715,
          -0.03556810439425183,
          -0.016712635676283404,
          -0.025710848209331495,
          -0.0158938608138848,
          -0.045165502310539764,
          -0.04516354303737266,
          -0.024527890368955165,
          -0.03861694075869032,
          -0.038615864609521294,
          -0.0397421845183473,
          -0.009186202979675609,
          -0.031905213657609996,
          0.009622557517442782,
          -0.016367893491557678,
          -0.0319051244564694,
          -0.03863362870215214,
          -0.03861492310920747,
          -0.024697050207254666,
          -0.031905401681868534,
          0.009620355622986557,
          -0.04516423307635229,
          -0.03860570094110654,
          -0.013895904641557138,
          -0.005488357144009312,
          -0.025684186631500756,
          -0.03299682064838732,
          -0.015894517550554644,
          -0.045162864681303976,
          -0.015892977671642782,
          -0.03861448958613598,
          -0.04516308873962536,
          -0.009184067257862182,
          -0.03861459104017493,
          -0.031905271857996,
          -0.012838182243055303,
          -0.04601655354771342,
          0.007429861741467852,
          -0.01589587619040021,
          -0.04516312515257777,
          -0.025670893776744984,
          -0.04701261594384291,
          -0.03190713373877687,
          -0.025683486377702933,
          -0.03194524415532138,
          -0.02568370840750406,
          -0.04005580714548821,
          -0.03861417343388872,
          -0.015891840162888235,
          -0.03190007468444712,
          -0.025683253935693613,
          -0.020658492089947075,
          0.0007716570456582614,
          -0.03190930797536891,
          -0.0256804956858776,
          -0.02567673030468553,
          -0.03967035379553346,
          -0.03190414669471679,
          -0.00843226117859601,
          -0.03861686173055138,
          -0.03861396772378136,
          -0.03861683752928124,
          -0.022439305935689338,
          -0.009200049261994359,
          -0.03190509109567898,
          -0.03861479539456725,
          -0.025683382538017507,
          -0.0319051956498047,
          -0.0386142295153208,
          -0.038614507745525134,
          -0.015899996132240742,
          -0.015867474102069047,
          -0.053001985825877236,
          0.0007703573636977425,
          -0.03861572272625262,
          -0.03189375773629999,
          0.0007669938947581619,
          -0.022442058755937935,
          -0.042957339683751324,
          0.0007757944602618573,
          -0.05247070011449262,
          0.02189671672953272,
          -0.031905486505136485,
          -0.04869729830800725,
          -0.03190530627653363,
          0.0007709357226391408,
          -0.038614534595482565,
          -0.03861392149160561,
          0.0007716570456582614,
          -0.03190458159974872,
          -0.025683851714517845,
          -0.038614735860164714,
          0.000304344235135863,
          -0.03861445548008494,
          -0.038605467046670325,
          -0.03190517284029029,
          -0.038612678171930384,
          -0.01672520568626933,
          -0.03861437919418414,
          -0.038614512844381894,
          -0.013545953975180955,
          -0.024923305168078377,
          -0.038608142417315874,
          -0.025683456808886437,
          -0.03190529639468205,
          -0.038614599388259015,
          -0.03861412858043371,
          -0.01589279082164134,
          -0.013254889813352965,
          -0.02244234787969566,
          -0.038638477219854604,
          -0.015894362004741248,
          -0.03190427746248844,
          -0.04188982009371568,
          -0.03190788272845033,
          0.0007694535654323061,
          -0.031904599011522636,
          0.0007624656070152312,
          -0.03190268138536451,
          -0.03861433366816746,
          -0.03861406473181556,
          -0.038600027084575654,
          -0.0018846739559658433,
          -0.03190529718823067,
          -0.0158759749171278,
          0.0007721325109338157,
          -0.03861374012413249,
          -0.04727832743093252,
          -0.002960212848581385,
          -0.008433664309555763,
          -0.04931211310365652,
          -0.039668458003090386,
          -0.0396691320949965,
          -0.049373261090923576,
          -0.04516334539360569,
          -0.03824112244763073,
          -0.045163530504015524,
          -0.00692383938240139,
          -0.04937482015602497,
          -0.03190556001342273,
          -0.01589393866095854,
          0.0007728726462768223,
          -0.038614488746761676,
          -0.038614534104440185,
          0.00928611945311546,
          -0.01250658045623445,
          -0.03190510352451599,
          -0.02452907673358986,
          -0.0386142500450051,
          -0.0019439833251544175,
          -0.040118006760136535,
          -0.025685761172242867,
          -0.039672695976052406,
          -0.03905907707371043,
          -0.03861421288570462,
          -0.03626502348114533,
          -0.009440145252391459,
          -0.03861484925115031,
          -0.00317909812936313,
          -0.03190460586385053,
          0.02189520600890651,
          -0.04032818112155443,
          -0.045166991113331736,
          -0.03861567302705585,
          -0.01694759024458041,
          -0.01354612951433666,
          -0.03808211197381884,
          -0.038612593217921244,
          -0.03190623018684582,
          -0.01354508491130074,
          -0.03862418664957329,
          -0.03861447176414746,
          -0.009184118901427632,
          -0.00843168580717047,
          -0.022853836464316185,
          -0.0386201208446167,
          -0.022439317881791543,
          -0.03070373389001372,
          -0.03190493638996636,
          -0.021346983532967972,
          -0.015892666709235195,
          -0.0012386516558817039,
          -0.039668250931960566,
          -0.03861442237456342,
          -0.0386144064695712,
          -0.015896541918873627,
          0.00045891612446396135,
          0.0007725657728585763,
          -0.038614380457838875,
          0.02790665543953026,
          -0.03626921772138246,
          0.0007728658911699936,
          -0.003627812487872609,
          -0.038594564648878636,
          0.017987138536070237,
          -0.01589458574990746,
          -0.03885968294571603,
          -0.015893130589779488,
          -0.05253718219632591,
          -0.03861405230958292,
          -0.024291380188428743,
          -0.01353649381006914,
          -0.0029634788674888944,
          0.00710863846234823,
          -0.02634948320523158,
          -0.013545735266641904,
          -0.03626688049549078,
          -0.015650013319662474,
          -0.024664123176392667,
          -0.013546864266253438,
          -0.038600215730768106,
          -0.00918420018396969,
          -0.03190567610911984,
          -0.01589386681841518,
          0.0007748084253535502,
          -0.03677790889525652,
          -0.009182983051567324,
          -0.038395554036999936,
          0.03556037630334734,
          0.001373588575278551,
          0.018285173410136715,
          -0.009846307210831599,
          -0.03626730655400517,
          0.005627271733887144,
          -0.038614698671576436,
          -0.036267155125073836,
          -0.01354564730303378,
          -0.03872126861596378,
          -0.009183995641037876,
          -0.03861401180858908,
          -0.021348273310279903,
          -0.052499702174031077,
          -0.031899748220346955,
          -0.03190569551489083,
          0.021875031936230055,
          -0.038698856627334216,
          -0.031914545299754335,
          -0.038611684137284115,
          -0.038614442026310404,
          -0.0029625672607654393,
          -0.03861480362541324,
          -0.031914787241109015,
          -0.038500695953778974,
          -0.026371051681542728,
          -0.03190980148446266,
          -0.038616524902375444,
          -0.03862421681156704,
          -0.03190995952954618,
          -0.038616111344415845,
          0.0007721207541787735,
          -0.004455524732454741,
          -0.025685020650785536,
          0.0218967661114436,
          -0.01613379474289,
          -0.03861980003370135,
          -0.0245269960159501,
          -0.04516296366618506,
          0.02185981633204442,
          0.02185589869756729,
          -0.002986745324650954,
          0.0007719053610128873,
          0.025450114749486136,
          0.011779209036608437,
          -0.03861140118982427,
          -0.015893462291725835
         ],
         "z": [
          -0.00024761994273103834,
          -0.00022375309697018558,
          0.00027453786250732955,
          -0.00027597865386022445,
          0.0001386897611532926,
          2.7394465358334267e-05,
          0.002568665324566873,
          -0.0002472077690757003,
          -0.00023333084643521268,
          -0.0002448525685005233,
          -0.00024761885613093016,
          -0.0002475963164483098,
          0.00018898967127841225,
          0.000524863175672825,
          -0.001982336614897043,
          -0.00024558134136957527,
          0.00020054118898445706,
          0.00027473169623412104,
          -9.838755219001357e-05,
          0.00011969369513338273,
          0.00017557543117642667,
          -0.00035878547419047695,
          0.00012174025366326735,
          0.00012059494864583146,
          -0.00023208084067004542,
          -0.0002425032473819346,
          -0.0002459312945755444,
          0.00041161397913282014,
          0.00016393575109509861,
          0.0002743290758026822,
          -0.0002985856006348889,
          9.74516392688596e-05,
          0.00027436384881454097,
          -0.00022249108565068162,
          -0.0002464642693419207,
          0.0014601124506812917,
          0.0002744867864561078,
          -0.00029816771759366283,
          0.00012099831511805507,
          -0.00024403191415410053,
          -0.0007006442263221392,
          -0.0019883870061672953,
          0.00013955249163179396,
          0.0001901104188338398,
          -0.00035854221906704374,
          0.00012030272121679856,
          -0.000355096126013905,
          -0.00024758693560648427,
          0.00012041631091355821,
          0.0001628611514955166,
          -0.00024735378048793894,
          0.0002743630884990082,
          -0.0005230887073031815,
          0.0004498875705806537,
          -0.00019489239886625784,
          -0.00035687877017918733,
          0.0001207852954149559,
          0.00013988346150852122,
          0.002568311010730657,
          -0.00011276937984460158,
          0.00013874330007309014,
          0.0005285144078323217,
          0.00013877312545231205,
          0.00035053131403308866,
          -0.00024740666027726416,
          -0.00035818580730222015,
          0.00027466296042352224,
          0.00013876388927632136,
          -0.0005619783523071938,
          0.0005251904053288636,
          0.00027737436118993077,
          0.00013873987051262116,
          0.00013916631264506072,
          0.00012599454258879604,
          0.00027491362181205676,
          -0.00023337893346028765,
          -0.00022881532973965485,
          -0.0002475066269246685,
          -0.0002453451834723931,
          8.884990363359707e-06,
          0.0001777406369735863,
          0.00027469204665122633,
          -0.0002466258504819997,
          0.00013867390747769804,
          0.0002743446179700686,
          -0.0002475564195576852,
          -0.0002475763204254168,
          -0.0003553396809019402,
          -0.0004669584988410333,
          0.0008504436428781449,
          0.0005264195360748248,
          -0.0002468660960694237,
          0.00028067115464355276,
          0.0005280901271384208,
          8.777404967323326e-06,
          -0.0005186523803779266,
          0.0005252144406202875,
          0.0004312735463062087,
          0.00265710901181624,
          0.0002747493361041301,
          0.002193661638254694,
          0.0002744167030192761,
          0.0005258728333930329,
          -0.00024722561704746754,
          -0.00024755393466744725,
          0.0005251904053288636,
          0.00027448114248620527,
          0.00013893947497041682,
          -0.00024715612288026895,
          -0.00010651176045804735,
          -0.0002473634831431738,
          -0.0002472052700124107,
          0.00027434866948447035,
          -0.00024739409205002744,
          0.0004096767454465694,
          -0.00024753846368778327,
          -0.0002475445174373404,
          -5.537737613256489e-05,
          0.0008873406835808855,
          -0.00024695097303671166,
          0.0001387173229647368,
          0.0002744587409996506,
          -0.0002473489005646957,
          -0.00024760730868248826,
          -0.000359073502682423,
          -0.0025387906701754177,
          9.050938683944855e-06,
          -0.00022487234154692603,
          -0.00035833389341803444,
          0.0002746510562945063,
          -0.0003494728695320962,
          0.00027684546115921456,
          0.0005272633070939346,
          0.0002748390197334309,
          0.0005338664579019614,
          0.00027719505061903944,
          -0.00024749369252228604,
          -0.00024758668192851674,
          -0.0002473486014144912,
          4.888988079577369e-05,
          0.0002747255945304787,
          -0.0003519964734850899,
          0.000524999393989507,
          -0.0002471123280589439,
          0.003505728628435082,
          2.7406101385476083e-05,
          -0.0002319806750088194,
          -0.0004057784895748892,
          0.00012419094743551366,
          0.00012554116444421344,
          -0.00011478057738536507,
          0.00012074018909949537,
          -3.121710036245512e-05,
          0.0001207518942614462,
          -0.001247222688182419,
          -0.00011386921642094772,
          0.00027461417323867466,
          -0.0003587293121798793,
          0.000524841425360274,
          -0.00024716799685662656,
          -0.0002475244037573411,
          -0.00033798026449668767,
          0.0004594417559195093,
          0.00027449938502707206,
          -0.00022794312377265557,
          -0.0002475901991891107,
          -0.0015353023355254983,
          0.0008486150815167413,
          0.00014075105824713974,
          0.0001370123281451401,
          0.00017210730861725213,
          -0.00024756614050068027,
          5.6658436451559496e-05,
          -0.0006767828543365061,
          -0.0002472481444878805,
          0.00023184988801989634,
          0.00027522549430127925,
          0.00266125179168495,
          0.0007705234911726435,
          0.00012443596258629572,
          -0.00024506972781855114,
          1.2866060680761712e-05,
          -5.523130126791622e-05,
          -0.00012416763760068867,
          -0.0002473915975681286,
          0.0002753579093040751,
          -5.497268258772284e-05,
          -0.0002340952288335344,
          -0.00024756258364908924,
          0.00016290003253224017,
          -0.000233789156374481,
          -0.00030467370972413595,
          -0.00024227849457790016,
          1.4107459866767166e-05,
          0.0003475221014887145,
          0.00027438430055756237,
          -0.0007313180846366967,
          -0.0003585462724137021,
          2.2602187391611717e-05,
          0.00012441760183931462,
          -0.00024760014710737755,
          -0.000247592059512617,
          -0.0003530126236695861,
          -0.0002109836106523313,
          0.0005252502917818824,
          -0.0002473899528978398,
          0.002648829459709324,
          5.911020503010804e-05,
          0.0005250053159841794,
          0.00025984189390977646,
          -0.0002147117342284718,
          -0.0012003212823662249,
          -0.00035827634831363063,
          -1.5594401864477977e-05,
          -0.00035897050640524935,
          0.00040575956426039893,
          -0.00024711238018158344,
          0.002457170740358809,
          -5.538765000698281e-05,
          2.8447572135561066e-05,
          0.0012957266949016643,
          0.00037211652476245053,
          -5.5453068672745034e-05,
          5.6050244958946906e-05,
          -0.00035473963511649316,
          -0.0014240012188035218,
          -5.4106399398762307e-05,
          -0.0002472383271381142,
          0.0001632430909611268,
          0.00027503401980757443,
          -0.0003566625644080677,
          0.0005249998178808179,
          -5.00914646257943e-05,
          0.00016292277030584862,
          -0.00021910244910592838,
          -0.0007964425439111113,
          -0.0008427110689867335,
          -0.0026599253922900286,
          0.000549803684498045,
          5.6723918868659294e-05,
          -0.0004825942130259301,
          -0.0002472821714219288,
          5.63314763855934e-05,
          -5.557081193477421e-05,
          0.00046502869080639725,
          0.00016281667970315683,
          -0.00024713605528324035,
          -0.0007267394475030959,
          0.00042644352824137033,
          0.0002747850530332112,
          0.0002748715140241891,
          0.0026773909068851034,
          0.00010596703319339,
          0.00027978393514401824,
          -0.0002474883823089059,
          -0.0002471431169122441,
          2.7225701982338135e-05,
          -0.0002474033620415796,
          0.0002842716020448835,
          -0.0002228346829310878,
          0.0005421241063034551,
          0.0002857033863609917,
          -0.00024626679199133767,
          -0.00023842383607112575,
          0.00027891133060883345,
          -0.00024524813060775936,
          0.000524823724450203,
          0.0018409757795102147,
          0.00014036164432242235,
          0.002657383672717485,
          -0.00013166970867288616,
          -0.0002418749380933928,
          -0.00023211340055433413,
          0.00012025731680012767,
          0.0026775928034020527,
          0.0026798828804053057,
          4.9869071129595025e-05,
          0.0005249464536024883,
          0.0032000896502245896,
          0.0014319471447475523,
          -0.000247219157101889,
          -0.00035915038454080255
         ]
        },
        {
         "customdata": [
          [
           "X13"
          ],
          [
           "SHA-256"
          ],
          [
           "Scrypt"
          ],
          [
           "Scrypt"
          ],
          [
           "X11"
          ],
          [
           "Scrypt"
          ],
          [
           "SHA-256"
          ],
          [
           "Scrypt"
          ],
          [
           "Scrypt"
          ],
          [
           "Quark"
          ],
          [
           "Groestl"
          ],
          [
           "Scrypt"
          ],
          [
           "Scrypt"
          ],
          [
           "Scrypt"
          ],
          [
           "X11"
          ],
          [
           "Scrypt"
          ],
          [
           "SHA-256"
          ],
          [
           "Scrypt"
          ],
          [
           "Scrypt"
          ],
          [
           "Scrypt"
          ],
          [
           "Scrypt"
          ],
          [
           "Scrypt"
          ],
          [
           "NeoScrypt"
          ],
          [
           "Scrypt"
          ],
          [
           "Scrypt"
          ],
          [
           "Scrypt"
          ],
          [
           "SHA-256"
          ],
          [
           "Scrypt"
          ],
          [
           "Scrypt"
          ],
          [
           "Scrypt"
          ],
          [
           "Scrypt"
          ],
          [
           "Scrypt"
          ],
          [
           "Scrypt"
          ],
          [
           "SHA-256"
          ],
          [
           "Scrypt"
          ],
          [
           "Scrypt"
          ],
          [
           "Scrypt"
          ],
          [
           "Scrypt"
          ],
          [
           "SHA-256"
          ],
          [
           "SHA-256"
          ],
          [
           "SHA-256"
          ],
          [
           "SHA-256"
          ],
          [
           "SHA-256"
          ],
          [
           "X11"
          ],
          [
           "Scrypt"
          ],
          [
           "Lyra2REv2"
          ],
          [
           "Scrypt"
          ],
          [
           "SHA-256"
          ],
          [
           "Scrypt"
          ],
          [
           "Scrypt"
          ],
          [
           "Scrypt"
          ],
          [
           "Scrypt"
          ],
          [
           "Scrypt"
          ],
          [
           "Scrypt"
          ],
          [
           "QuBit"
          ],
          [
           "Scrypt"
          ],
          [
           "Scrypt"
          ],
          [
           "Scrypt"
          ],
          [
           "SHA-256"
          ],
          [
           "Scrypt"
          ],
          [
           "X11"
          ],
          [
           "SHA-256"
          ],
          [
           "X11"
          ],
          [
           "Scrypt"
          ],
          [
           "Scrypt"
          ],
          [
           "X11"
          ],
          [
           "SHA-256"
          ],
          [
           "Scrypt"
          ],
          [
           "Scrypt"
          ],
          [
           "SHA-256"
          ],
          [
           "X11"
          ],
          [
           "Scrypt"
          ],
          [
           "Scrypt"
          ],
          [
           "Scrypt"
          ],
          [
           "X11"
          ],
          [
           "Scrypt"
          ],
          [
           "X11"
          ],
          [
           "Equihash"
          ],
          [
           "SHA-256"
          ],
          [
           "Scrypt"
          ],
          [
           "SHA-256"
          ],
          [
           "Scrypt"
          ],
          [
           "Scrypt"
          ],
          [
           "X11"
          ],
          [
           "X11"
          ],
          [
           "Scrypt"
          ],
          [
           "X11"
          ],
          [
           "Scrypt"
          ],
          [
           "X11"
          ],
          [
           "Scrypt"
          ],
          [
           "Scrypt"
          ],
          [
           "NIST5"
          ],
          [
           "Scrypt"
          ],
          [
           "SHA-256"
          ],
          [
           "Scrypt"
          ],
          [
           "X11"
          ],
          [
           "Scrypt"
          ],
          [
           "Scrypt"
          ],
          [
           "X11"
          ],
          [
           "X11"
          ],
          [
           "Keccak"
          ],
          [
           "X11"
          ],
          [
           "SHA-256"
          ],
          [
           "Scrypt"
          ],
          [
           "Scrypt"
          ],
          [
           "Scrypt"
          ],
          [
           "Scrypt"
          ],
          [
           "Scrypt"
          ],
          [
           "X11"
          ],
          [
           "NeoScrypt"
          ],
          [
           "Scrypt"
          ],
          [
           "X11"
          ],
          [
           "NeoScrypt"
          ],
          [
           "NeoScrypt"
          ],
          [
           "X11"
          ],
          [
           "Scrypt"
          ],
          [
           "X11"
          ],
          [
           "NeoScrypt"
          ],
          [
           "NeoScrypt"
          ],
          [
           "Scrypt"
          ],
          [
           "X11"
          ],
          [
           "SHA-256"
          ],
          [
           "C11"
          ],
          [
           "Ethash"
          ],
          [
           "Scrypt"
          ],
          [
           "Lyra2REv2"
          ],
          [
           "Scrypt"
          ],
          [
           "Scrypt"
          ],
          [
           "X11"
          ],
          [
           "Scrypt"
          ],
          [
           "X11"
          ],
          [
           "NIST5"
          ],
          [
           "X16R"
          ],
          [
           "X11"
          ],
          [
           "Scrypt"
          ],
          [
           "XEVAN"
          ],
          [
           "SHA-256"
          ],
          [
           "X11"
          ],
          [
           "X16R"
          ],
          [
           "SHA-256"
          ],
          [
           "Scrypt"
          ],
          [
           "QuBit"
          ],
          [
           "SHA-256"
          ],
          [
           "X13"
          ],
          [
           "SHA-256"
          ],
          [
           "Scrypt"
          ],
          [
           "NeoScrypt"
          ],
          [
           "Scrypt"
          ],
          [
           "SHA-256"
          ],
          [
           "Scrypt"
          ],
          [
           "Groestl"
          ],
          [
           "Scrypt"
          ],
          [
           "Scrypt"
          ]
         ],
         "hovertemplate": "<b>%{hovertext}</b><br><br>Class=%{marker.color}<br>PC1=%{x}<br>PC2=%{y}<br>PC3=%{z}<br>Algorithm=%{customdata[0]}<extra></extra>",
         "hovertext": [
          "EliteCoin",
          "Bitcoin",
          "Litecoin",
          "ProsperCoin",
          "Spreadcoin",
          "Argentum",
          "ZetaCoin",
          "SexCoin",
          "Quatloo",
          "QuarkCoin",
          "Riecoin",
          "Digitalcoin ",
          "Catcoin",
          "CannaCoin",
          "CryptCoin",
          "CasinoCoin",
          "DevCoin",
          "EarthCoin",
          "E-Gulden",
          "Einsteinium",
          "Emerald",
          "Franko",
          "FeatherCoin",
          "GrandCoin",
          "GlobalCoin",
          "GoldCoin",
          "IXcoin",
          "KrugerCoin",
          "LuckyCoin",
          "Litebar ",
          "MegaCoin",
          "MinCoin",
          "NobleCoin",
          "Namecoin",
          "NyanCoin",
          "RonPaulCoin",
          "StableCoin",
          "SmartCoin",
          "SysCoin",
          "TigerCoin",
          "TerraCoin",
          "UnbreakableCoin",
          "Unobtanium",
          "UroCoin",
          "ViaCoin",
          "Vertcoin",
          "WorldCoin",
          "JouleCoin",
          "MonaCoin",
          "Gulden",
          "PesetaCoin",
          "Wild Beast Coin",
          "Flo",
          "ArtByte",
          "CypherPunkCoin",
          "OmniCron",
          "GreenCoin",
          "MasterCoin",
          "SoonCoin",
          "1Credit",
          "MarsCoin ",
          "Anarchists Prime",
          "BowsCoin",
          "Song Coin",
          "BitZeny",
          "MindCoin",
          "I0coin",
          "Revolution VR",
          "Gamecredits",
          "CarpeDiemCoin",
          "Adzcoin",
          "YoCoin",
          "ZeitCoin",
          "Francs",
          "BolivarCoin",
          "Omni",
          "PizzaCoin",
          "Komodo",
          "ZayedCoin",
          "DopeCoin",
          "DollarCoin",
          "Shilling",
          "KiloCoin",
          "ArtexCoin",
          "Kurrent",
          "OsmiumCoin",
          "PacCoin",
          "BeaverCoin",
          "VaultCoin",
          "Canada eCoin",
          "EB3coin",
          "Coinonat",
          "BenjiRolls",
          "ILCoin",
          "EquiTrader",
          "DigitalPrice",
          "Unify",
          "SocialCoin",
          "ArcticCoin",
          "DAS",
          "SmartCash",
          "Onix",
          "Bitcoin Cash",
          "Sojourn Coin",
          "FrazCoin",
          "Kronecoin",
          "AdCoin",
          "Linx",
          "Elements",
          "VIVO Coin",
          "eBoost",
          "Pura",
          "Innova",
          "GoByte",
          "AC3",
          "PopularCoin",
          "Sucre",
          "SparksPay",
          "GunCoin",
          "IrishCoin",
          "Pioneer Coin",
          "UnitedBitcoin",
          "Interzone",
          "1717 Masonic Commemorative Token",
          "ShareChain",
          "KREDS",
          "BitFlip",
          "LottoCoin",
          "Crypto Improvement Fund",
          "Poseidon",
          "FuturoCoin",
          "Jumpcoin",
          "Motion",
          "Axe",
          "HexCoin",
          "Urals Coin",
          "Project Pai",
          "Azart",
          "Xchange",
          "Bitcoin SV",
          "Block-Logic",
          "SLICE",
          "BLAST",
          "Bitcoin Rhodium",
          "GlobalToken",
          "SolarCoin",
          "UFO Coin",
          "Crypto Escudo",
          "Crown Coin",
          "SmileyCoin",
          "Groestlcoin",
          "Bata",
          "Pakcoin"
         ],
         "legendgroup": "0",
         "marker": {
          "color": [
           0,
           0,
           0,
           0,
           0,
           0,
           0,
           0,
           0,
           0,
           0,
           0,
           0,
           0,
           0,
           0,
           0,
           0,
           0,
           0,
           0,
           0,
           0,
           0,
           0,
           0,
           0,
           0,
           0,
           0,
           0,
           0,
           0,
           0,
           0,
           0,
           0,
           0,
           0,
           0,
           0,
           0,
           0,
           0,
           0,
           0,
           0,
           0,
           0,
           0,
           0,
           0,
           0,
           0,
           0,
           0,
           0,
           0,
           0,
           0,
           0,
           0,
           0,
           0,
           0,
           0,
           0,
           0,
           0,
           0,
           0,
           0,
           0,
           0,
           0,
           0,
           0,
           0,
           0,
           0,
           0,
           0,
           0,
           0,
           0,
           0,
           0,
           0,
           0,
           0,
           0,
           0,
           0,
           0,
           0,
           0,
           0,
           0,
           0,
           0,
           0,
           0,
           0,
           0,
           0,
           0,
           0,
           0,
           0,
           0,
           0,
           0,
           0,
           0,
           0,
           0,
           0,
           0,
           0,
           0,
           0,
           0,
           0,
           0,
           0,
           0,
           0,
           0,
           0,
           0,
           0,
           0,
           0,
           0,
           0,
           0,
           0,
           0,
           0,
           0,
           0,
           0,
           0,
           0,
           0,
           0,
           0,
           0,
           0,
           0,
           0,
           0,
           0
          ],
          "coloraxis": "coloraxis",
          "symbol": "diamond"
         },
         "mode": "markers",
         "name": "0",
         "scene": "scene",
         "showlegend": true,
         "type": "scatter3d",
         "x": [
          0.006033552976261625,
          0.10340214110434842,
          0.09107451727520961,
          0.0909847183957201,
          0.06898843925600763,
          0.09100807570964627,
          0.10363399591440595,
          0.09121237759899394,
          0.09101573713572399,
          0.027589740407559682,
          0.09530205669374404,
          0.09102690122519154,
          0.09098640485920935,
          0.09098057934060033,
          0.06898055271093324,
          0.01939279302441199,
          0.13293887645480854,
          0.11052268839847779,
          0.09100230994591281,
          0.09133524242230723,
          0.0910047295197944,
          0.09097573899116047,
          0.12662639224946776,
          0.09252198858496254,
          0.09107240699424218,
          0.09104533769481805,
          0.10340581478830604,
          0.0912442193597179,
          0.09100010026662254,
          0.0909720438830335,
          0.09103009505750705,
          0.09098069815313066,
          0.09925807537478183,
          0.1033984341929225,
          0.0914835570145326,
          0.09097929977469972,
          0.09109071149861776,
          0.09101890264527102,
          0.10435593034392938,
          0.10344149869295978,
          0.10341571406991469,
          0.1034057474988906,
          0.10337388515627496,
          0.06896950320354646,
          0.09100565130143212,
          0.09773972361685292,
          0.09120722813116967,
          0.10343571247226342,
          0.09108830557608884,
          0.0920727996181341,
          0.09119146571816467,
          0.09097144417156257,
          0.09120624701714082,
          0.09226026725437071,
          0.11878413917860388,
          0.09098328760296076,
          0.10001904308921501,
          0.09097121082723125,
          0.1033957926086482,
          0.12494298571893665,
          0.06901772013479285,
          0.10341054394708178,
          0.06899428517557916,
          0.09108573024280255,
          0.09115042511685013,
          0.06899244331897487,
          0.10340570805503169,
          0.09129177797003891,
          0.0910824135843394,
          0.13661605137484878,
          0.06905152640306951,
          0.09103316848955158,
          -0.0006158323674981259,
          0.09098528143694047,
          0.06899319504339207,
          0.09097120618822076,
          0.06897893309820381,
          0.06710861036926964,
          0.10338440845485254,
          0.09117986190338669,
          0.10338806761378924,
          0.09099425824865028,
          0.0948909894943958,
          0.07011002378734028,
          0.06912358473818449,
          0.09097230333058866,
          0.10651870612285515,
          0.09097512230802408,
          0.06937266889140849,
          0.09112318312534541,
          0.09252179702387332,
          0.051786556216319175,
          0.09100693486318186,
          0.10582763343020359,
          0.09101273486079521,
          0.06904585038097234,
          0.09099844708962408,
          0.09100396117017324,
          0.06902051160741053,
          0.0689781269196178,
          0.09963446126913024,
          0.06951658214957192,
          0.10340222058567734,
          0.09484813607960497,
          0.0909889214999935,
          0.0910215579195064,
          0.09104511678387191,
          0.0910463596277188,
          0.07277284908706079,
          0.12627470521845666,
          0.0911233534312821,
          0.06930090285967422,
          0.12628391869972014,
          0.12627841358762462,
          0.06926450586281725,
          0.09742204677517763,
          0.06898032522485026,
          0.12627676656996967,
          0.12679282190786167,
          0.09104673585732115,
          0.06898644326918459,
          0.10340443411014544,
          0.08666345413963324,
          -0.010712057177950318,
          0.1062805281083492,
          0.09880338364953006,
          0.09099949246278845,
          0.1146024297434657,
          0.06939821133276786,
          0.09098274561533738,
          0.06904197299441583,
          0.0517892097186159,
          0.09747425088663965,
          0.06898165591843969,
          0.09098007096876527,
          0.04901108744588823,
          0.106588715229161,
          0.0689831595358884,
          0.0975049170214274,
          0.1034022170132686,
          0.09105556684021461,
          0.11882868766631094,
          0.10345794538878152,
          0.03808641821687209,
          0.10353389641465047,
          0.1272599689308984,
          0.132180327672931,
          0.09224594677453703,
          0.10341577393893817,
          0.1438031077740988,
          0.09533740264595081,
          0.09097797858012219,
          0.09111842563646667
         ],
         "y": [
          -0.041757488985403685,
          0.012663970664445232,
          -0.00026762653275559645,
          -0.00026633214800178556,
          0.006442665899198898,
          -0.0002659595074299485,
          0.012660259072364899,
          -0.0002677671352290454,
          -0.0002652536982034951,
          0.0020748709037199495,
          0.005352551248358997,
          -0.0002670048985751047,
          -0.000266387991933674,
          -0.00026640458264868405,
          0.006442873740991341,
          -0.021568621698633654,
          0.01224506956696205,
          -0.0005540400536993325,
          -0.00026691465769564793,
          -0.0002705084524185568,
          -0.0002667015958734144,
          -0.00026629505596337954,
          0.013817018608624849,
          -0.0002799322616877721,
          -0.0002679297947336333,
          -0.0002669735936680906,
          0.012663849017603368,
          -0.00026841050455157794,
          -0.0002668681413408316,
          -0.0002664361847193252,
          -0.00026727499749706207,
          -0.0002664922068181045,
          -0.00014105521557967185,
          0.012664093411548769,
          -0.0002744279125915657,
          -0.00026615272099068975,
          -0.0002637384008590123,
          -0.0002666591765592767,
          0.012655495818257185,
          0.012663360707950183,
          0.012664080931994169,
          0.012665423763467411,
          0.012664353258283747,
          0.006442759872599474,
          -0.00026697199444748076,
          0.013682895439900684,
          -0.0002671856125448375,
          0.01266349868263762,
          -0.0002675201972717409,
          -0.0002581447586491592,
          -0.00026930323006819234,
          -0.0002663822641170917,
          -0.0002699628888550786,
          -0.00028247631475982593,
          0.013424495530734843,
          -0.0002667546240831126,
          -0.00029951738191218033,
          -0.00026642807019756226,
          0.012664180882432803,
          0.0010607082091617418,
          0.006442042807259694,
          0.012664565567902727,
          0.006442498975876548,
          -0.00026463317335660724,
          -0.000265715700249622,
          0.006442426701134313,
          0.012663852551866488,
          -0.00027146243653997814,
          -0.0002678880035504735,
          0.012139999271311505,
          0.006442282673934821,
          -0.0002640091468758474,
          -0.015887630274490357,
          -0.0002663774448503701,
          0.006442641684836529,
          -0.0002664279973439363,
          0.00644311394118883,
          0.007525094573811725,
          0.012664257628747663,
          -0.0002680230838452911,
          0.012664160511680247,
          -0.00026640816594489974,
          -0.00012971194140765741,
          0.00641832019086765,
          0.006443734612766971,
          -0.0002664084137165707,
          0.007864675887666749,
          -0.00026648454851378733,
          0.00645606267380151,
          -0.0002688115614864692,
          -0.00021117783283657745,
          -0.001320115226565366,
          -0.0002666807928290854,
          0.012649727638136946,
          -0.0002659005633453909,
          0.006442897069757768,
          -0.00026683267496151186,
          -0.0002655300812550443,
          0.006442669999864303,
          0.00644297805387289,
          0.001550927285225012,
          0.006453962552669234,
          0.012663968032576467,
          -0.00011496651335155614,
          -0.00026649797840149625,
          -0.0002658728875258382,
          -0.0002662265476488929,
          -0.00026626770198610893,
          0.006364794647158601,
          0.013820428306793893,
          -0.00026881720083365285,
          0.006441114717615481,
          0.013820602971591062,
          0.01382043344506365,
          0.006447650501303083,
          -0.00034678715324083017,
          0.006442929248863454,
          0.013820200132125182,
          0.013815878682964996,
          -0.00026723966242141206,
          0.006442811950916598,
          0.012663872507582998,
          0.0076443132501238225,
          0.011654456478743424,
          -0.0005068541817772935,
          0.013674753711348367,
          -0.00026631495825874,
          -0.0005583477286349826,
          0.006441890464689941,
          -0.0002662668232473397,
          0.006443025461811416,
          -0.0013209294353549229,
          0.011998772242359705,
          0.006442917168965233,
          -0.0002661487991694744,
          0.017002649055283082,
          0.012613864769578516,
          0.006442973990991442,
          0.01199983369752572,
          0.012663968150869787,
          -0.00026603952392601654,
          0.013425685679157268,
          0.0126632688872053,
          -0.00681495476512415,
          0.012663525813515653,
          0.0011465681920732383,
          0.013730766941255138,
          -0.00028200212014749254,
          0.012664078949548851,
          -0.0006832271393377919,
          0.005351940546144816,
          -0.00026653541770250283,
          -0.0002664684934857166
         ],
         "z": [
          0.0008603876469883021,
          -0.00037986390456447923,
          -0.0007651080599420275,
          -0.0007664123264685856,
          -0.0002443425790144138,
          -0.0007662563792549986,
          -0.00037640086863446106,
          -0.0007635829186931236,
          -0.0007663560351404869,
          -0.0004571107320794407,
          -0.00032887726511317706,
          -0.0007657829262027909,
          -0.0007663796825593987,
          -0.0007664383072272968,
          -0.00024448145914969467,
          0.00029907556894631366,
          4.736675335506803e-05,
          -0.0004810650240122048,
          -0.000766071816892772,
          -0.0007615476452901454,
          -0.000766100746224147,
          -0.0007665188838178634,
          -0.0007463019645179393,
          -0.0007462962227989431,
          -0.0007650524809938612,
          -0.0007655919134321902,
          -0.0003797927951653879,
          -0.0007630727882992522,
          -0.0007661077007874612,
          -0.0007665223183516872,
          -0.0007656786360537742,
          -0.0007664143803659155,
          -0.0007094391010147495,
          -0.0003799356571289803,
          -0.0007589330753537576,
          -0.0007665172116165968,
          -0.0007659379398128503,
          -0.0007659586471288233,
          -0.000367373504049049,
          -0.0003792812423553872,
          -0.00037974582010782184,
          -0.00038020046625827155,
          -0.0003802679210169947,
          -0.00024457136128043456,
          -0.0007660209153921464,
          -0.0019420696334380343,
          -0.0007637888063535997,
          -0.00037937938528206146,
          -0.0007649866338751038,
          -0.0007567774948689825,
          -0.0007634117979258453,
          -0.000766542728980985,
          -0.0007630817005391427,
          -0.000748465220631673,
          0.0003678560116507682,
          -0.000766318602263633,
          -0.0006602714663807764,
          -0.000766533411790466,
          -0.0003799867887649611,
          -0.0007426164558982052,
          -0.00024386534463684216,
          -0.00037992689343643084,
          -0.0002442363104963174,
          -0.0007657605080150402,
          -0.0007647820974570788,
          -0.00024423752424336477,
          -0.0003797948611403346,
          -0.0007617705069802477,
          -0.0007649552156023424,
          0.00011423015681380631,
          -0.00024356224381850918,
          -0.000766489403051424,
          0.0004979870275038107,
          -0.0007663945403981915,
          -0.0002442849619758292,
          -0.0007665334807156648,
          -0.00024456102229188033,
          -0.0012347309707668862,
          -0.00038012956335244704,
          -0.000763867926237966,
          -0.000380064949776624,
          -0.0007662896574236638,
          -0.0007595322668960859,
          -0.00022593875842603876,
          -0.0002431592667514049,
          -0.0007665266930348586,
          -0.00020651327233452802,
          -0.0007664765751229267,
          -0.00024365511720765516,
          -0.0007642762645716677,
          -0.0007640657491481304,
          -0.0003945928214903569,
          -0.000766082305773092,
          -0.00034998940607052604,
          -0.0007662212955594387,
          -0.00024378231298889606,
          -0.0007661347192741868,
          -0.000766411785681504,
          -0.00024399727699410346,
          -0.0002445346126479642,
          -0.0005175240996450249,
          -0.0002415582309348153,
          -0.00037986236609002024,
          -0.0007638055577178408,
          -0.0007663240817795295,
          -0.0007661331639009679,
          -0.0007657873500945993,
          -0.0007657632930770547,
          -0.0001833498566963938,
          -0.0007509810997339518,
          -0.000764272968057051,
          -0.000240567308922981,
          -0.0007509267365107509,
          -0.000750942379450028,
          -0.00024264934548680288,
          -0.0006761020208977582,
          -0.00024449826015406014,
          -0.0007508998737102668,
          -0.0007442100477917069,
          -0.0007655080568875933,
          -0.00024440187700043527,
          -0.00037981377590148087,
          -0.00017138954672870084,
          -0.0004028433189557352,
          -0.0005390714820355447,
          -0.0019284787797502945,
          -0.0007662572177698672,
          -0.000435893135974496,
          -0.00023971690499786875,
          -0.0007664505124501846,
          -0.0002438573653428944,
          -0.0003943537581917552,
          -0.00014747434175251486,
          -0.00024448076780360313,
          -0.0007665098966675062,
          -0.0012498844538874165,
          -0.0003325025395534904,
          -0.00024447921355487347,
          -0.0001474174666067552,
          -0.00037986243523909554,
          -0.0007657228264019882,
          0.0003680295508921896,
          -0.00037907989990051196,
          -0.0003986465767314499,
          -0.0003783260701023728,
          -0.0007397823187599536,
          -0.0006640337924745088,
          -0.0007487424139694007,
          -0.0003797446612574174,
          -8.82725104539289e-05,
          -0.0003283377334066988,
          -0.0007664325835674173,
          -0.0007649331360549856
         ]
        },
        {
         "customdata": [
          [
           "Ethash"
          ],
          [
           "CryptoNight-V7"
          ],
          [
           "Ethash"
          ],
          [
           "Equihash"
          ],
          [
           "Multiple"
          ],
          [
           "Multiple"
          ],
          [
           "Scrypt"
          ],
          [
           "Multiple"
          ],
          [
           "Scrypt"
          ],
          [
           "HybridScryptHash256"
          ],
          [
           "CryptoNight"
          ],
          [
           "CryptoNight"
          ],
          [
           "Stanford Folding"
          ],
          [
           "Multiple"
          ],
          [
           "M7 POW"
          ],
          [
           "Lyra2RE"
          ],
          [
           "Ethash"
          ],
          [
           "Blake2b"
          ],
          [
           "1GB AES Pattern Search"
          ],
          [
           "Dagger"
          ],
          [
           "X11GOST"
          ],
          [
           "CryptoNight"
          ],
          [
           "Multiple"
          ],
          [
           "Lyra2Z"
          ],
          [
           "Ethash"
          ],
          [
           "Equihash"
          ],
          [
           "CryptoNight"
          ],
          [
           "CryptoNight"
          ],
          [
           "Lyra2RE"
          ],
          [
           "CryptoNight-V7"
          ],
          [
           "Equihash"
          ],
          [
           "Lyra2RE"
          ],
          [
           "Dagger-Hashimoto"
          ],
          [
           "CryptoNight-V7"
          ],
          [
           "Argon2d"
          ],
          [
           "Blake2b"
          ],
          [
           "Cloverhash"
          ],
          [
           "CryptoNight"
          ],
          [
           "CryptoNight"
          ],
          [
           "Time Travel"
          ],
          [
           "Scrypt"
          ],
          [
           "Scrypt"
          ],
          [
           "CryptoNight"
          ],
          [
           "Equihash"
          ],
          [
           "Equihash"
          ],
          [
           "Dagger"
          ],
          [
           "Ethash"
          ],
          [
           "Multiple"
          ],
          [
           "CryptoNight"
          ],
          [
           "CryptoNight"
          ],
          [
           "Ethash"
          ],
          [
           "CryptoNight-V7"
          ],
          [
           "BLAKE256"
          ],
          [
           "CryptoNight"
          ],
          [
           "SkunkHash"
          ],
          [
           "CryptoNight"
          ],
          [
           "Dagger"
          ],
          [
           "Ethash"
          ],
          [
           "CryptoNight"
          ],
          [
           "IMesh"
          ],
          [
           "Equihash"
          ],
          [
           "Lyra2Z"
          ],
          [
           "CryptoNight"
          ],
          [
           "Lyra2RE"
          ],
          [
           "Tribus"
          ],
          [
           "Lyra2Z"
          ],
          [
           "CryptoNight"
          ],
          [
           "CryptoNight Heavy"
          ],
          [
           "CryptoNight"
          ],
          [
           "Jump Consistent Hash"
          ],
          [
           "CryptoNight"
          ],
          [
           "Scrypt"
          ],
          [
           "HMQ1725"
          ],
          [
           "CryptoNight-V7"
          ],
          [
           "Cryptonight-GPU"
          ],
          [
           "CryptoNight Heavy"
          ],
          [
           "Equihash"
          ],
          [
           "Lyra2Z"
          ],
          [
           "CryptoNight"
          ],
          [
           "Blake"
          ],
          [
           "Blake"
          ],
          [
           "Exosis"
          ],
          [
           "Equihash"
          ],
          [
           "Equihash"
          ],
          [
           "Blake"
          ],
          [
           "Multiple"
          ],
          [
           "Equihash+Scrypt"
          ],
          [
           "Ethash"
          ],
          [
           "CryptoNight"
          ],
          [
           "Equihash"
          ]
         ],
         "hovertemplate": "<b>%{hovertext}</b><br><br>Class=%{marker.color}<br>PC1=%{x}<br>PC2=%{y}<br>PC3=%{z}<br>Algorithm=%{customdata[0]}<extra></extra>",
         "hovertext": [
          "Ethereum",
          "Monero",
          "Ethereum Classic",
          "ZCash",
          "DigiByte",
          "MyriadCoin",
          "MoonCoin",
          "Verge",
          "Infinite Coin",
          "MediterraneanCoin",
          "ByteCoin",
          "DigitalNote ",
          "Folding Coin",
          "Unitus",
          "Cryptonite",
          "Crypto",
          "Expanse",
          "Siacoin",
          "HOdlcoin",
          "SoilCoin",
          "SibCoin",
          "Karbo",
          "Circuits of Value",
          "ZCoin",
          "Elementrem",
          "ZClassic",
          "Cannabis Industry Coin",
          "Bikercoins",
          "HexxCoin",
          "Citadel",
          "Zero",
          "Zoin",
          "DubaiCoin",
          "Quantum Resistant Ledger",
          "Dynamic",
          "Nano",
          "ChanCoin",
          "Dinastycoin",
          "LeviarCoin",
          "Bitcore",
          "gCn Coin",
          "NewYorkCoin",
          "Sumokoin",
          "BitcoinZ",
          "Bitcoin Gold",
          "Pirl",
          "Ellaism",
          "SHIELD",
          "UltraNote",
          "BitCoal",
          "DaxxCoin",
          "Lethean",
          "Photon",
          "TurtleCoin",
          "MUNcoin",
          "Niobio Cash",
          "Travelflex",
          "Callisto Network",
          "BitTube",
          "Aidos Kuneen",
          "Bitrolium",
          "Alpenschillling",
          "Monero Classic",
          "Infinex",
          "KEYCO",
          "GINcoin",
          "PlatinCoin",
          "Loki",
          "Newton Coin",
          "MassGrid",
          "PluraCoin",
          "Lynx",
          "PlusOneCoin",
          "Webchain",
          "Ryo",
          "Qwertycoin",
          "CrypticCoin",
          "Actinium",
          "FREDEnergy",
          "Universal Molecule",
          "Lithium",
          "Exosis",
          "Beam",
          "Bithereum",
          "BlakeCoin",
          "JoinCoin",
          "Vollar",
          "Reality Clash",
          "Beldex",
          "Horizen"
         ],
         "legendgroup": "3",
         "marker": {
          "color": [
           3,
           3,
           3,
           3,
           3,
           3,
           3,
           3,
           3,
           3,
           3,
           3,
           3,
           3,
           3,
           3,
           3,
           3,
           3,
           3,
           3,
           3,
           3,
           3,
           3,
           3,
           3,
           3,
           3,
           3,
           3,
           3,
           3,
           3,
           3,
           3,
           3,
           3,
           3,
           3,
           3,
           3,
           3,
           3,
           3,
           3,
           3,
           3,
           3,
           3,
           3,
           3,
           3,
           3,
           3,
           3,
           3,
           3,
           3,
           3,
           3,
           3,
           3,
           3,
           3,
           3,
           3,
           3,
           3,
           3,
           3,
           3,
           3,
           3,
           3,
           3,
           3,
           3,
           3,
           3,
           3,
           3,
           3,
           3,
           3,
           3,
           3,
           3,
           3,
           3
          ],
          "coloraxis": "coloraxis",
          "symbol": "square"
         },
         "mode": "markers",
         "name": "3",
         "scene": "scene",
         "showlegend": true,
         "type": "scatter3d",
         "x": [
          0.16050582212554276,
          0.175151908356914,
          0.16058996186537403,
          0.15438134160096995,
          0.16831705725900029,
          0.1500110397927157,
          0.2327690277655431,
          0.17193066036669305,
          0.2296763358299936,
          0.1677076343024804,
          0.5055780378849558,
          0.23533536514321918,
          0.17573137299278818,
          0.1473868060270709,
          0.17598859919115872,
          0.17592900669992986,
          0.1603991549837769,
          0.22897470317952776,
          0.172675343553408,
          0.17278562837531833,
          0.16589713927213037,
          0.22363167942412823,
          0.14891604016087126,
          0.17505407192604439,
          0.1604208403921772,
          0.15437928586123997,
          0.22362778995537794,
          0.22363900133790443,
          0.17589461947250554,
          0.17521298298817145,
          0.1543793284921866,
          0.17591804748657516,
          0.17109517002156774,
          0.1752509010854282,
          0.1736447181779708,
          0.1908029184868415,
          0.17954346055373083,
          0.22645959885772984,
          0.22365529201949588,
          0.17191433209029008,
          0.35425450547605836,
          0.2571095414355403,
          0.22366211660885016,
          0.16817419828661054,
          0.1543927492662881,
          0.17286512963464343,
          0.16049893377223268,
          0.14811453149236023,
          0.27740747516353875,
          0.2236287427272065,
          0.1646785458840814,
          0.17601362734294912,
          0.1977705409081829,
          0.6546221962365634,
          0.16658544842103365,
          0.2238985701299641,
          0.17292953879204334,
          0.16306862451636464,
          0.2240811643234099,
          0.17269003092132854,
          0.15447375624685858,
          0.17517992043848243,
          0.22364430122602544,
          0.17590437380643031,
          0.17981492604463967,
          0.17504937090291398,
          0.22384055766499011,
          0.25261848410592314,
          0.3395384190385895,
          0.17450928113296293,
          0.2246388514547717,
          0.18632025673664634,
          0.1721706885722414,
          0.17579624354222248,
          0.1770050800879285,
          0.43631635708310107,
          0.16209162225603094,
          0.17508423596949044,
          0.22877164903585248,
          0.1757624393975125,
          0.17574951465171876,
          0.17767399883018456,
          0.154503513475176,
          0.1544056340015114,
          0.1783337966879264,
          0.14731606606733896,
          0.17928907797869242,
          0.1604182107087039,
          0.22527473821100943,
          0.15438124108703746
         ],
         "y": [
          0.027277411443620454,
          0.0224699883466744,
          0.027280222418026946,
          0.021253353004823738,
          0.02511540175675154,
          0.02521516562623043,
          0.005272890242703207,
          0.024877272489956564,
          -0.0024446453144309484,
          0.02309542285842995,
          0.025120030727136283,
          0.029418533767533867,
          0.025770076266531335,
          0.02524875629720901,
          0.02380052786454241,
          0.026661579661472777,
          0.02728139412041982,
          0.027120356962046514,
          0.031135664026128183,
          0.02928150896925606,
          0.03500325528747078,
          0.0295398164768726,
          0.025230102118141477,
          0.027760155383864817,
          0.027280923899205035,
          0.021253421076614317,
          0.029540238450271837,
          0.029539973818690946,
          0.02666123138896615,
          0.022472896755866816,
          0.021253313053604138,
          0.02666074879750829,
          0.03467941862388294,
          0.022469508945020752,
          0.02973732781582959,
          0.02839341026319139,
          0.013154831319104788,
          0.02949921462592983,
          0.02954020731714252,
          0.02862238544410944,
          -0.0036539861802746695,
          -0.00576778966100726,
          0.029540911222283212,
          0.021355779581183943,
          0.02125297526235307,
          0.029282242874379673,
          0.027285102333832002,
          0.025242249971280762,
          0.03002436151948269,
          0.029539980351939582,
          0.027405768302494103,
          0.022468093235394875,
          0.006581725544415843,
          0.041920986494386976,
          0.019260100985910366,
          0.029539667741078662,
          0.029278609356937695,
          0.02736579274338414,
          0.029551318979779105,
          0.026226325974714717,
          0.021251598864299424,
          0.02776341363903761,
          0.02953962241452657,
          0.02666134230162543,
          0.018614840165155813,
          0.027760020533045597,
          0.02954862507433834,
          0.03680781684875441,
          0.030605648536354314,
          0.03195303962949961,
          0.029532852263849996,
          -0.021985708357104835,
          0.025326988948321746,
          0.022495294924684463,
          0.027104025314944907,
          0.03563767387923608,
          0.02120004407128814,
          0.02776082502864701,
          0.02958470489973517,
          0.023313897347349587,
          0.02331219599735731,
          0.027589149889172833,
          0.02125575218005931,
          0.02125281209960942,
          0.023412520042791186,
          0.02525117334023865,
          0.03369346338405394,
          0.02728096519722838,
          0.029522463190850532,
          0.02125335633314552
         ],
         "z": [
          -0.0008078525490154733,
          -0.0020440029637118,
          -0.0008076703009423962,
          -0.0008901470476336574,
          -0.0004458509778550219,
          -0.000669325620394708,
          -0.0006666696697657401,
          -0.00034528913141627113,
          0.0012942897463908542,
          -0.0027826641496980545,
          0.0038150549782997732,
          -0.00021421531010289553,
          -0.0006055772955485881,
          -0.0007063462053776014,
          -0.0008988810261441947,
          -0.0011728268929996134,
          -0.0008100336884322195,
          0.001430229732376398,
          -0.00013210534254846142,
          -0.000682695169624637,
          -0.0014496160603765563,
          -0.00037194970121966393,
          -0.0006850108191485975,
          5.601497135001486e-05,
          -0.0008096779851880823,
          -0.0008901868394118628,
          -0.00037210075108094943,
          -0.0003719112891758404,
          -0.0011731082536828095,
          -0.002044094983664347,
          -0.0008901584638147131,
          -0.0011727305346598614,
          -0.000840166566555645,
          -0.0020428100164574864,
          -0.0008355219083640347,
          0.0006890165978637635,
          -0.0007420660428618454,
          -0.00033091761322172575,
          -0.00037179570027278026,
          1.215073696958163e-06,
          0.0029521742957631537,
          0.0024493154999825698,
          -0.00037190390142914826,
          -0.0007676616445342116,
          -0.0008899262359805282,
          -0.0006820262599196775,
          -0.0008099144119283789,
          -0.0006968058581095795,
          8.358019383619872e-05,
          -0.00037202376419130835,
          -0.0007959595573749133,
          -0.002034207194597327,
          6.811497856281221e-05,
          0.001082952547526702,
          0.0004559527461757373,
          -0.00036902900923256783,
          -0.0006803917102450657,
          -0.0008030152720499879,
          -0.00037006800662752116,
          6.595342571926694e-05,
          -0.0008886957227629855,
          5.6532062675550744e-05,
          -0.0003717632440891506,
          -0.0011730315748127783,
          0.0009124156339549647,
          5.5999051212806345e-05,
          -0.00037197025424577835,
          0.0009651392420350132,
          0.0006043405868362174,
          -0.0025467145693118588,
          -0.00035927317578719954,
          0.0022632728610486805,
          -0.0010899927910288712,
          -0.0020435842422821602,
          -0.0004146109287468737,
          0.0032513508172121444,
          -0.0007931047021798904,
          5.616767550411427e-05,
          -0.00032804120992684365,
          -0.0009140857546554368,
          -0.000913785672643975,
          0.00016748129747947565,
          -0.0008894476590804747,
          -0.0008897449243788513,
          -0.0009118026622758413,
          -0.0007077347636093868,
          -0.0012595810726272268,
          -0.0008097170563536075,
          -0.0003497212542076682,
          -0.0008901489932243457
         ]
        },
        {
         "customdata": [
          [
           "Proof-of-BibleHash"
          ],
          [
           "SHA-256 + Hive"
          ],
          [
           "Proof-of-Authority"
          ],
          [
           "ECC 256K1"
          ],
          [
           "SHA3-256"
          ],
          [
           "Leased POS"
          ]
         ],
         "hovertemplate": "<b>%{hovertext}</b><br><br>Class=%{marker.color}<br>PC1=%{x}<br>PC2=%{y}<br>PC3=%{z}<br>Algorithm=%{customdata[0]}<extra></extra>",
         "hovertext": [
          "BiblePay",
          "LitecoinCash",
          "Poa Network",
          "Acute Angle Cloud",
          "Fiii",
          "Waves"
         ],
         "legendgroup": "2",
         "marker": {
          "color": [
           2,
           2,
           2,
           2,
           2,
           2
          ],
          "coloraxis": "coloraxis",
          "symbol": "x"
         },
         "mode": "markers",
         "name": "2",
         "scene": "scene",
         "showlegend": true,
         "type": "scatter3d",
         "x": [
          -0.2520590166992576,
          -0.25346229663668574,
          -0.299716515267436,
          -0.27066832617149467,
          -0.3382769750235279,
          -0.34537780376343674
         ],
         "y": [
          0.40855708210552355,
          0.659842468492681,
          0.9469980141741227,
          0.6738586307680465,
          0.8917255006682817,
          0.5057269187715806
         ],
         "z": [
          -0.07128909450197247,
          0.18134323090369142,
          0.027820918829126257,
          0.5295929945178118,
          -0.47040700548218806,
          -0.10442901937187184
         ]
        }
       ],
       "layout": {
        "coloraxis": {
         "colorbar": {
          "title": {
           "text": "Class"
          }
         },
         "colorscale": [
          [
           0,
           "#0d0887"
          ],
          [
           0.1111111111111111,
           "#46039f"
          ],
          [
           0.2222222222222222,
           "#7201a8"
          ],
          [
           0.3333333333333333,
           "#9c179e"
          ],
          [
           0.4444444444444444,
           "#bd3786"
          ],
          [
           0.5555555555555556,
           "#d8576b"
          ],
          [
           0.6666666666666666,
           "#ed7953"
          ],
          [
           0.7777777777777778,
           "#fb9f3a"
          ],
          [
           0.8888888888888888,
           "#fdca26"
          ],
          [
           1,
           "#f0f921"
          ]
         ]
        },
        "legend": {
         "title": {
          "text": "Class"
         },
         "tracegroupgap": 0,
         "x": 0,
         "y": 1
        },
        "margin": {
         "t": 60
        },
        "scene": {
         "domain": {
          "x": [
           0,
           1
          ],
          "y": [
           0,
           1
          ]
         },
         "xaxis": {
          "title": {
           "text": "PC1"
          }
         },
         "yaxis": {
          "title": {
           "text": "PC2"
          }
         },
         "zaxis": {
          "title": {
           "text": "PC3"
          }
         }
        },
        "template": {
         "data": {
          "bar": [
           {
            "error_x": {
             "color": "#2a3f5f"
            },
            "error_y": {
             "color": "#2a3f5f"
            },
            "marker": {
             "line": {
              "color": "#E5ECF6",
              "width": 0.5
             },
             "pattern": {
              "fillmode": "overlay",
              "size": 10,
              "solidity": 0.2
             }
            },
            "type": "bar"
           }
          ],
          "barpolar": [
           {
            "marker": {
             "line": {
              "color": "#E5ECF6",
              "width": 0.5
             },
             "pattern": {
              "fillmode": "overlay",
              "size": 10,
              "solidity": 0.2
             }
            },
            "type": "barpolar"
           }
          ],
          "carpet": [
           {
            "aaxis": {
             "endlinecolor": "#2a3f5f",
             "gridcolor": "white",
             "linecolor": "white",
             "minorgridcolor": "white",
             "startlinecolor": "#2a3f5f"
            },
            "baxis": {
             "endlinecolor": "#2a3f5f",
             "gridcolor": "white",
             "linecolor": "white",
             "minorgridcolor": "white",
             "startlinecolor": "#2a3f5f"
            },
            "type": "carpet"
           }
          ],
          "choropleth": [
           {
            "colorbar": {
             "outlinewidth": 0,
             "ticks": ""
            },
            "type": "choropleth"
           }
          ],
          "contour": [
           {
            "colorbar": {
             "outlinewidth": 0,
             "ticks": ""
            },
            "colorscale": [
             [
              0,
              "#0d0887"
             ],
             [
              0.1111111111111111,
              "#46039f"
             ],
             [
              0.2222222222222222,
              "#7201a8"
             ],
             [
              0.3333333333333333,
              "#9c179e"
             ],
             [
              0.4444444444444444,
              "#bd3786"
             ],
             [
              0.5555555555555556,
              "#d8576b"
             ],
             [
              0.6666666666666666,
              "#ed7953"
             ],
             [
              0.7777777777777778,
              "#fb9f3a"
             ],
             [
              0.8888888888888888,
              "#fdca26"
             ],
             [
              1,
              "#f0f921"
             ]
            ],
            "type": "contour"
           }
          ],
          "contourcarpet": [
           {
            "colorbar": {
             "outlinewidth": 0,
             "ticks": ""
            },
            "type": "contourcarpet"
           }
          ],
          "heatmap": [
           {
            "colorbar": {
             "outlinewidth": 0,
             "ticks": ""
            },
            "colorscale": [
             [
              0,
              "#0d0887"
             ],
             [
              0.1111111111111111,
              "#46039f"
             ],
             [
              0.2222222222222222,
              "#7201a8"
             ],
             [
              0.3333333333333333,
              "#9c179e"
             ],
             [
              0.4444444444444444,
              "#bd3786"
             ],
             [
              0.5555555555555556,
              "#d8576b"
             ],
             [
              0.6666666666666666,
              "#ed7953"
             ],
             [
              0.7777777777777778,
              "#fb9f3a"
             ],
             [
              0.8888888888888888,
              "#fdca26"
             ],
             [
              1,
              "#f0f921"
             ]
            ],
            "type": "heatmap"
           }
          ],
          "heatmapgl": [
           {
            "colorbar": {
             "outlinewidth": 0,
             "ticks": ""
            },
            "colorscale": [
             [
              0,
              "#0d0887"
             ],
             [
              0.1111111111111111,
              "#46039f"
             ],
             [
              0.2222222222222222,
              "#7201a8"
             ],
             [
              0.3333333333333333,
              "#9c179e"
             ],
             [
              0.4444444444444444,
              "#bd3786"
             ],
             [
              0.5555555555555556,
              "#d8576b"
             ],
             [
              0.6666666666666666,
              "#ed7953"
             ],
             [
              0.7777777777777778,
              "#fb9f3a"
             ],
             [
              0.8888888888888888,
              "#fdca26"
             ],
             [
              1,
              "#f0f921"
             ]
            ],
            "type": "heatmapgl"
           }
          ],
          "histogram": [
           {
            "marker": {
             "pattern": {
              "fillmode": "overlay",
              "size": 10,
              "solidity": 0.2
             }
            },
            "type": "histogram"
           }
          ],
          "histogram2d": [
           {
            "colorbar": {
             "outlinewidth": 0,
             "ticks": ""
            },
            "colorscale": [
             [
              0,
              "#0d0887"
             ],
             [
              0.1111111111111111,
              "#46039f"
             ],
             [
              0.2222222222222222,
              "#7201a8"
             ],
             [
              0.3333333333333333,
              "#9c179e"
             ],
             [
              0.4444444444444444,
              "#bd3786"
             ],
             [
              0.5555555555555556,
              "#d8576b"
             ],
             [
              0.6666666666666666,
              "#ed7953"
             ],
             [
              0.7777777777777778,
              "#fb9f3a"
             ],
             [
              0.8888888888888888,
              "#fdca26"
             ],
             [
              1,
              "#f0f921"
             ]
            ],
            "type": "histogram2d"
           }
          ],
          "histogram2dcontour": [
           {
            "colorbar": {
             "outlinewidth": 0,
             "ticks": ""
            },
            "colorscale": [
             [
              0,
              "#0d0887"
             ],
             [
              0.1111111111111111,
              "#46039f"
             ],
             [
              0.2222222222222222,
              "#7201a8"
             ],
             [
              0.3333333333333333,
              "#9c179e"
             ],
             [
              0.4444444444444444,
              "#bd3786"
             ],
             [
              0.5555555555555556,
              "#d8576b"
             ],
             [
              0.6666666666666666,
              "#ed7953"
             ],
             [
              0.7777777777777778,
              "#fb9f3a"
             ],
             [
              0.8888888888888888,
              "#fdca26"
             ],
             [
              1,
              "#f0f921"
             ]
            ],
            "type": "histogram2dcontour"
           }
          ],
          "mesh3d": [
           {
            "colorbar": {
             "outlinewidth": 0,
             "ticks": ""
            },
            "type": "mesh3d"
           }
          ],
          "parcoords": [
           {
            "line": {
             "colorbar": {
              "outlinewidth": 0,
              "ticks": ""
             }
            },
            "type": "parcoords"
           }
          ],
          "pie": [
           {
            "automargin": true,
            "type": "pie"
           }
          ],
          "scatter": [
           {
            "fillpattern": {
             "fillmode": "overlay",
             "size": 10,
             "solidity": 0.2
            },
            "type": "scatter"
           }
          ],
          "scatter3d": [
           {
            "line": {
             "colorbar": {
              "outlinewidth": 0,
              "ticks": ""
             }
            },
            "marker": {
             "colorbar": {
              "outlinewidth": 0,
              "ticks": ""
             }
            },
            "type": "scatter3d"
           }
          ],
          "scattercarpet": [
           {
            "marker": {
             "colorbar": {
              "outlinewidth": 0,
              "ticks": ""
             }
            },
            "type": "scattercarpet"
           }
          ],
          "scattergeo": [
           {
            "marker": {
             "colorbar": {
              "outlinewidth": 0,
              "ticks": ""
             }
            },
            "type": "scattergeo"
           }
          ],
          "scattergl": [
           {
            "marker": {
             "colorbar": {
              "outlinewidth": 0,
              "ticks": ""
             }
            },
            "type": "scattergl"
           }
          ],
          "scattermapbox": [
           {
            "marker": {
             "colorbar": {
              "outlinewidth": 0,
              "ticks": ""
             }
            },
            "type": "scattermapbox"
           }
          ],
          "scatterpolar": [
           {
            "marker": {
             "colorbar": {
              "outlinewidth": 0,
              "ticks": ""
             }
            },
            "type": "scatterpolar"
           }
          ],
          "scatterpolargl": [
           {
            "marker": {
             "colorbar": {
              "outlinewidth": 0,
              "ticks": ""
             }
            },
            "type": "scatterpolargl"
           }
          ],
          "scatterternary": [
           {
            "marker": {
             "colorbar": {
              "outlinewidth": 0,
              "ticks": ""
             }
            },
            "type": "scatterternary"
           }
          ],
          "surface": [
           {
            "colorbar": {
             "outlinewidth": 0,
             "ticks": ""
            },
            "colorscale": [
             [
              0,
              "#0d0887"
             ],
             [
              0.1111111111111111,
              "#46039f"
             ],
             [
              0.2222222222222222,
              "#7201a8"
             ],
             [
              0.3333333333333333,
              "#9c179e"
             ],
             [
              0.4444444444444444,
              "#bd3786"
             ],
             [
              0.5555555555555556,
              "#d8576b"
             ],
             [
              0.6666666666666666,
              "#ed7953"
             ],
             [
              0.7777777777777778,
              "#fb9f3a"
             ],
             [
              0.8888888888888888,
              "#fdca26"
             ],
             [
              1,
              "#f0f921"
             ]
            ],
            "type": "surface"
           }
          ],
          "table": [
           {
            "cells": {
             "fill": {
              "color": "#EBF0F8"
             },
             "line": {
              "color": "white"
             }
            },
            "header": {
             "fill": {
              "color": "#C8D4E3"
             },
             "line": {
              "color": "white"
             }
            },
            "type": "table"
           }
          ]
         },
         "layout": {
          "annotationdefaults": {
           "arrowcolor": "#2a3f5f",
           "arrowhead": 0,
           "arrowwidth": 1
          },
          "autotypenumbers": "strict",
          "coloraxis": {
           "colorbar": {
            "outlinewidth": 0,
            "ticks": ""
           }
          },
          "colorscale": {
           "diverging": [
            [
             0,
             "#8e0152"
            ],
            [
             0.1,
             "#c51b7d"
            ],
            [
             0.2,
             "#de77ae"
            ],
            [
             0.3,
             "#f1b6da"
            ],
            [
             0.4,
             "#fde0ef"
            ],
            [
             0.5,
             "#f7f7f7"
            ],
            [
             0.6,
             "#e6f5d0"
            ],
            [
             0.7,
             "#b8e186"
            ],
            [
             0.8,
             "#7fbc41"
            ],
            [
             0.9,
             "#4d9221"
            ],
            [
             1,
             "#276419"
            ]
           ],
           "sequential": [
            [
             0,
             "#0d0887"
            ],
            [
             0.1111111111111111,
             "#46039f"
            ],
            [
             0.2222222222222222,
             "#7201a8"
            ],
            [
             0.3333333333333333,
             "#9c179e"
            ],
            [
             0.4444444444444444,
             "#bd3786"
            ],
            [
             0.5555555555555556,
             "#d8576b"
            ],
            [
             0.6666666666666666,
             "#ed7953"
            ],
            [
             0.7777777777777778,
             "#fb9f3a"
            ],
            [
             0.8888888888888888,
             "#fdca26"
            ],
            [
             1,
             "#f0f921"
            ]
           ],
           "sequentialminus": [
            [
             0,
             "#0d0887"
            ],
            [
             0.1111111111111111,
             "#46039f"
            ],
            [
             0.2222222222222222,
             "#7201a8"
            ],
            [
             0.3333333333333333,
             "#9c179e"
            ],
            [
             0.4444444444444444,
             "#bd3786"
            ],
            [
             0.5555555555555556,
             "#d8576b"
            ],
            [
             0.6666666666666666,
             "#ed7953"
            ],
            [
             0.7777777777777778,
             "#fb9f3a"
            ],
            [
             0.8888888888888888,
             "#fdca26"
            ],
            [
             1,
             "#f0f921"
            ]
           ]
          },
          "colorway": [
           "#636efa",
           "#EF553B",
           "#00cc96",
           "#ab63fa",
           "#FFA15A",
           "#19d3f3",
           "#FF6692",
           "#B6E880",
           "#FF97FF",
           "#FECB52"
          ],
          "font": {
           "color": "#2a3f5f"
          },
          "geo": {
           "bgcolor": "white",
           "lakecolor": "white",
           "landcolor": "#E5ECF6",
           "showlakes": true,
           "showland": true,
           "subunitcolor": "white"
          },
          "hoverlabel": {
           "align": "left"
          },
          "hovermode": "closest",
          "mapbox": {
           "style": "light"
          },
          "paper_bgcolor": "white",
          "plot_bgcolor": "#E5ECF6",
          "polar": {
           "angularaxis": {
            "gridcolor": "white",
            "linecolor": "white",
            "ticks": ""
           },
           "bgcolor": "#E5ECF6",
           "radialaxis": {
            "gridcolor": "white",
            "linecolor": "white",
            "ticks": ""
           }
          },
          "scene": {
           "xaxis": {
            "backgroundcolor": "#E5ECF6",
            "gridcolor": "white",
            "gridwidth": 2,
            "linecolor": "white",
            "showbackground": true,
            "ticks": "",
            "zerolinecolor": "white"
           },
           "yaxis": {
            "backgroundcolor": "#E5ECF6",
            "gridcolor": "white",
            "gridwidth": 2,
            "linecolor": "white",
            "showbackground": true,
            "ticks": "",
            "zerolinecolor": "white"
           },
           "zaxis": {
            "backgroundcolor": "#E5ECF6",
            "gridcolor": "white",
            "gridwidth": 2,
            "linecolor": "white",
            "showbackground": true,
            "ticks": "",
            "zerolinecolor": "white"
           }
          },
          "shapedefaults": {
           "line": {
            "color": "#2a3f5f"
           }
          },
          "ternary": {
           "aaxis": {
            "gridcolor": "white",
            "linecolor": "white",
            "ticks": ""
           },
           "baxis": {
            "gridcolor": "white",
            "linecolor": "white",
            "ticks": ""
           },
           "bgcolor": "#E5ECF6",
           "caxis": {
            "gridcolor": "white",
            "linecolor": "white",
            "ticks": ""
           }
          },
          "title": {
           "x": 0.05
          },
          "xaxis": {
           "automargin": true,
           "gridcolor": "white",
           "linecolor": "white",
           "ticks": "",
           "title": {
            "standoff": 15
           },
           "zerolinecolor": "white",
           "zerolinewidth": 2
          },
          "yaxis": {
           "automargin": true,
           "gridcolor": "white",
           "linecolor": "white",
           "ticks": "",
           "title": {
            "standoff": 15
           },
           "zerolinecolor": "white",
           "zerolinewidth": 2
          }
         }
        },
        "width": 800
       }
      },
      "text/html": [
       "<div>                            <div id=\"17feb4d3-24bb-47d7-86ca-f81c45874e91\" class=\"plotly-graph-div\" style=\"height:525px; width:800px;\"></div>            <script type=\"text/javascript\">                require([\"plotly\"], function(Plotly) {                    window.PLOTLYENV=window.PLOTLYENV || {};                                    if (document.getElementById(\"17feb4d3-24bb-47d7-86ca-f81c45874e91\")) {                    Plotly.newPlot(                        \"17feb4d3-24bb-47d7-86ca-f81c45874e91\",                        [{\"customdata\":[[\"Scrypt\"],[\"Scrypt\"],[\"X11\"],[\"SHA-512\"],[\"SHA-256\"],[\"SHA-256\"],[\"X15\"],[\"Scrypt\"],[\"Scrypt\"],[\"Scrypt\"],[\"Scrypt\"],[\"Scrypt\"],[\"Groestl\"],[\"PoS\"],[\"Scrypt\"],[\"Scrypt\"],[\"X11\"],[\"X11\"],[\"SHA3\"],[\"Scrypt\"],[\"SHA-256\"],[\"Scrypt\"],[\"X13\"],[\"X13\"],[\"NeoScrypt\"],[\"Scrypt\"],[\"Scrypt\"],[\"Scrypt\"],[\"X11\"],[\"X11\"],[\"Multiple\"],[\"PHI1612\"],[\"X11\"],[\"Scrypt\"],[\"Scrypt\"],[\"Scrypt\"],[\"X11\"],[\"Multiple\"],[\"X13\"],[\"Scrypt\"],[\"Shabal256\"],[\"Counterparty\"],[\"SHA-256\"],[\"Groestl\"],[\"Scrypt\"],[\"X13\"],[\"Scrypt\"],[\"Scrypt\"],[\"X13\"],[\"X11\"],[\"Scrypt\"],[\"X11\"],[\"SHA3\"],[\"QUAIT\"],[\"X11\"],[\"Scrypt\"],[\"X13\"],[\"SHA-256\"],[\"X15\"],[\"BLAKE256\"],[\"SHA-256\"],[\"X11\"],[\"SHA-256\"],[\"NIST5\"],[\"Scrypt\"],[\"Scrypt\"],[\"X11\"],[\"SHA-256\"],[\"Scrypt\"],[\"PoS\"],[\"X11\"],[\"SHA-256\"],[\"SHA-256\"],[\"NIST5\"],[\"X11\"],[\"POS 3.0\"],[\"Scrypt\"],[\"Scrypt\"],[\"Scrypt\"],[\"X13\"],[\"X11\"],[\"X11\"],[\"Scrypt\"],[\"SHA-256\"],[\"X11\"],[\"Scrypt\"],[\"Scrypt\"],[\"Scrypt\"],[\"Scrypt\"],[\"SHA-256D\"],[\"PoS\"],[\"Scrypt\"],[\"X11\"],[\"PoS\"],[\"X13\"],[\"X14\"],[\"PoS\"],[\"SHA-256D\"],[\"DPoS\"],[\"X11\"],[\"X13\"],[\"X11\"],[\"PoS\"],[\"Scrypt\"],[\"Scrypt\"],[\"PoS\"],[\"X11\"],[\"SHA-256\"],[\"Scrypt\"],[\"X11\"],[\"Scrypt\"],[\"Scrypt\"],[\"X11\"],[\"Scrypt\"],[\"Scrypt\"],[\"Scrypt\"],[\"Scrypt\"],[\"Quark\"],[\"QuBit\"],[\"Scrypt\"],[\"SHA-256\"],[\"X11\"],[\"Scrypt\"],[\"Scrypt\"],[\"Scrypt\"],[\"Scrypt\"],[\"X13\"],[\"Scrypt\"],[\"Scrypt\"],[\"X11\"],[\"Blake2S\"],[\"X11\"],[\"PoS\"],[\"X11\"],[\"PoS\"],[\"X11\"],[\"Scrypt\"],[\"Scrypt\"],[\"Scrypt\"],[\"SHA-256\"],[\"X11\"],[\"Scrypt\"],[\"PoS\"],[\"Scrypt\"],[\"X15\"],[\"SHA-256\"],[\"POS 3.0\"],[\"536\"],[\"NIST5\"],[\"NIST5\"],[\"Skein\"],[\"X13\"],[\"Scrypt\"],[\"X13\"],[\"SkunkHash v2 Raptor\"],[\"Skein\"],[\"X11\"],[\"Scrypt\"],[\"PoS\"],[\"Scrypt\"],[\"Scrypt\"],[\"SHA-512\"],[\"Ouroboros\"],[\"X11\"],[\"NeoScrypt\"],[\"Scrypt\"],[\"Lyra2REv2\"],[\"Scrypt\"],[\"SHA-256\"],[\"NIST5\"],[\"PHI1612\"],[\"Scrypt\"],[\"Quark\"],[\"POS 2.0\"],[\"Scrypt\"],[\"SHA-256\"],[\"X11\"],[\"DPoS\"],[\"NIST5\"],[\"X13\"],[\"Scrypt\"],[\"NIST5\"],[\"Quark\"],[\"Scrypt\"],[\"Scrypt\"],[\"X11\"],[\"Quark\"],[\"Scrypt\"],[\"Scrypt\"],[\"X11\"],[\"POS 3.0\"],[\"Scrypt\"],[\"Scrypt\"],[\"X13\"],[\"C11\"],[\"X11\"],[\"XEVAN\"],[\"Scrypt\"],[\"VBFT\"],[\"NIST5\"],[\"Scrypt\"],[\"Scrypt\"],[\"Scrypt\"],[\"Green Protocol\"],[\"PoS\"],[\"Scrypt\"],[\"Semux BFT consensus\"],[\"Quark\"],[\"PoS\"],[\"X16R\"],[\"Scrypt\"],[\"XEVAN\"],[\"Scrypt\"],[\"Scrypt\"],[\"Scrypt\"],[\"SHA-256D\"],[\"Scrypt\"],[\"X15\"],[\"Quark\"],[\"SHA-256\"],[\"DPoS\"],[\"X16R\"],[\"Quark\"],[\"Quark\"],[\"Scrypt\"],[\"Lyra2REv2\"],[\"Quark\"],[\"Scrypt\"],[\"X11\"],[\"X11\"],[\"Scrypt\"],[\"PoS\"],[\"Keccak\"],[\"X11\"],[\"Scrypt\"],[\"SHA-512\"],[\"XEVAN\"],[\"XEVAN\"],[\"X11\"],[\"Quark\"],[\"Equihash\"],[\"Scrypt\"],[\"Quark\"],[\"Quark\"],[\"Scrypt\"],[\"X11\"],[\"Scrypt\"],[\"XEVAN\"],[\"SHA-256D\"],[\"X11\"],[\"X11\"],[\"DPoS\"],[\"Scrypt\"],[\"X11\"],[\"Scrypt\"],[\"Scrypt\"],[\"SHA-256\"],[\"Scrypt\"],[\"X11\"],[\"Scrypt\"],[\"SHA-256\"],[\"X11\"],[\"Scrypt\"],[\"Scrypt\"],[\"X11\"],[\"Scrypt\"],[\"PoS\"],[\"X11\"],[\"SHA-256\"],[\"DPoS\"],[\"Scrypt\"],[\"Scrypt\"],[\"NeoScrypt\"],[\"X13\"],[\"DPoS\"],[\"DPoS\"],[\"SHA-256\"],[\"PoS\"],[\"PoS\"],[\"SHA-256\"],[\"Scrypt\"],[\"Scrypt\"]],\"hovertemplate\":\"<b>%{hovertext}</b><br><br>Class=%{marker.color}<br>PC1=%{x}<br>PC2=%{y}<br>PC3=%{z}<br>Algorithm=%{customdata[0]}<extra></extra>\",\"hovertext\":[\"42 Coin\",\"404Coin\",\"Dash\",\"Bitshares\",\"BitcoinDark\",\"PayCoin\",\"KoboCoin\",\"Aurora Coin\",\"BlueCoin\",\"EnergyCoin\",\"BitBar\",\"CryptoBullion\",\"Diamond\",\"Exclusive Coin\",\"FlutterCoin\",\"HoboNickels\",\"HyperStake\",\"IOCoin\",\"MaxCoin\",\"MintCoin\",\"MazaCoin\",\"Nautilus Coin\",\"NavCoin\",\"OpalCoin\",\"Orbitcoin\",\"PotCoin\",\"PhoenixCoin\",\"Reddcoin\",\"SuperCoin\",\"SyncCoin\",\"TeslaCoin\",\"TittieCoin\",\"TorCoin\",\"UnitaryStatus Dollar\",\"UltraCoin\",\"VeriCoin\",\"X11 Coin\",\"Crypti\",\"StealthCoin\",\"ZCC Coin\",\"BurstCoin\",\"StorjCoin\",\"Neutron\",\"FairCoin\",\"RubyCoin\",\"Kore\",\"Dnotes\",\"8BIT Coin\",\"Sativa Coin\",\"Ucoin\",\"Vtorrent\",\"IslaCoin\",\"Nexus\",\"Droidz\",\"Squall Coin\",\"Diggits\",\"Paycon\",\"Emercoin\",\"EverGreenCoin\",\"Decred\",\"EDRCoin\",\"Hitcoin\",\"DubaiCoin\",\"PWR Coin\",\"BillaryCoin\",\"GPU Coin\",\"EuropeCoin\",\"SwingCoin\",\"SafeExchangeCoin\",\"Nebuchadnezzar\",\"Ratecoin\",\"Revenu\",\"Clockcoin\",\"VIP Tokens\",\"BitSend\",\"Let it Ride\",\"PutinCoin\",\"iBankCoin\",\"Frankywillcoin\",\"MudraCoin\",\"Lutetium Coin\",\"GoldBlocks\",\"CarterCoin\",\"BitTokens\",\"MustangCoin\",\"ZoneCoin\",\"RootCoin\",\"BitCurrency\",\"Swiscoin\",\"BuzzCoin\",\"Opair\",\"PesoBit\",\"Halloween Coin\",\"CoffeeCoin\",\"RoyalCoin\",\"GanjaCoin V2\",\"TeamUP\",\"LanaCoin\",\"ARK\",\"InsaneCoin\",\"EmberCoin\",\"XenixCoin\",\"FreeCoin\",\"PLNCoin\",\"AquariusCoin\",\"Creatio\",\"Eternity\",\"Eurocoin\",\"BitcoinFast\",\"Stakenet\",\"BitConnect Coin\",\"MoneyCoin\",\"Enigma\",\"Russiacoin\",\"PandaCoin\",\"GameUnits\",\"GAKHcoin\",\"Allsafe\",\"LiteCreed\",\"Klingon Empire Darsek\",\"Internet of People\",\"KushCoin\",\"Printerium\",\"Impeach\",\"Zilbercoin\",\"FirstCoin\",\"FindCoin\",\"OpenChat\",\"RenosCoin\",\"VirtacoinPlus\",\"TajCoin\",\"Impact\",\"Atmos\",\"HappyCoin\",\"MacronCoin\",\"Condensate\",\"Independent Money System\",\"ArgusCoin\",\"LomoCoin\",\"ProCurrency\",\"GoldReserve\",\"GrowthCoin\",\"Phreak\",\"Degas Coin\",\"HTML5 Coin\",\"Ultimate Secure Cash\",\"QTUM\",\"Espers\",\"Denarius\",\"Virta Unique Coin\",\"Bitcoin Planet\",\"BritCoin\",\"Linda\",\"DeepOnion\",\"Signatum\",\"Cream\",\"Monoeci\",\"Draftcoin\",\"Stakecoin\",\"CoinonatX\",\"Ethereum Dark\",\"Obsidian\",\"Cardano\",\"Regalcoin\",\"TrezarCoin\",\"TerraNovaCoin\",\"Rupee\",\"WomenCoin\",\"Theresa May Coin\",\"NamoCoin\",\"LUXCoin\",\"Xios\",\"Bitcloud 2.0\",\"KekCoin\",\"BlackholeCoin\",\"Infinity Economics\",\"Magnet\",\"Lamden Tau\",\"Electra\",\"Bitcoin Diamond\",\"Cash & Back Coin\",\"Bulwark\",\"Kalkulus\",\"GermanCoin\",\"LiteCoin Ultra\",\"PhantomX\",\"Digiwage\",\"Trollcoin\",\"Litecoin Plus\",\"Monkey Project\",\"TokenPay\",\"My Big Coin\",\"Unified Society USDEX\",\"Tokyo Coin\",\"Stipend\",\"Pushi\",\"Ellerium\",\"Velox\",\"Ontology\",\"Bitspace\",\"Briacoin\",\"Ignition\",\"MedicCoin\",\"Bitcoin Green\",\"Deviant Coin\",\"Abjcoin\",\"Semux\",\"Carebit\",\"Zealium\",\"Proton\",\"iDealCash\",\"Bitcoin Incognito\",\"HollyWoodCoin\",\"Swisscoin\",\"Xt3ch\",\"TheVig\",\"EmaratCoin\",\"Dekado\",\"Poseidon Quark\",\"BitcoinWSpectrum\",\"Muse\",\"Trivechain\",\"Dystem\",\"Giant\",\"Peony Coin\",\"Absolute Coin\",\"Vitae\",\"TPCash\",\"ARENON\",\"EUNO\",\"MMOCoin\",\"Ketan\",\"XDNA\",\"PAXEX\",\"ThunderStake\",\"Kcash\",\"Bettex coin\",\"BitMoney\",\"Junson Ming Chan Coin\",\"HerbCoin\",\"PirateCash\",\"Oduwa\",\"Galilel\",\"Crypto Sports\",\"Credit\",\"Dash Platinum\",\"Nasdacoin\",\"Beetle Coin\",\"Titan Coin\",\"Award\",\"Insane Coin\",\"ALAX\",\"LiteDoge\",\"TruckCoin\",\"OrangeCoin\",\"BitstarCoin\",\"NeosCoin\",\"HyperCoin\",\"PinkCoin\",\"AudioCoin\",\"IncaKoin\",\"Piggy Coin\",\"Genstake\",\"XiaoMiCoin\",\"CapriCoin\",\" ClubCoin\",\"Radium\",\"Creditbit \",\"OKCash\",\"Lisk\",\"HiCoin\",\"WhiteCoin\",\"FriendshipCoin\",\"Triangles Coin\",\"EOS\",\"Oxycoin\",\"TigerCash\",\"Particl\",\"Nxt\",\"ZEPHYR\",\"Gapcoin\",\"BitcoinPlus\"],\"legendgroup\":\"1\",\"marker\":{\"color\":[1,1,1,1,1,1,1,1,1,1,1,1,1,1,1,1,1,1,1,1,1,1,1,1,1,1,1,1,1,1,1,1,1,1,1,1,1,1,1,1,1,1,1,1,1,1,1,1,1,1,1,1,1,1,1,1,1,1,1,1,1,1,1,1,1,1,1,1,1,1,1,1,1,1,1,1,1,1,1,1,1,1,1,1,1,1,1,1,1,1,1,1,1,1,1,1,1,1,1,1,1,1,1,1,1,1,1,1,1,1,1,1,1,1,1,1,1,1,1,1,1,1,1,1,1,1,1,1,1,1,1,1,1,1,1,1,1,1,1,1,1,1,1,1,1,1,1,1,1,1,1,1,1,1,1,1,1,1,1,1,1,1,1,1,1,1,1,1,1,1,1,1,1,1,1,1,1,1,1,1,1,1,1,1,1,1,1,1,1,1,1,1,1,1,1,1,1,1,1,1,1,1,1,1,1,1,1,1,1,1,1,1,1,1,1,1,1,1,1,1,1,1,1,1,1,1,1,1,1,1,1,1,1,1,1,1,1,1,1,1,1,1,1,1,1,1,1,1,1,1,1,1,1,1,1,1,1,1,1,1,1,1,1,1,1,1,1,1,1,1,1,1,1,1,1,1,1,1,1,1,1,1],\"coloraxis\":\"coloraxis\",\"symbol\":\"circle\"},\"mode\":\"markers\",\"name\":\"1\",\"scene\":\"scene\",\"showlegend\":true,\"x\":[-0.09110494500811109,-0.08968262419168334,-0.1130884907873229,-0.15692916355356856,-0.07869202679950639,-0.067703142483877,-0.14440136156872457,-0.0910776843625475,-0.09036673566704147,-0.09096197576130582,-0.09110471097151664,-0.09110336860172225,-0.08685627635057419,-0.1527117814959716,-0.03975525036990008,-0.09095692629876728,-0.10017711709994022,-0.11307847686707424,-0.1799989333001841,-0.05538658250431056,-0.07593342727347985,-0.0801002190452213,-0.14391414702952357,-0.14397331626331253,-0.05581017860100646,-0.09069115541173585,-0.09098283399633751,-0.05704732242388712,-0.10206824276469184,-0.11310710512536504,-0.023653923305475277,-0.1492111087406639,-0.11310175072012396,-0.08923739886936621,-0.09100965710427701,-0.0392237683346458,-0.11309700069986023,-0.023667917484260618,-0.14395247737346573,-0.0905637484704477,-0.08469133683854864,-0.1526636439189797,-0.07863108785775409,-0.08679993435151069,-0.08009340923003261,-0.14398414347717653,-0.07973746055956955,-0.09110323979498947,-0.14397898681865973,-0.10211664257922913,-0.09108407783036467,-0.11310534830284735,-0.20537525230338188,-0.1657266564214651,-0.09427037747549377,-0.0799718883979697,-0.1439456909728688,-0.07828235531400042,-0.14453484925952922,-0.05247590118078105,-0.07868926084911622,-0.09052798059490585,-0.07869181204614174,-0.1186199572913044,-0.09107898146192774,-0.0799963389103321,-0.11295321735788709,-0.07868179221560107,-0.03856041218611073,-0.15268775941267432,-0.11292309138300122,-0.07861801399199904,-0.078488424354339,-0.1301880465268828,-0.1130274460058296,-0.14473817335700453,-0.08942179253189486,-0.09108331571070828,-0.0909518424152302,-0.13293130796967279,-0.10112126838706381,-0.11307056201231226,-0.0910215630806769,-0.07869320166912099,-0.11310523504425642,-0.09109419082567201,-0.09110269138899875,-0.07992795834443978,-0.038745163704905494,-0.13208619816548942,-0.1526050447024482,-0.09106599947695683,-0.11224571286634194,-0.15253083618447097,-0.1330071425317454,-0.16532150062167267,-0.15258652937757036,-0.15818728529855106,-0.1895161034341547,-0.11307471890624274,-0.03657120954259286,-0.1131012073163373,-0.15264182861551917,-0.09107085950260109,-0.09108659001396675,-0.15268775941267432,-0.1130778995298,-0.07867983763892451,-0.09106924056529503,-0.07321771099598935,-0.09108173245067541,-0.09085199754298091,-0.1131043140726047,-0.09104203746646396,-0.028835562550147135,-0.09109610982428436,-0.09109986851134856,-0.1438805068686431,-0.06323423456487554,-0.09089246927795898,-0.0786909587198062,-0.11309707822616373,-0.0910838257217011,-0.09109648777307194,-0.08010128596322731,-0.0529087896036315,-0.1329887323544503,-0.08957391850057451,-0.08007039665760814,-0.11305488815862408,-0.17126314163210704,-0.11293796158039084,-0.15254854035384546,-0.11304517751168738,-0.15210431799003638,-0.11278112712524084,-0.0910908747158743,-0.09109304994285318,-0.09073509657503781,-0.03990981275482198,-0.11307238715051694,-0.0790435795486837,-0.15269406921856107,-0.09104135823721261,-0.06409021335003513,-0.0676357931967559,-0.14464227322076864,-0.06748159417322093,-0.13030969104882106,-0.13020079423203015,-0.1650947539411323,-0.14395513788043166,-0.062133534666362455,-0.14395848352459473,-0.1510060087440908,-0.16504767082427735,-0.11308899368141251,-0.0800968813703687,-0.15269098603595715,-0.09106442687999995,-0.09109851476081239,-0.16138099018903468,-0.05456212313380055,-0.11308869947573949,-0.05545542347603245,-0.09109781000301193,-0.07340925520228325,-0.02557502859827249,-0.07855778043116175,-0.12922386938382513,-0.1628933252396845,-0.09109469303315611,-0.15476868607443045,-0.13953996829956916,-0.09108047490781242,-0.05394245488186928,-0.11300955476546881,-0.18916864102103265,-0.08624723428996862,-0.1437001558087555,-0.09089847037560345,-0.11931265115347031,-0.1438711811355129,-0.06693558476217876,-0.09103977361369604,-0.11303616193340096,-0.14382223723773915,-0.09008597824683334,-0.09110055839264249,-0.10211427806031334,-0.1447623910247964,-0.04733211088259932,-0.09074644023298968,-0.13244800435550122,-0.09541387747825893,-0.11309535667903146,-0.1331361545376323,-0.08004949567882247,-0.14139607569844356,-0.13028374832092457,-0.0911028548422589,-0.09110172535691108,-0.07962982177738055,-0.15127641588977397,-0.1526604690730778,-0.0910823882817773,-0.18686255423085885,-0.1546420217657858,-0.15267597175906947,-0.0736168614991789,-0.0875822817638149,-0.11430202719767985,-0.08007042211461213,-0.07548847403964966,-0.08009987905912964,-0.1621406786506158,-0.09104883336624647,-0.13351190846524913,-0.14365508540280172,-0.06761750798315386,-0.16660193487437044,-0.0845451711742838,-0.14388228234698208,-0.1548694398990866,-0.07389054309771594,-0.08439107801905534,-0.1437845995540028,-0.09072939953857985,-0.10208445660006717,-0.11305289485000242,-0.07990378583603526,-0.15262999786570478,-0.08675001644475756,-0.10208499277828004,-0.08322671680651539,-0.19539949767886294,-0.12215249496473568,-0.07280414489669086,-0.08213336985674947,-0.15481725431748977,-0.01667581492521614,-0.0910800225021124,-0.15484997009846035,-0.14389108023452102,-0.027671682649440477,-0.10211904684892473,-0.0910500564793949,-0.132743045712189,-0.15932852646757298,-0.1129340998669577,-0.11306840689869477,-0.18815694005447448,-0.06038372421516742,-0.11282529422328509,-0.09102698223315032,-0.0910610050743025,-0.06770883665148687,-0.09109375593958503,-0.11241553532273738,-0.08608826028750811,-0.05778985098402445,-0.11216365072496347,-0.09102970052090921,-0.09048751973956388,-0.1127963623871068,-0.09092547861108909,-0.15271061716909456,-0.07084332307352355,-0.07857611934709026,-0.18948948876146116,-0.06481117836635897,-0.09070139506640086,-0.05579179255483652,-0.14399071644335323,-0.1885023398887403,-0.18838402895886502,-0.06619066744496893,-0.15270440686762451,-0.1708118279955633,-0.08771785747528338,-0.09099528189137741,-0.08012447270249874],\"y\":[-0.038614433120227526,-0.038647351174313054,-0.03190524369903618,0.009232235605814461,-0.025683394788678794,-0.002962982361122769,-0.04700840854858197,-0.03861488887374804,-0.03863887747631053,-0.038619167267642925,-0.0386144275445885,-0.038614458668111085,-0.03299483825410483,0.0007719194329980959,-0.019097660225004157,-0.038616136129595746,-0.009248823898239514,-0.0319055752903715,-0.03556810439425183,-0.016712635676283404,-0.025710848209331495,-0.0158938608138848,-0.045165502310539764,-0.04516354303737266,-0.024527890368955165,-0.03861694075869032,-0.038615864609521294,-0.0397421845183473,-0.009186202979675609,-0.031905213657609996,0.009622557517442782,-0.016367893491557678,-0.0319051244564694,-0.03863362870215214,-0.03861492310920747,-0.024697050207254666,-0.031905401681868534,0.009620355622986557,-0.04516423307635229,-0.03860570094110654,-0.013895904641557138,-0.005488357144009312,-0.025684186631500756,-0.03299682064838732,-0.015894517550554644,-0.045162864681303976,-0.015892977671642782,-0.03861448958613598,-0.04516308873962536,-0.009184067257862182,-0.03861459104017493,-0.031905271857996,-0.012838182243055303,-0.04601655354771342,0.007429861741467852,-0.01589587619040021,-0.04516312515257777,-0.025670893776744984,-0.04701261594384291,-0.03190713373877687,-0.025683486377702933,-0.03194524415532138,-0.02568370840750406,-0.04005580714548821,-0.03861417343388872,-0.015891840162888235,-0.03190007468444712,-0.025683253935693613,-0.020658492089947075,0.0007716570456582614,-0.03190930797536891,-0.0256804956858776,-0.02567673030468553,-0.03967035379553346,-0.03190414669471679,-0.00843226117859601,-0.03861686173055138,-0.03861396772378136,-0.03861683752928124,-0.022439305935689338,-0.009200049261994359,-0.03190509109567898,-0.03861479539456725,-0.025683382538017507,-0.0319051956498047,-0.0386142295153208,-0.038614507745525134,-0.015899996132240742,-0.015867474102069047,-0.053001985825877236,0.0007703573636977425,-0.03861572272625262,-0.03189375773629999,0.0007669938947581619,-0.022442058755937935,-0.042957339683751324,0.0007757944602618573,-0.05247070011449262,0.02189671672953272,-0.031905486505136485,-0.04869729830800725,-0.03190530627653363,0.0007709357226391408,-0.038614534595482565,-0.03861392149160561,0.0007716570456582614,-0.03190458159974872,-0.025683851714517845,-0.038614735860164714,0.000304344235135863,-0.03861445548008494,-0.038605467046670325,-0.03190517284029029,-0.038612678171930384,-0.01672520568626933,-0.03861437919418414,-0.038614512844381894,-0.013545953975180955,-0.024923305168078377,-0.038608142417315874,-0.025683456808886437,-0.03190529639468205,-0.038614599388259015,-0.03861412858043371,-0.01589279082164134,-0.013254889813352965,-0.02244234787969566,-0.038638477219854604,-0.015894362004741248,-0.03190427746248844,-0.04188982009371568,-0.03190788272845033,0.0007694535654323061,-0.031904599011522636,0.0007624656070152312,-0.03190268138536451,-0.03861433366816746,-0.03861406473181556,-0.038600027084575654,-0.0018846739559658433,-0.03190529718823067,-0.0158759749171278,0.0007721325109338157,-0.03861374012413249,-0.04727832743093252,-0.002960212848581385,-0.008433664309555763,-0.04931211310365652,-0.039668458003090386,-0.0396691320949965,-0.049373261090923576,-0.04516334539360569,-0.03824112244763073,-0.045163530504015524,-0.00692383938240139,-0.04937482015602497,-0.03190556001342273,-0.01589393866095854,0.0007728726462768223,-0.038614488746761676,-0.038614534104440185,0.00928611945311546,-0.01250658045623445,-0.03190510352451599,-0.02452907673358986,-0.0386142500450051,-0.0019439833251544175,-0.040118006760136535,-0.025685761172242867,-0.039672695976052406,-0.03905907707371043,-0.03861421288570462,-0.03626502348114533,-0.009440145252391459,-0.03861484925115031,-0.00317909812936313,-0.03190460586385053,0.02189520600890651,-0.04032818112155443,-0.045166991113331736,-0.03861567302705585,-0.01694759024458041,-0.01354612951433666,-0.03808211197381884,-0.038612593217921244,-0.03190623018684582,-0.01354508491130074,-0.03862418664957329,-0.03861447176414746,-0.009184118901427632,-0.00843168580717047,-0.022853836464316185,-0.0386201208446167,-0.022439317881791543,-0.03070373389001372,-0.03190493638996636,-0.021346983532967972,-0.015892666709235195,-0.0012386516558817039,-0.039668250931960566,-0.03861442237456342,-0.0386144064695712,-0.015896541918873627,0.00045891612446396135,0.0007725657728585763,-0.038614380457838875,0.02790665543953026,-0.03626921772138246,0.0007728658911699936,-0.003627812487872609,-0.038594564648878636,0.017987138536070237,-0.01589458574990746,-0.03885968294571603,-0.015893130589779488,-0.05253718219632591,-0.03861405230958292,-0.024291380188428743,-0.01353649381006914,-0.0029634788674888944,0.00710863846234823,-0.02634948320523158,-0.013545735266641904,-0.03626688049549078,-0.015650013319662474,-0.024664123176392667,-0.013546864266253438,-0.038600215730768106,-0.00918420018396969,-0.03190567610911984,-0.01589386681841518,0.0007748084253535502,-0.03677790889525652,-0.009182983051567324,-0.038395554036999936,0.03556037630334734,0.001373588575278551,0.018285173410136715,-0.009846307210831599,-0.03626730655400517,0.005627271733887144,-0.038614698671576436,-0.036267155125073836,-0.01354564730303378,-0.03872126861596378,-0.009183995641037876,-0.03861401180858908,-0.021348273310279903,-0.052499702174031077,-0.031899748220346955,-0.03190569551489083,0.021875031936230055,-0.038698856627334216,-0.031914545299754335,-0.038611684137284115,-0.038614442026310404,-0.0029625672607654393,-0.03861480362541324,-0.031914787241109015,-0.038500695953778974,-0.026371051681542728,-0.03190980148446266,-0.038616524902375444,-0.03862421681156704,-0.03190995952954618,-0.038616111344415845,0.0007721207541787735,-0.004455524732454741,-0.025685020650785536,0.0218967661114436,-0.01613379474289,-0.03861980003370135,-0.0245269960159501,-0.04516296366618506,0.02185981633204442,0.02185589869756729,-0.002986745324650954,0.0007719053610128873,0.025450114749486136,0.011779209036608437,-0.03861140118982427,-0.015893462291725835],\"z\":[-0.00024761994273103834,-0.00022375309697018558,0.00027453786250732955,-0.00027597865386022445,0.0001386897611532926,2.7394465358334267e-05,0.002568665324566873,-0.0002472077690757003,-0.00023333084643521268,-0.0002448525685005233,-0.00024761885613093016,-0.0002475963164483098,0.00018898967127841225,0.000524863175672825,-0.001982336614897043,-0.00024558134136957527,0.00020054118898445706,0.00027473169623412104,-9.838755219001357e-05,0.00011969369513338273,0.00017557543117642667,-0.00035878547419047695,0.00012174025366326735,0.00012059494864583146,-0.00023208084067004542,-0.0002425032473819346,-0.0002459312945755444,0.00041161397913282014,0.00016393575109509861,0.0002743290758026822,-0.0002985856006348889,9.74516392688596e-05,0.00027436384881454097,-0.00022249108565068162,-0.0002464642693419207,0.0014601124506812917,0.0002744867864561078,-0.00029816771759366283,0.00012099831511805507,-0.00024403191415410053,-0.0007006442263221392,-0.0019883870061672953,0.00013955249163179396,0.0001901104188338398,-0.00035854221906704374,0.00012030272121679856,-0.000355096126013905,-0.00024758693560648427,0.00012041631091355821,0.0001628611514955166,-0.00024735378048793894,0.0002743630884990082,-0.0005230887073031815,0.0004498875705806537,-0.00019489239886625784,-0.00035687877017918733,0.0001207852954149559,0.00013988346150852122,0.002568311010730657,-0.00011276937984460158,0.00013874330007309014,0.0005285144078323217,0.00013877312545231205,0.00035053131403308866,-0.00024740666027726416,-0.00035818580730222015,0.00027466296042352224,0.00013876388927632136,-0.0005619783523071938,0.0005251904053288636,0.00027737436118993077,0.00013873987051262116,0.00013916631264506072,0.00012599454258879604,0.00027491362181205676,-0.00023337893346028765,-0.00022881532973965485,-0.0002475066269246685,-0.0002453451834723931,8.884990363359707e-06,0.0001777406369735863,0.00027469204665122633,-0.0002466258504819997,0.00013867390747769804,0.0002743446179700686,-0.0002475564195576852,-0.0002475763204254168,-0.0003553396809019402,-0.0004669584988410333,0.0008504436428781449,0.0005264195360748248,-0.0002468660960694237,0.00028067115464355276,0.0005280901271384208,8.777404967323326e-06,-0.0005186523803779266,0.0005252144406202875,0.0004312735463062087,0.00265710901181624,0.0002747493361041301,0.002193661638254694,0.0002744167030192761,0.0005258728333930329,-0.00024722561704746754,-0.00024755393466744725,0.0005251904053288636,0.00027448114248620527,0.00013893947497041682,-0.00024715612288026895,-0.00010651176045804735,-0.0002473634831431738,-0.0002472052700124107,0.00027434866948447035,-0.00024739409205002744,0.0004096767454465694,-0.00024753846368778327,-0.0002475445174373404,-5.537737613256489e-05,0.0008873406835808855,-0.00024695097303671166,0.0001387173229647368,0.0002744587409996506,-0.0002473489005646957,-0.00024760730868248826,-0.000359073502682423,-0.0025387906701754177,9.050938683944855e-06,-0.00022487234154692603,-0.00035833389341803444,0.0002746510562945063,-0.0003494728695320962,0.00027684546115921456,0.0005272633070939346,0.0002748390197334309,0.0005338664579019614,0.00027719505061903944,-0.00024749369252228604,-0.00024758668192851674,-0.0002473486014144912,4.888988079577369e-05,0.0002747255945304787,-0.0003519964734850899,0.000524999393989507,-0.0002471123280589439,0.003505728628435082,2.7406101385476083e-05,-0.0002319806750088194,-0.0004057784895748892,0.00012419094743551366,0.00012554116444421344,-0.00011478057738536507,0.00012074018909949537,-3.121710036245512e-05,0.0001207518942614462,-0.001247222688182419,-0.00011386921642094772,0.00027461417323867466,-0.0003587293121798793,0.000524841425360274,-0.00024716799685662656,-0.0002475244037573411,-0.00033798026449668767,0.0004594417559195093,0.00027449938502707206,-0.00022794312377265557,-0.0002475901991891107,-0.0015353023355254983,0.0008486150815167413,0.00014075105824713974,0.0001370123281451401,0.00017210730861725213,-0.00024756614050068027,5.6658436451559496e-05,-0.0006767828543365061,-0.0002472481444878805,0.00023184988801989634,0.00027522549430127925,0.00266125179168495,0.0007705234911726435,0.00012443596258629572,-0.00024506972781855114,1.2866060680761712e-05,-5.523130126791622e-05,-0.00012416763760068867,-0.0002473915975681286,0.0002753579093040751,-5.497268258772284e-05,-0.0002340952288335344,-0.00024756258364908924,0.00016290003253224017,-0.000233789156374481,-0.00030467370972413595,-0.00024227849457790016,1.4107459866767166e-05,0.0003475221014887145,0.00027438430055756237,-0.0007313180846366967,-0.0003585462724137021,2.2602187391611717e-05,0.00012441760183931462,-0.00024760014710737755,-0.000247592059512617,-0.0003530126236695861,-0.0002109836106523313,0.0005252502917818824,-0.0002473899528978398,0.002648829459709324,5.911020503010804e-05,0.0005250053159841794,0.00025984189390977646,-0.0002147117342284718,-0.0012003212823662249,-0.00035827634831363063,-1.5594401864477977e-05,-0.00035897050640524935,0.00040575956426039893,-0.00024711238018158344,0.002457170740358809,-5.538765000698281e-05,2.8447572135561066e-05,0.0012957266949016643,0.00037211652476245053,-5.5453068672745034e-05,5.6050244958946906e-05,-0.00035473963511649316,-0.0014240012188035218,-5.4106399398762307e-05,-0.0002472383271381142,0.0001632430909611268,0.00027503401980757443,-0.0003566625644080677,0.0005249998178808179,-5.00914646257943e-05,0.00016292277030584862,-0.00021910244910592838,-0.0007964425439111113,-0.0008427110689867335,-0.0026599253922900286,0.000549803684498045,5.6723918868659294e-05,-0.0004825942130259301,-0.0002472821714219288,5.63314763855934e-05,-5.557081193477421e-05,0.00046502869080639725,0.00016281667970315683,-0.00024713605528324035,-0.0007267394475030959,0.00042644352824137033,0.0002747850530332112,0.0002748715140241891,0.0026773909068851034,0.00010596703319339,0.00027978393514401824,-0.0002474883823089059,-0.0002471431169122441,2.7225701982338135e-05,-0.0002474033620415796,0.0002842716020448835,-0.0002228346829310878,0.0005421241063034551,0.0002857033863609917,-0.00024626679199133767,-0.00023842383607112575,0.00027891133060883345,-0.00024524813060775936,0.000524823724450203,0.0018409757795102147,0.00014036164432242235,0.002657383672717485,-0.00013166970867288616,-0.0002418749380933928,-0.00023211340055433413,0.00012025731680012767,0.0026775928034020527,0.0026798828804053057,4.9869071129595025e-05,0.0005249464536024883,0.0032000896502245896,0.0014319471447475523,-0.000247219157101889,-0.00035915038454080255],\"type\":\"scatter3d\"},{\"customdata\":[[\"X13\"],[\"SHA-256\"],[\"Scrypt\"],[\"Scrypt\"],[\"X11\"],[\"Scrypt\"],[\"SHA-256\"],[\"Scrypt\"],[\"Scrypt\"],[\"Quark\"],[\"Groestl\"],[\"Scrypt\"],[\"Scrypt\"],[\"Scrypt\"],[\"X11\"],[\"Scrypt\"],[\"SHA-256\"],[\"Scrypt\"],[\"Scrypt\"],[\"Scrypt\"],[\"Scrypt\"],[\"Scrypt\"],[\"NeoScrypt\"],[\"Scrypt\"],[\"Scrypt\"],[\"Scrypt\"],[\"SHA-256\"],[\"Scrypt\"],[\"Scrypt\"],[\"Scrypt\"],[\"Scrypt\"],[\"Scrypt\"],[\"Scrypt\"],[\"SHA-256\"],[\"Scrypt\"],[\"Scrypt\"],[\"Scrypt\"],[\"Scrypt\"],[\"SHA-256\"],[\"SHA-256\"],[\"SHA-256\"],[\"SHA-256\"],[\"SHA-256\"],[\"X11\"],[\"Scrypt\"],[\"Lyra2REv2\"],[\"Scrypt\"],[\"SHA-256\"],[\"Scrypt\"],[\"Scrypt\"],[\"Scrypt\"],[\"Scrypt\"],[\"Scrypt\"],[\"Scrypt\"],[\"QuBit\"],[\"Scrypt\"],[\"Scrypt\"],[\"Scrypt\"],[\"SHA-256\"],[\"Scrypt\"],[\"X11\"],[\"SHA-256\"],[\"X11\"],[\"Scrypt\"],[\"Scrypt\"],[\"X11\"],[\"SHA-256\"],[\"Scrypt\"],[\"Scrypt\"],[\"SHA-256\"],[\"X11\"],[\"Scrypt\"],[\"Scrypt\"],[\"Scrypt\"],[\"X11\"],[\"Scrypt\"],[\"X11\"],[\"Equihash\"],[\"SHA-256\"],[\"Scrypt\"],[\"SHA-256\"],[\"Scrypt\"],[\"Scrypt\"],[\"X11\"],[\"X11\"],[\"Scrypt\"],[\"X11\"],[\"Scrypt\"],[\"X11\"],[\"Scrypt\"],[\"Scrypt\"],[\"NIST5\"],[\"Scrypt\"],[\"SHA-256\"],[\"Scrypt\"],[\"X11\"],[\"Scrypt\"],[\"Scrypt\"],[\"X11\"],[\"X11\"],[\"Keccak\"],[\"X11\"],[\"SHA-256\"],[\"Scrypt\"],[\"Scrypt\"],[\"Scrypt\"],[\"Scrypt\"],[\"Scrypt\"],[\"X11\"],[\"NeoScrypt\"],[\"Scrypt\"],[\"X11\"],[\"NeoScrypt\"],[\"NeoScrypt\"],[\"X11\"],[\"Scrypt\"],[\"X11\"],[\"NeoScrypt\"],[\"NeoScrypt\"],[\"Scrypt\"],[\"X11\"],[\"SHA-256\"],[\"C11\"],[\"Ethash\"],[\"Scrypt\"],[\"Lyra2REv2\"],[\"Scrypt\"],[\"Scrypt\"],[\"X11\"],[\"Scrypt\"],[\"X11\"],[\"NIST5\"],[\"X16R\"],[\"X11\"],[\"Scrypt\"],[\"XEVAN\"],[\"SHA-256\"],[\"X11\"],[\"X16R\"],[\"SHA-256\"],[\"Scrypt\"],[\"QuBit\"],[\"SHA-256\"],[\"X13\"],[\"SHA-256\"],[\"Scrypt\"],[\"NeoScrypt\"],[\"Scrypt\"],[\"SHA-256\"],[\"Scrypt\"],[\"Groestl\"],[\"Scrypt\"],[\"Scrypt\"]],\"hovertemplate\":\"<b>%{hovertext}</b><br><br>Class=%{marker.color}<br>PC1=%{x}<br>PC2=%{y}<br>PC3=%{z}<br>Algorithm=%{customdata[0]}<extra></extra>\",\"hovertext\":[\"EliteCoin\",\"Bitcoin\",\"Litecoin\",\"ProsperCoin\",\"Spreadcoin\",\"Argentum\",\"ZetaCoin\",\"SexCoin\",\"Quatloo\",\"QuarkCoin\",\"Riecoin\",\"Digitalcoin \",\"Catcoin\",\"CannaCoin\",\"CryptCoin\",\"CasinoCoin\",\"DevCoin\",\"EarthCoin\",\"E-Gulden\",\"Einsteinium\",\"Emerald\",\"Franko\",\"FeatherCoin\",\"GrandCoin\",\"GlobalCoin\",\"GoldCoin\",\"IXcoin\",\"KrugerCoin\",\"LuckyCoin\",\"Litebar \",\"MegaCoin\",\"MinCoin\",\"NobleCoin\",\"Namecoin\",\"NyanCoin\",\"RonPaulCoin\",\"StableCoin\",\"SmartCoin\",\"SysCoin\",\"TigerCoin\",\"TerraCoin\",\"UnbreakableCoin\",\"Unobtanium\",\"UroCoin\",\"ViaCoin\",\"Vertcoin\",\"WorldCoin\",\"JouleCoin\",\"MonaCoin\",\"Gulden\",\"PesetaCoin\",\"Wild Beast Coin\",\"Flo\",\"ArtByte\",\"CypherPunkCoin\",\"OmniCron\",\"GreenCoin\",\"MasterCoin\",\"SoonCoin\",\"1Credit\",\"MarsCoin \",\"Anarchists Prime\",\"BowsCoin\",\"Song Coin\",\"BitZeny\",\"MindCoin\",\"I0coin\",\"Revolution VR\",\"Gamecredits\",\"CarpeDiemCoin\",\"Adzcoin\",\"YoCoin\",\"ZeitCoin\",\"Francs\",\"BolivarCoin\",\"Omni\",\"PizzaCoin\",\"Komodo\",\"ZayedCoin\",\"DopeCoin\",\"DollarCoin\",\"Shilling\",\"KiloCoin\",\"ArtexCoin\",\"Kurrent\",\"OsmiumCoin\",\"PacCoin\",\"BeaverCoin\",\"VaultCoin\",\"Canada eCoin\",\"EB3coin\",\"Coinonat\",\"BenjiRolls\",\"ILCoin\",\"EquiTrader\",\"DigitalPrice\",\"Unify\",\"SocialCoin\",\"ArcticCoin\",\"DAS\",\"SmartCash\",\"Onix\",\"Bitcoin Cash\",\"Sojourn Coin\",\"FrazCoin\",\"Kronecoin\",\"AdCoin\",\"Linx\",\"Elements\",\"VIVO Coin\",\"eBoost\",\"Pura\",\"Innova\",\"GoByte\",\"AC3\",\"PopularCoin\",\"Sucre\",\"SparksPay\",\"GunCoin\",\"IrishCoin\",\"Pioneer Coin\",\"UnitedBitcoin\",\"Interzone\",\"1717 Masonic Commemorative Token\",\"ShareChain\",\"KREDS\",\"BitFlip\",\"LottoCoin\",\"Crypto Improvement Fund\",\"Poseidon\",\"FuturoCoin\",\"Jumpcoin\",\"Motion\",\"Axe\",\"HexCoin\",\"Urals Coin\",\"Project Pai\",\"Azart\",\"Xchange\",\"Bitcoin SV\",\"Block-Logic\",\"SLICE\",\"BLAST\",\"Bitcoin Rhodium\",\"GlobalToken\",\"SolarCoin\",\"UFO Coin\",\"Crypto Escudo\",\"Crown Coin\",\"SmileyCoin\",\"Groestlcoin\",\"Bata\",\"Pakcoin\"],\"legendgroup\":\"0\",\"marker\":{\"color\":[0,0,0,0,0,0,0,0,0,0,0,0,0,0,0,0,0,0,0,0,0,0,0,0,0,0,0,0,0,0,0,0,0,0,0,0,0,0,0,0,0,0,0,0,0,0,0,0,0,0,0,0,0,0,0,0,0,0,0,0,0,0,0,0,0,0,0,0,0,0,0,0,0,0,0,0,0,0,0,0,0,0,0,0,0,0,0,0,0,0,0,0,0,0,0,0,0,0,0,0,0,0,0,0,0,0,0,0,0,0,0,0,0,0,0,0,0,0,0,0,0,0,0,0,0,0,0,0,0,0,0,0,0,0,0,0,0,0,0,0,0,0,0,0,0,0,0,0,0,0,0,0,0],\"coloraxis\":\"coloraxis\",\"symbol\":\"diamond\"},\"mode\":\"markers\",\"name\":\"0\",\"scene\":\"scene\",\"showlegend\":true,\"x\":[0.006033552976261625,0.10340214110434842,0.09107451727520961,0.0909847183957201,0.06898843925600763,0.09100807570964627,0.10363399591440595,0.09121237759899394,0.09101573713572399,0.027589740407559682,0.09530205669374404,0.09102690122519154,0.09098640485920935,0.09098057934060033,0.06898055271093324,0.01939279302441199,0.13293887645480854,0.11052268839847779,0.09100230994591281,0.09133524242230723,0.0910047295197944,0.09097573899116047,0.12662639224946776,0.09252198858496254,0.09107240699424218,0.09104533769481805,0.10340581478830604,0.0912442193597179,0.09100010026662254,0.0909720438830335,0.09103009505750705,0.09098069815313066,0.09925807537478183,0.1033984341929225,0.0914835570145326,0.09097929977469972,0.09109071149861776,0.09101890264527102,0.10435593034392938,0.10344149869295978,0.10341571406991469,0.1034057474988906,0.10337388515627496,0.06896950320354646,0.09100565130143212,0.09773972361685292,0.09120722813116967,0.10343571247226342,0.09108830557608884,0.0920727996181341,0.09119146571816467,0.09097144417156257,0.09120624701714082,0.09226026725437071,0.11878413917860388,0.09098328760296076,0.10001904308921501,0.09097121082723125,0.1033957926086482,0.12494298571893665,0.06901772013479285,0.10341054394708178,0.06899428517557916,0.09108573024280255,0.09115042511685013,0.06899244331897487,0.10340570805503169,0.09129177797003891,0.0910824135843394,0.13661605137484878,0.06905152640306951,0.09103316848955158,-0.0006158323674981259,0.09098528143694047,0.06899319504339207,0.09097120618822076,0.06897893309820381,0.06710861036926964,0.10338440845485254,0.09117986190338669,0.10338806761378924,0.09099425824865028,0.0948909894943958,0.07011002378734028,0.06912358473818449,0.09097230333058866,0.10651870612285515,0.09097512230802408,0.06937266889140849,0.09112318312534541,0.09252179702387332,0.051786556216319175,0.09100693486318186,0.10582763343020359,0.09101273486079521,0.06904585038097234,0.09099844708962408,0.09100396117017324,0.06902051160741053,0.0689781269196178,0.09963446126913024,0.06951658214957192,0.10340222058567734,0.09484813607960497,0.0909889214999935,0.0910215579195064,0.09104511678387191,0.0910463596277188,0.07277284908706079,0.12627470521845666,0.0911233534312821,0.06930090285967422,0.12628391869972014,0.12627841358762462,0.06926450586281725,0.09742204677517763,0.06898032522485026,0.12627676656996967,0.12679282190786167,0.09104673585732115,0.06898644326918459,0.10340443411014544,0.08666345413963324,-0.010712057177950318,0.1062805281083492,0.09880338364953006,0.09099949246278845,0.1146024297434657,0.06939821133276786,0.09098274561533738,0.06904197299441583,0.0517892097186159,0.09747425088663965,0.06898165591843969,0.09098007096876527,0.04901108744588823,0.106588715229161,0.0689831595358884,0.0975049170214274,0.1034022170132686,0.09105556684021461,0.11882868766631094,0.10345794538878152,0.03808641821687209,0.10353389641465047,0.1272599689308984,0.132180327672931,0.09224594677453703,0.10341577393893817,0.1438031077740988,0.09533740264595081,0.09097797858012219,0.09111842563646667],\"y\":[-0.041757488985403685,0.012663970664445232,-0.00026762653275559645,-0.00026633214800178556,0.006442665899198898,-0.0002659595074299485,0.012660259072364899,-0.0002677671352290454,-0.0002652536982034951,0.0020748709037199495,0.005352551248358997,-0.0002670048985751047,-0.000266387991933674,-0.00026640458264868405,0.006442873740991341,-0.021568621698633654,0.01224506956696205,-0.0005540400536993325,-0.00026691465769564793,-0.0002705084524185568,-0.0002667015958734144,-0.00026629505596337954,0.013817018608624849,-0.0002799322616877721,-0.0002679297947336333,-0.0002669735936680906,0.012663849017603368,-0.00026841050455157794,-0.0002668681413408316,-0.0002664361847193252,-0.00026727499749706207,-0.0002664922068181045,-0.00014105521557967185,0.012664093411548769,-0.0002744279125915657,-0.00026615272099068975,-0.0002637384008590123,-0.0002666591765592767,0.012655495818257185,0.012663360707950183,0.012664080931994169,0.012665423763467411,0.012664353258283747,0.006442759872599474,-0.00026697199444748076,0.013682895439900684,-0.0002671856125448375,0.01266349868263762,-0.0002675201972717409,-0.0002581447586491592,-0.00026930323006819234,-0.0002663822641170917,-0.0002699628888550786,-0.00028247631475982593,0.013424495530734843,-0.0002667546240831126,-0.00029951738191218033,-0.00026642807019756226,0.012664180882432803,0.0010607082091617418,0.006442042807259694,0.012664565567902727,0.006442498975876548,-0.00026463317335660724,-0.000265715700249622,0.006442426701134313,0.012663852551866488,-0.00027146243653997814,-0.0002678880035504735,0.012139999271311505,0.006442282673934821,-0.0002640091468758474,-0.015887630274490357,-0.0002663774448503701,0.006442641684836529,-0.0002664279973439363,0.00644311394118883,0.007525094573811725,0.012664257628747663,-0.0002680230838452911,0.012664160511680247,-0.00026640816594489974,-0.00012971194140765741,0.00641832019086765,0.006443734612766971,-0.0002664084137165707,0.007864675887666749,-0.00026648454851378733,0.00645606267380151,-0.0002688115614864692,-0.00021117783283657745,-0.001320115226565366,-0.0002666807928290854,0.012649727638136946,-0.0002659005633453909,0.006442897069757768,-0.00026683267496151186,-0.0002655300812550443,0.006442669999864303,0.00644297805387289,0.001550927285225012,0.006453962552669234,0.012663968032576467,-0.00011496651335155614,-0.00026649797840149625,-0.0002658728875258382,-0.0002662265476488929,-0.00026626770198610893,0.006364794647158601,0.013820428306793893,-0.00026881720083365285,0.006441114717615481,0.013820602971591062,0.01382043344506365,0.006447650501303083,-0.00034678715324083017,0.006442929248863454,0.013820200132125182,0.013815878682964996,-0.00026723966242141206,0.006442811950916598,0.012663872507582998,0.0076443132501238225,0.011654456478743424,-0.0005068541817772935,0.013674753711348367,-0.00026631495825874,-0.0005583477286349826,0.006441890464689941,-0.0002662668232473397,0.006443025461811416,-0.0013209294353549229,0.011998772242359705,0.006442917168965233,-0.0002661487991694744,0.017002649055283082,0.012613864769578516,0.006442973990991442,0.01199983369752572,0.012663968150869787,-0.00026603952392601654,0.013425685679157268,0.0126632688872053,-0.00681495476512415,0.012663525813515653,0.0011465681920732383,0.013730766941255138,-0.00028200212014749254,0.012664078949548851,-0.0006832271393377919,0.005351940546144816,-0.00026653541770250283,-0.0002664684934857166],\"z\":[0.0008603876469883021,-0.00037986390456447923,-0.0007651080599420275,-0.0007664123264685856,-0.0002443425790144138,-0.0007662563792549986,-0.00037640086863446106,-0.0007635829186931236,-0.0007663560351404869,-0.0004571107320794407,-0.00032887726511317706,-0.0007657829262027909,-0.0007663796825593987,-0.0007664383072272968,-0.00024448145914969467,0.00029907556894631366,4.736675335506803e-05,-0.0004810650240122048,-0.000766071816892772,-0.0007615476452901454,-0.000766100746224147,-0.0007665188838178634,-0.0007463019645179393,-0.0007462962227989431,-0.0007650524809938612,-0.0007655919134321902,-0.0003797927951653879,-0.0007630727882992522,-0.0007661077007874612,-0.0007665223183516872,-0.0007656786360537742,-0.0007664143803659155,-0.0007094391010147495,-0.0003799356571289803,-0.0007589330753537576,-0.0007665172116165968,-0.0007659379398128503,-0.0007659586471288233,-0.000367373504049049,-0.0003792812423553872,-0.00037974582010782184,-0.00038020046625827155,-0.0003802679210169947,-0.00024457136128043456,-0.0007660209153921464,-0.0019420696334380343,-0.0007637888063535997,-0.00037937938528206146,-0.0007649866338751038,-0.0007567774948689825,-0.0007634117979258453,-0.000766542728980985,-0.0007630817005391427,-0.000748465220631673,0.0003678560116507682,-0.000766318602263633,-0.0006602714663807764,-0.000766533411790466,-0.0003799867887649611,-0.0007426164558982052,-0.00024386534463684216,-0.00037992689343643084,-0.0002442363104963174,-0.0007657605080150402,-0.0007647820974570788,-0.00024423752424336477,-0.0003797948611403346,-0.0007617705069802477,-0.0007649552156023424,0.00011423015681380631,-0.00024356224381850918,-0.000766489403051424,0.0004979870275038107,-0.0007663945403981915,-0.0002442849619758292,-0.0007665334807156648,-0.00024456102229188033,-0.0012347309707668862,-0.00038012956335244704,-0.000763867926237966,-0.000380064949776624,-0.0007662896574236638,-0.0007595322668960859,-0.00022593875842603876,-0.0002431592667514049,-0.0007665266930348586,-0.00020651327233452802,-0.0007664765751229267,-0.00024365511720765516,-0.0007642762645716677,-0.0007640657491481304,-0.0003945928214903569,-0.000766082305773092,-0.00034998940607052604,-0.0007662212955594387,-0.00024378231298889606,-0.0007661347192741868,-0.000766411785681504,-0.00024399727699410346,-0.0002445346126479642,-0.0005175240996450249,-0.0002415582309348153,-0.00037986236609002024,-0.0007638055577178408,-0.0007663240817795295,-0.0007661331639009679,-0.0007657873500945993,-0.0007657632930770547,-0.0001833498566963938,-0.0007509810997339518,-0.000764272968057051,-0.000240567308922981,-0.0007509267365107509,-0.000750942379450028,-0.00024264934548680288,-0.0006761020208977582,-0.00024449826015406014,-0.0007508998737102668,-0.0007442100477917069,-0.0007655080568875933,-0.00024440187700043527,-0.00037981377590148087,-0.00017138954672870084,-0.0004028433189557352,-0.0005390714820355447,-0.0019284787797502945,-0.0007662572177698672,-0.000435893135974496,-0.00023971690499786875,-0.0007664505124501846,-0.0002438573653428944,-0.0003943537581917552,-0.00014747434175251486,-0.00024448076780360313,-0.0007665098966675062,-0.0012498844538874165,-0.0003325025395534904,-0.00024447921355487347,-0.0001474174666067552,-0.00037986243523909554,-0.0007657228264019882,0.0003680295508921896,-0.00037907989990051196,-0.0003986465767314499,-0.0003783260701023728,-0.0007397823187599536,-0.0006640337924745088,-0.0007487424139694007,-0.0003797446612574174,-8.82725104539289e-05,-0.0003283377334066988,-0.0007664325835674173,-0.0007649331360549856],\"type\":\"scatter3d\"},{\"customdata\":[[\"Ethash\"],[\"CryptoNight-V7\"],[\"Ethash\"],[\"Equihash\"],[\"Multiple\"],[\"Multiple\"],[\"Scrypt\"],[\"Multiple\"],[\"Scrypt\"],[\"HybridScryptHash256\"],[\"CryptoNight\"],[\"CryptoNight\"],[\"Stanford Folding\"],[\"Multiple\"],[\"M7 POW\"],[\"Lyra2RE\"],[\"Ethash\"],[\"Blake2b\"],[\"1GB AES Pattern Search\"],[\"Dagger\"],[\"X11GOST\"],[\"CryptoNight\"],[\"Multiple\"],[\"Lyra2Z\"],[\"Ethash\"],[\"Equihash\"],[\"CryptoNight\"],[\"CryptoNight\"],[\"Lyra2RE\"],[\"CryptoNight-V7\"],[\"Equihash\"],[\"Lyra2RE\"],[\"Dagger-Hashimoto\"],[\"CryptoNight-V7\"],[\"Argon2d\"],[\"Blake2b\"],[\"Cloverhash\"],[\"CryptoNight\"],[\"CryptoNight\"],[\"Time Travel\"],[\"Scrypt\"],[\"Scrypt\"],[\"CryptoNight\"],[\"Equihash\"],[\"Equihash\"],[\"Dagger\"],[\"Ethash\"],[\"Multiple\"],[\"CryptoNight\"],[\"CryptoNight\"],[\"Ethash\"],[\"CryptoNight-V7\"],[\"BLAKE256\"],[\"CryptoNight\"],[\"SkunkHash\"],[\"CryptoNight\"],[\"Dagger\"],[\"Ethash\"],[\"CryptoNight\"],[\"IMesh\"],[\"Equihash\"],[\"Lyra2Z\"],[\"CryptoNight\"],[\"Lyra2RE\"],[\"Tribus\"],[\"Lyra2Z\"],[\"CryptoNight\"],[\"CryptoNight Heavy\"],[\"CryptoNight\"],[\"Jump Consistent Hash\"],[\"CryptoNight\"],[\"Scrypt\"],[\"HMQ1725\"],[\"CryptoNight-V7\"],[\"Cryptonight-GPU\"],[\"CryptoNight Heavy\"],[\"Equihash\"],[\"Lyra2Z\"],[\"CryptoNight\"],[\"Blake\"],[\"Blake\"],[\"Exosis\"],[\"Equihash\"],[\"Equihash\"],[\"Blake\"],[\"Multiple\"],[\"Equihash+Scrypt\"],[\"Ethash\"],[\"CryptoNight\"],[\"Equihash\"]],\"hovertemplate\":\"<b>%{hovertext}</b><br><br>Class=%{marker.color}<br>PC1=%{x}<br>PC2=%{y}<br>PC3=%{z}<br>Algorithm=%{customdata[0]}<extra></extra>\",\"hovertext\":[\"Ethereum\",\"Monero\",\"Ethereum Classic\",\"ZCash\",\"DigiByte\",\"MyriadCoin\",\"MoonCoin\",\"Verge\",\"Infinite Coin\",\"MediterraneanCoin\",\"ByteCoin\",\"DigitalNote \",\"Folding Coin\",\"Unitus\",\"Cryptonite\",\"Crypto\",\"Expanse\",\"Siacoin\",\"HOdlcoin\",\"SoilCoin\",\"SibCoin\",\"Karbo\",\"Circuits of Value\",\"ZCoin\",\"Elementrem\",\"ZClassic\",\"Cannabis Industry Coin\",\"Bikercoins\",\"HexxCoin\",\"Citadel\",\"Zero\",\"Zoin\",\"DubaiCoin\",\"Quantum Resistant Ledger\",\"Dynamic\",\"Nano\",\"ChanCoin\",\"Dinastycoin\",\"LeviarCoin\",\"Bitcore\",\"gCn Coin\",\"NewYorkCoin\",\"Sumokoin\",\"BitcoinZ\",\"Bitcoin Gold\",\"Pirl\",\"Ellaism\",\"SHIELD\",\"UltraNote\",\"BitCoal\",\"DaxxCoin\",\"Lethean\",\"Photon\",\"TurtleCoin\",\"MUNcoin\",\"Niobio Cash\",\"Travelflex\",\"Callisto Network\",\"BitTube\",\"Aidos Kuneen\",\"Bitrolium\",\"Alpenschillling\",\"Monero Classic\",\"Infinex\",\"KEYCO\",\"GINcoin\",\"PlatinCoin\",\"Loki\",\"Newton Coin\",\"MassGrid\",\"PluraCoin\",\"Lynx\",\"PlusOneCoin\",\"Webchain\",\"Ryo\",\"Qwertycoin\",\"CrypticCoin\",\"Actinium\",\"FREDEnergy\",\"Universal Molecule\",\"Lithium\",\"Exosis\",\"Beam\",\"Bithereum\",\"BlakeCoin\",\"JoinCoin\",\"Vollar\",\"Reality Clash\",\"Beldex\",\"Horizen\"],\"legendgroup\":\"3\",\"marker\":{\"color\":[3,3,3,3,3,3,3,3,3,3,3,3,3,3,3,3,3,3,3,3,3,3,3,3,3,3,3,3,3,3,3,3,3,3,3,3,3,3,3,3,3,3,3,3,3,3,3,3,3,3,3,3,3,3,3,3,3,3,3,3,3,3,3,3,3,3,3,3,3,3,3,3,3,3,3,3,3,3,3,3,3,3,3,3,3,3,3,3,3,3],\"coloraxis\":\"coloraxis\",\"symbol\":\"square\"},\"mode\":\"markers\",\"name\":\"3\",\"scene\":\"scene\",\"showlegend\":true,\"x\":[0.16050582212554276,0.175151908356914,0.16058996186537403,0.15438134160096995,0.16831705725900029,0.1500110397927157,0.2327690277655431,0.17193066036669305,0.2296763358299936,0.1677076343024804,0.5055780378849558,0.23533536514321918,0.17573137299278818,0.1473868060270709,0.17598859919115872,0.17592900669992986,0.1603991549837769,0.22897470317952776,0.172675343553408,0.17278562837531833,0.16589713927213037,0.22363167942412823,0.14891604016087126,0.17505407192604439,0.1604208403921772,0.15437928586123997,0.22362778995537794,0.22363900133790443,0.17589461947250554,0.17521298298817145,0.1543793284921866,0.17591804748657516,0.17109517002156774,0.1752509010854282,0.1736447181779708,0.1908029184868415,0.17954346055373083,0.22645959885772984,0.22365529201949588,0.17191433209029008,0.35425450547605836,0.2571095414355403,0.22366211660885016,0.16817419828661054,0.1543927492662881,0.17286512963464343,0.16049893377223268,0.14811453149236023,0.27740747516353875,0.2236287427272065,0.1646785458840814,0.17601362734294912,0.1977705409081829,0.6546221962365634,0.16658544842103365,0.2238985701299641,0.17292953879204334,0.16306862451636464,0.2240811643234099,0.17269003092132854,0.15447375624685858,0.17517992043848243,0.22364430122602544,0.17590437380643031,0.17981492604463967,0.17504937090291398,0.22384055766499011,0.25261848410592314,0.3395384190385895,0.17450928113296293,0.2246388514547717,0.18632025673664634,0.1721706885722414,0.17579624354222248,0.1770050800879285,0.43631635708310107,0.16209162225603094,0.17508423596949044,0.22877164903585248,0.1757624393975125,0.17574951465171876,0.17767399883018456,0.154503513475176,0.1544056340015114,0.1783337966879264,0.14731606606733896,0.17928907797869242,0.1604182107087039,0.22527473821100943,0.15438124108703746],\"y\":[0.027277411443620454,0.0224699883466744,0.027280222418026946,0.021253353004823738,0.02511540175675154,0.02521516562623043,0.005272890242703207,0.024877272489956564,-0.0024446453144309484,0.02309542285842995,0.025120030727136283,0.029418533767533867,0.025770076266531335,0.02524875629720901,0.02380052786454241,0.026661579661472777,0.02728139412041982,0.027120356962046514,0.031135664026128183,0.02928150896925606,0.03500325528747078,0.0295398164768726,0.025230102118141477,0.027760155383864817,0.027280923899205035,0.021253421076614317,0.029540238450271837,0.029539973818690946,0.02666123138896615,0.022472896755866816,0.021253313053604138,0.02666074879750829,0.03467941862388294,0.022469508945020752,0.02973732781582959,0.02839341026319139,0.013154831319104788,0.02949921462592983,0.02954020731714252,0.02862238544410944,-0.0036539861802746695,-0.00576778966100726,0.029540911222283212,0.021355779581183943,0.02125297526235307,0.029282242874379673,0.027285102333832002,0.025242249971280762,0.03002436151948269,0.029539980351939582,0.027405768302494103,0.022468093235394875,0.006581725544415843,0.041920986494386976,0.019260100985910366,0.029539667741078662,0.029278609356937695,0.02736579274338414,0.029551318979779105,0.026226325974714717,0.021251598864299424,0.02776341363903761,0.02953962241452657,0.02666134230162543,0.018614840165155813,0.027760020533045597,0.02954862507433834,0.03680781684875441,0.030605648536354314,0.03195303962949961,0.029532852263849996,-0.021985708357104835,0.025326988948321746,0.022495294924684463,0.027104025314944907,0.03563767387923608,0.02120004407128814,0.02776082502864701,0.02958470489973517,0.023313897347349587,0.02331219599735731,0.027589149889172833,0.02125575218005931,0.02125281209960942,0.023412520042791186,0.02525117334023865,0.03369346338405394,0.02728096519722838,0.029522463190850532,0.02125335633314552],\"z\":[-0.0008078525490154733,-0.0020440029637118,-0.0008076703009423962,-0.0008901470476336574,-0.0004458509778550219,-0.000669325620394708,-0.0006666696697657401,-0.00034528913141627113,0.0012942897463908542,-0.0027826641496980545,0.0038150549782997732,-0.00021421531010289553,-0.0006055772955485881,-0.0007063462053776014,-0.0008988810261441947,-0.0011728268929996134,-0.0008100336884322195,0.001430229732376398,-0.00013210534254846142,-0.000682695169624637,-0.0014496160603765563,-0.00037194970121966393,-0.0006850108191485975,5.601497135001486e-05,-0.0008096779851880823,-0.0008901868394118628,-0.00037210075108094943,-0.0003719112891758404,-0.0011731082536828095,-0.002044094983664347,-0.0008901584638147131,-0.0011727305346598614,-0.000840166566555645,-0.0020428100164574864,-0.0008355219083640347,0.0006890165978637635,-0.0007420660428618454,-0.00033091761322172575,-0.00037179570027278026,1.215073696958163e-06,0.0029521742957631537,0.0024493154999825698,-0.00037190390142914826,-0.0007676616445342116,-0.0008899262359805282,-0.0006820262599196775,-0.0008099144119283789,-0.0006968058581095795,8.358019383619872e-05,-0.00037202376419130835,-0.0007959595573749133,-0.002034207194597327,6.811497856281221e-05,0.001082952547526702,0.0004559527461757373,-0.00036902900923256783,-0.0006803917102450657,-0.0008030152720499879,-0.00037006800662752116,6.595342571926694e-05,-0.0008886957227629855,5.6532062675550744e-05,-0.0003717632440891506,-0.0011730315748127783,0.0009124156339549647,5.5999051212806345e-05,-0.00037197025424577835,0.0009651392420350132,0.0006043405868362174,-0.0025467145693118588,-0.00035927317578719954,0.0022632728610486805,-0.0010899927910288712,-0.0020435842422821602,-0.0004146109287468737,0.0032513508172121444,-0.0007931047021798904,5.616767550411427e-05,-0.00032804120992684365,-0.0009140857546554368,-0.000913785672643975,0.00016748129747947565,-0.0008894476590804747,-0.0008897449243788513,-0.0009118026622758413,-0.0007077347636093868,-0.0012595810726272268,-0.0008097170563536075,-0.0003497212542076682,-0.0008901489932243457],\"type\":\"scatter3d\"},{\"customdata\":[[\"Proof-of-BibleHash\"],[\"SHA-256 + Hive\"],[\"Proof-of-Authority\"],[\"ECC 256K1\"],[\"SHA3-256\"],[\"Leased POS\"]],\"hovertemplate\":\"<b>%{hovertext}</b><br><br>Class=%{marker.color}<br>PC1=%{x}<br>PC2=%{y}<br>PC3=%{z}<br>Algorithm=%{customdata[0]}<extra></extra>\",\"hovertext\":[\"BiblePay\",\"LitecoinCash\",\"Poa Network\",\"Acute Angle Cloud\",\"Fiii\",\"Waves\"],\"legendgroup\":\"2\",\"marker\":{\"color\":[2,2,2,2,2,2],\"coloraxis\":\"coloraxis\",\"symbol\":\"x\"},\"mode\":\"markers\",\"name\":\"2\",\"scene\":\"scene\",\"showlegend\":true,\"x\":[-0.2520590166992576,-0.25346229663668574,-0.299716515267436,-0.27066832617149467,-0.3382769750235279,-0.34537780376343674],\"y\":[0.40855708210552355,0.659842468492681,0.9469980141741227,0.6738586307680465,0.8917255006682817,0.5057269187715806],\"z\":[-0.07128909450197247,0.18134323090369142,0.027820918829126257,0.5295929945178118,-0.47040700548218806,-0.10442901937187184],\"type\":\"scatter3d\"}],                        {\"template\":{\"data\":{\"histogram2dcontour\":[{\"type\":\"histogram2dcontour\",\"colorbar\":{\"outlinewidth\":0,\"ticks\":\"\"},\"colorscale\":[[0.0,\"#0d0887\"],[0.1111111111111111,\"#46039f\"],[0.2222222222222222,\"#7201a8\"],[0.3333333333333333,\"#9c179e\"],[0.4444444444444444,\"#bd3786\"],[0.5555555555555556,\"#d8576b\"],[0.6666666666666666,\"#ed7953\"],[0.7777777777777778,\"#fb9f3a\"],[0.8888888888888888,\"#fdca26\"],[1.0,\"#f0f921\"]]}],\"choropleth\":[{\"type\":\"choropleth\",\"colorbar\":{\"outlinewidth\":0,\"ticks\":\"\"}}],\"histogram2d\":[{\"type\":\"histogram2d\",\"colorbar\":{\"outlinewidth\":0,\"ticks\":\"\"},\"colorscale\":[[0.0,\"#0d0887\"],[0.1111111111111111,\"#46039f\"],[0.2222222222222222,\"#7201a8\"],[0.3333333333333333,\"#9c179e\"],[0.4444444444444444,\"#bd3786\"],[0.5555555555555556,\"#d8576b\"],[0.6666666666666666,\"#ed7953\"],[0.7777777777777778,\"#fb9f3a\"],[0.8888888888888888,\"#fdca26\"],[1.0,\"#f0f921\"]]}],\"heatmap\":[{\"type\":\"heatmap\",\"colorbar\":{\"outlinewidth\":0,\"ticks\":\"\"},\"colorscale\":[[0.0,\"#0d0887\"],[0.1111111111111111,\"#46039f\"],[0.2222222222222222,\"#7201a8\"],[0.3333333333333333,\"#9c179e\"],[0.4444444444444444,\"#bd3786\"],[0.5555555555555556,\"#d8576b\"],[0.6666666666666666,\"#ed7953\"],[0.7777777777777778,\"#fb9f3a\"],[0.8888888888888888,\"#fdca26\"],[1.0,\"#f0f921\"]]}],\"heatmapgl\":[{\"type\":\"heatmapgl\",\"colorbar\":{\"outlinewidth\":0,\"ticks\":\"\"},\"colorscale\":[[0.0,\"#0d0887\"],[0.1111111111111111,\"#46039f\"],[0.2222222222222222,\"#7201a8\"],[0.3333333333333333,\"#9c179e\"],[0.4444444444444444,\"#bd3786\"],[0.5555555555555556,\"#d8576b\"],[0.6666666666666666,\"#ed7953\"],[0.7777777777777778,\"#fb9f3a\"],[0.8888888888888888,\"#fdca26\"],[1.0,\"#f0f921\"]]}],\"contourcarpet\":[{\"type\":\"contourcarpet\",\"colorbar\":{\"outlinewidth\":0,\"ticks\":\"\"}}],\"contour\":[{\"type\":\"contour\",\"colorbar\":{\"outlinewidth\":0,\"ticks\":\"\"},\"colorscale\":[[0.0,\"#0d0887\"],[0.1111111111111111,\"#46039f\"],[0.2222222222222222,\"#7201a8\"],[0.3333333333333333,\"#9c179e\"],[0.4444444444444444,\"#bd3786\"],[0.5555555555555556,\"#d8576b\"],[0.6666666666666666,\"#ed7953\"],[0.7777777777777778,\"#fb9f3a\"],[0.8888888888888888,\"#fdca26\"],[1.0,\"#f0f921\"]]}],\"surface\":[{\"type\":\"surface\",\"colorbar\":{\"outlinewidth\":0,\"ticks\":\"\"},\"colorscale\":[[0.0,\"#0d0887\"],[0.1111111111111111,\"#46039f\"],[0.2222222222222222,\"#7201a8\"],[0.3333333333333333,\"#9c179e\"],[0.4444444444444444,\"#bd3786\"],[0.5555555555555556,\"#d8576b\"],[0.6666666666666666,\"#ed7953\"],[0.7777777777777778,\"#fb9f3a\"],[0.8888888888888888,\"#fdca26\"],[1.0,\"#f0f921\"]]}],\"mesh3d\":[{\"type\":\"mesh3d\",\"colorbar\":{\"outlinewidth\":0,\"ticks\":\"\"}}],\"scatter\":[{\"fillpattern\":{\"fillmode\":\"overlay\",\"size\":10,\"solidity\":0.2},\"type\":\"scatter\"}],\"parcoords\":[{\"type\":\"parcoords\",\"line\":{\"colorbar\":{\"outlinewidth\":0,\"ticks\":\"\"}}}],\"scatterpolargl\":[{\"type\":\"scatterpolargl\",\"marker\":{\"colorbar\":{\"outlinewidth\":0,\"ticks\":\"\"}}}],\"bar\":[{\"error_x\":{\"color\":\"#2a3f5f\"},\"error_y\":{\"color\":\"#2a3f5f\"},\"marker\":{\"line\":{\"color\":\"#E5ECF6\",\"width\":0.5},\"pattern\":{\"fillmode\":\"overlay\",\"size\":10,\"solidity\":0.2}},\"type\":\"bar\"}],\"scattergeo\":[{\"type\":\"scattergeo\",\"marker\":{\"colorbar\":{\"outlinewidth\":0,\"ticks\":\"\"}}}],\"scatterpolar\":[{\"type\":\"scatterpolar\",\"marker\":{\"colorbar\":{\"outlinewidth\":0,\"ticks\":\"\"}}}],\"histogram\":[{\"marker\":{\"pattern\":{\"fillmode\":\"overlay\",\"size\":10,\"solidity\":0.2}},\"type\":\"histogram\"}],\"scattergl\":[{\"type\":\"scattergl\",\"marker\":{\"colorbar\":{\"outlinewidth\":0,\"ticks\":\"\"}}}],\"scatter3d\":[{\"type\":\"scatter3d\",\"line\":{\"colorbar\":{\"outlinewidth\":0,\"ticks\":\"\"}},\"marker\":{\"colorbar\":{\"outlinewidth\":0,\"ticks\":\"\"}}}],\"scattermapbox\":[{\"type\":\"scattermapbox\",\"marker\":{\"colorbar\":{\"outlinewidth\":0,\"ticks\":\"\"}}}],\"scatterternary\":[{\"type\":\"scatterternary\",\"marker\":{\"colorbar\":{\"outlinewidth\":0,\"ticks\":\"\"}}}],\"scattercarpet\":[{\"type\":\"scattercarpet\",\"marker\":{\"colorbar\":{\"outlinewidth\":0,\"ticks\":\"\"}}}],\"carpet\":[{\"aaxis\":{\"endlinecolor\":\"#2a3f5f\",\"gridcolor\":\"white\",\"linecolor\":\"white\",\"minorgridcolor\":\"white\",\"startlinecolor\":\"#2a3f5f\"},\"baxis\":{\"endlinecolor\":\"#2a3f5f\",\"gridcolor\":\"white\",\"linecolor\":\"white\",\"minorgridcolor\":\"white\",\"startlinecolor\":\"#2a3f5f\"},\"type\":\"carpet\"}],\"table\":[{\"cells\":{\"fill\":{\"color\":\"#EBF0F8\"},\"line\":{\"color\":\"white\"}},\"header\":{\"fill\":{\"color\":\"#C8D4E3\"},\"line\":{\"color\":\"white\"}},\"type\":\"table\"}],\"barpolar\":[{\"marker\":{\"line\":{\"color\":\"#E5ECF6\",\"width\":0.5},\"pattern\":{\"fillmode\":\"overlay\",\"size\":10,\"solidity\":0.2}},\"type\":\"barpolar\"}],\"pie\":[{\"automargin\":true,\"type\":\"pie\"}]},\"layout\":{\"autotypenumbers\":\"strict\",\"colorway\":[\"#636efa\",\"#EF553B\",\"#00cc96\",\"#ab63fa\",\"#FFA15A\",\"#19d3f3\",\"#FF6692\",\"#B6E880\",\"#FF97FF\",\"#FECB52\"],\"font\":{\"color\":\"#2a3f5f\"},\"hovermode\":\"closest\",\"hoverlabel\":{\"align\":\"left\"},\"paper_bgcolor\":\"white\",\"plot_bgcolor\":\"#E5ECF6\",\"polar\":{\"bgcolor\":\"#E5ECF6\",\"angularaxis\":{\"gridcolor\":\"white\",\"linecolor\":\"white\",\"ticks\":\"\"},\"radialaxis\":{\"gridcolor\":\"white\",\"linecolor\":\"white\",\"ticks\":\"\"}},\"ternary\":{\"bgcolor\":\"#E5ECF6\",\"aaxis\":{\"gridcolor\":\"white\",\"linecolor\":\"white\",\"ticks\":\"\"},\"baxis\":{\"gridcolor\":\"white\",\"linecolor\":\"white\",\"ticks\":\"\"},\"caxis\":{\"gridcolor\":\"white\",\"linecolor\":\"white\",\"ticks\":\"\"}},\"coloraxis\":{\"colorbar\":{\"outlinewidth\":0,\"ticks\":\"\"}},\"colorscale\":{\"sequential\":[[0.0,\"#0d0887\"],[0.1111111111111111,\"#46039f\"],[0.2222222222222222,\"#7201a8\"],[0.3333333333333333,\"#9c179e\"],[0.4444444444444444,\"#bd3786\"],[0.5555555555555556,\"#d8576b\"],[0.6666666666666666,\"#ed7953\"],[0.7777777777777778,\"#fb9f3a\"],[0.8888888888888888,\"#fdca26\"],[1.0,\"#f0f921\"]],\"sequentialminus\":[[0.0,\"#0d0887\"],[0.1111111111111111,\"#46039f\"],[0.2222222222222222,\"#7201a8\"],[0.3333333333333333,\"#9c179e\"],[0.4444444444444444,\"#bd3786\"],[0.5555555555555556,\"#d8576b\"],[0.6666666666666666,\"#ed7953\"],[0.7777777777777778,\"#fb9f3a\"],[0.8888888888888888,\"#fdca26\"],[1.0,\"#f0f921\"]],\"diverging\":[[0,\"#8e0152\"],[0.1,\"#c51b7d\"],[0.2,\"#de77ae\"],[0.3,\"#f1b6da\"],[0.4,\"#fde0ef\"],[0.5,\"#f7f7f7\"],[0.6,\"#e6f5d0\"],[0.7,\"#b8e186\"],[0.8,\"#7fbc41\"],[0.9,\"#4d9221\"],[1,\"#276419\"]]},\"xaxis\":{\"gridcolor\":\"white\",\"linecolor\":\"white\",\"ticks\":\"\",\"title\":{\"standoff\":15},\"zerolinecolor\":\"white\",\"automargin\":true,\"zerolinewidth\":2},\"yaxis\":{\"gridcolor\":\"white\",\"linecolor\":\"white\",\"ticks\":\"\",\"title\":{\"standoff\":15},\"zerolinecolor\":\"white\",\"automargin\":true,\"zerolinewidth\":2},\"scene\":{\"xaxis\":{\"backgroundcolor\":\"#E5ECF6\",\"gridcolor\":\"white\",\"linecolor\":\"white\",\"showbackground\":true,\"ticks\":\"\",\"zerolinecolor\":\"white\",\"gridwidth\":2},\"yaxis\":{\"backgroundcolor\":\"#E5ECF6\",\"gridcolor\":\"white\",\"linecolor\":\"white\",\"showbackground\":true,\"ticks\":\"\",\"zerolinecolor\":\"white\",\"gridwidth\":2},\"zaxis\":{\"backgroundcolor\":\"#E5ECF6\",\"gridcolor\":\"white\",\"linecolor\":\"white\",\"showbackground\":true,\"ticks\":\"\",\"zerolinecolor\":\"white\",\"gridwidth\":2}},\"shapedefaults\":{\"line\":{\"color\":\"#2a3f5f\"}},\"annotationdefaults\":{\"arrowcolor\":\"#2a3f5f\",\"arrowhead\":0,\"arrowwidth\":1},\"geo\":{\"bgcolor\":\"white\",\"landcolor\":\"#E5ECF6\",\"subunitcolor\":\"white\",\"showland\":true,\"showlakes\":true,\"lakecolor\":\"white\"},\"title\":{\"x\":0.05},\"mapbox\":{\"style\":\"light\"}}},\"scene\":{\"domain\":{\"x\":[0.0,1.0],\"y\":[0.0,1.0]},\"xaxis\":{\"title\":{\"text\":\"PC1\"}},\"yaxis\":{\"title\":{\"text\":\"PC2\"}},\"zaxis\":{\"title\":{\"text\":\"PC3\"}}},\"coloraxis\":{\"colorbar\":{\"title\":{\"text\":\"Class\"}},\"colorscale\":[[0.0,\"#0d0887\"],[0.1111111111111111,\"#46039f\"],[0.2222222222222222,\"#7201a8\"],[0.3333333333333333,\"#9c179e\"],[0.4444444444444444,\"#bd3786\"],[0.5555555555555556,\"#d8576b\"],[0.6666666666666666,\"#ed7953\"],[0.7777777777777778,\"#fb9f3a\"],[0.8888888888888888,\"#fdca26\"],[1.0,\"#f0f921\"]]},\"legend\":{\"title\":{\"text\":\"Class\"},\"tracegroupgap\":0,\"x\":0,\"y\":1},\"margin\":{\"t\":60},\"width\":800},                        {\"responsive\": true}                    ).then(function(){\n",
       "                            \n",
       "var gd = document.getElementById('17feb4d3-24bb-47d7-86ca-f81c45874e91');\n",
       "var x = new MutationObserver(function (mutations, observer) {{\n",
       "        var display = window.getComputedStyle(gd).display;\n",
       "        if (!display || display === 'none') {{\n",
       "            console.log([gd, 'removed!']);\n",
       "            Plotly.purge(gd);\n",
       "            observer.disconnect();\n",
       "        }}\n",
       "}});\n",
       "\n",
       "// Listen for the removal of the full notebook cells\n",
       "var notebookContainer = gd.closest('#notebook-container');\n",
       "if (notebookContainer) {{\n",
       "    x.observe(notebookContainer, {childList: true});\n",
       "}}\n",
       "\n",
       "// Listen for the clearing of the current output cell\n",
       "var outputEl = gd.closest('.output');\n",
       "if (outputEl) {{\n",
       "    x.observe(outputEl, {childList: true});\n",
       "}}\n",
       "\n",
       "                        })                };                });            </script>        </div>"
      ]
     },
     "metadata": {},
     "output_type": "display_data"
    }
   ],
   "source": [
    "# Creating a 3D-Scatter with the PCA data and the clusters\n",
    "\n",
    "fig = px.scatter_3d(\n",
    "    clustered_df,\n",
    "    x=\"PC1\",\n",
    "    y=\"PC2\",\n",
    "    z=\"PC3\",\n",
    "    hover_name = 'CoinName',\n",
    "    hover_data= ['Algorithm'],\n",
    "    color=\"Class\",\n",
    "    symbol=\"Class\",\n",
    "    width=800,\n",
    ")\n",
    "fig.update_layout(legend=dict(x=0, y=1))\n",
    "fig.show()\n"
   ]
  },
  {
   "cell_type": "code",
   "execution_count": null,
   "metadata": {},
   "outputs": [],
   "source": []
  },
  {
   "cell_type": "code",
   "execution_count": 47,
   "metadata": {},
   "outputs": [
    {
     "data": {},
     "metadata": {},
     "output_type": "display_data"
    },
    {
     "data": {
      "application/vnd.holoviews_exec.v0+json": "",
      "text/html": [
       "<div id='1506'>\n",
       "  <div class=\"bk-root\" id=\"358ae373-d4f6-4ce6-99c3-0f15f4a72944\" data-root-id=\"1506\"></div>\n",
       "</div>\n",
       "<script type=\"application/javascript\">(function(root) {\n",
       "  function embed_document(root) {\n",
       "    var docs_json = {\"258e73e5-bef4-42c0-b266-c8083ae811d4\":{\"defs\":[{\"extends\":null,\"module\":null,\"name\":\"ReactiveHTML1\",\"overrides\":[],\"properties\":[]},{\"extends\":null,\"module\":null,\"name\":\"FlexBox1\",\"overrides\":[],\"properties\":[{\"default\":\"flex-start\",\"kind\":null,\"name\":\"align_content\"},{\"default\":\"flex-start\",\"kind\":null,\"name\":\"align_items\"},{\"default\":\"row\",\"kind\":null,\"name\":\"flex_direction\"},{\"default\":\"wrap\",\"kind\":null,\"name\":\"flex_wrap\"},{\"default\":\"flex-start\",\"kind\":null,\"name\":\"justify_content\"}]},{\"extends\":null,\"module\":null,\"name\":\"GridStack1\",\"overrides\":[],\"properties\":[{\"default\":\"warn\",\"kind\":null,\"name\":\"mode\"},{\"default\":null,\"kind\":null,\"name\":\"ncols\"},{\"default\":null,\"kind\":null,\"name\":\"nrows\"},{\"default\":true,\"kind\":null,\"name\":\"allow_resize\"},{\"default\":true,\"kind\":null,\"name\":\"allow_drag\"},{\"default\":[],\"kind\":null,\"name\":\"state\"}]},{\"extends\":null,\"module\":null,\"name\":\"click1\",\"overrides\":[],\"properties\":[{\"default\":\"\",\"kind\":null,\"name\":\"terminal_output\"},{\"default\":\"\",\"kind\":null,\"name\":\"debug_name\"},{\"default\":0,\"kind\":null,\"name\":\"clears\"}]},{\"extends\":null,\"module\":null,\"name\":\"NotificationAreaBase1\",\"overrides\":[],\"properties\":[{\"default\":\"bottom-right\",\"kind\":null,\"name\":\"position\"},{\"default\":0,\"kind\":null,\"name\":\"_clear\"}]},{\"extends\":null,\"module\":null,\"name\":\"NotificationArea1\",\"overrides\":[],\"properties\":[{\"default\":[],\"kind\":null,\"name\":\"notifications\"},{\"default\":\"bottom-right\",\"kind\":null,\"name\":\"position\"},{\"default\":0,\"kind\":null,\"name\":\"_clear\"},{\"default\":[{\"background\":\"#ffc107\",\"icon\":{\"className\":\"fas fa-exclamation-triangle\",\"color\":\"white\",\"tagName\":\"i\"},\"type\":\"warning\"},{\"background\":\"#007bff\",\"icon\":{\"className\":\"fas fa-info-circle\",\"color\":\"white\",\"tagName\":\"i\"},\"type\":\"info\"}],\"kind\":null,\"name\":\"types\"}]},{\"extends\":null,\"module\":null,\"name\":\"Notification\",\"overrides\":[],\"properties\":[{\"default\":null,\"kind\":null,\"name\":\"background\"},{\"default\":3000,\"kind\":null,\"name\":\"duration\"},{\"default\":null,\"kind\":null,\"name\":\"icon\"},{\"default\":\"\",\"kind\":null,\"name\":\"message\"},{\"default\":null,\"kind\":null,\"name\":\"notification_type\"},{\"default\":false,\"kind\":null,\"name\":\"_destroyed\"}]},{\"extends\":null,\"module\":null,\"name\":\"TemplateActions1\",\"overrides\":[],\"properties\":[{\"default\":0,\"kind\":null,\"name\":\"open_modal\"},{\"default\":0,\"kind\":null,\"name\":\"close_modal\"}]},{\"extends\":null,\"module\":null,\"name\":\"MaterialTemplateActions1\",\"overrides\":[],\"properties\":[{\"default\":0,\"kind\":null,\"name\":\"open_modal\"},{\"default\":0,\"kind\":null,\"name\":\"close_modal\"}]}],\"roots\":{\"references\":[{\"attributes\":{\"columns\":[{\"id\":\"1512\"},{\"id\":\"1517\"},{\"id\":\"1522\"},{\"id\":\"1527\"},{\"id\":\"1532\"},{\"id\":\"1537\"}],\"height\":300,\"reorderable\":false,\"source\":{\"id\":\"1508\"},\"view\":{\"id\":\"1542\"},\"width\":700},\"id\":\"1540\",\"type\":\"DataTable\"},{\"attributes\":{\"editor\":{\"id\":\"1531\"},\"field\":\"TotalCoinsMined\",\"formatter\":{\"id\":\"1530\"},\"title\":\"TotalCoinsMined\"},\"id\":\"1532\",\"type\":\"TableColumn\"},{\"attributes\":{\"margin\":[5,5,5,5],\"name\":\"HSpacer01336\",\"sizing_mode\":\"stretch_width\"},\"id\":\"1545\",\"type\":\"Spacer\"},{\"attributes\":{\"data\":{\"Algorithm\":[\"Scrypt\",\"Scrypt\",\"X13\",\"SHA-256\",\"Ethash\",\"Scrypt\",\"X11\",\"CryptoNight-V7\",\"Ethash\",\"Equihash\",\"SHA-512\",\"Multiple\",\"SHA-256\",\"SHA-256\",\"Scrypt\",\"X15\",\"X11\",\"Scrypt\",\"Scrypt\",\"Scrypt\",\"Multiple\",\"Scrypt\",\"SHA-256\",\"Scrypt\",\"Scrypt\",\"Scrypt\",\"Quark\",\"Groestl\",\"Scrypt\",\"Scrypt\",\"Scrypt\",\"Scrypt\",\"Scrypt\",\"X11\",\"Scrypt\",\"Groestl\",\"Multiple\",\"SHA-256\",\"Scrypt\",\"Scrypt\",\"Scrypt\",\"Scrypt\",\"PoS\",\"Scrypt\",\"Scrypt\",\"NeoScrypt\",\"Scrypt\",\"Scrypt\",\"Scrypt\",\"Scrypt\",\"X11\",\"Scrypt\",\"X11\",\"SHA-256\",\"Scrypt\",\"Scrypt\",\"Scrypt\",\"SHA3\",\"Scrypt\",\"HybridScryptHash256\",\"Scrypt\",\"Scrypt\",\"SHA-256\",\"Scrypt\",\"X13\",\"Scrypt\",\"SHA-256\",\"Scrypt\",\"X13\",\"NeoScrypt\",\"Scrypt\",\"Scrypt\",\"Scrypt\",\"Scrypt\",\"Scrypt\",\"Scrypt\",\"X11\",\"X11\",\"SHA-256\",\"Multiple\",\"SHA-256\",\"PHI1612\",\"X11\",\"SHA-256\",\"SHA-256\",\"SHA-256\",\"X11\",\"Scrypt\",\"Scrypt\",\"Scrypt\",\"Scrypt\",\"Lyra2REv2\",\"Scrypt\",\"X11\",\"Multiple\",\"SHA-256\",\"X13\",\"Scrypt\",\"CryptoNight\",\"CryptoNight\",\"Shabal256\",\"Counterparty\",\"Scrypt\",\"SHA-256\",\"Groestl\",\"Scrypt\",\"Scrypt\",\"Scrypt\",\"X13\",\"Scrypt\",\"Scrypt\",\"Scrypt\",\"Scrypt\",\"X13\",\"Scrypt\",\"Stanford Folding\",\"X11\",\"Multiple\",\"QuBit\",\"Scrypt\",\"Scrypt\",\"Scrypt\",\"M7 POW\",\"Scrypt\",\"SHA-256\",\"Scrypt\",\"X11\",\"SHA3\",\"X11\",\"Lyra2RE\",\"SHA-256\",\"QUAIT\",\"X11\",\"X11\",\"Scrypt\",\"Scrypt\",\"Scrypt\",\"Ethash\",\"X13\",\"Blake2b\",\"SHA-256\",\"X15\",\"X11\",\"SHA-256\",\"BLAKE256\",\"Scrypt\",\"1GB AES Pattern Search\",\"SHA-256\",\"X11\",\"Scrypt\",\"SHA-256\",\"SHA-256\",\"NIST5\",\"Scrypt\",\"Scrypt\",\"X11\",\"Dagger\",\"Scrypt\",\"X11GOST\",\"X11\",\"Scrypt\",\"SHA-256\",\"Scrypt\",\"PoS\",\"Scrypt\",\"X11\",\"X11\",\"SHA-256\",\"SHA-256\",\"NIST5\",\"X11\",\"Scrypt\",\"POS 3.0\",\"Scrypt\",\"Scrypt\",\"Scrypt\",\"X13\",\"X11\",\"X11\",\"Equihash\",\"X11\",\"Scrypt\",\"CryptoNight\",\"SHA-256\",\"SHA-256\",\"X11\",\"Scrypt\",\"Multiple\",\"Scrypt\",\"Scrypt\",\"Scrypt\",\"SHA-256\",\"Scrypt\",\"Scrypt\",\"SHA-256D\",\"PoS\",\"Scrypt\",\"X11\",\"Lyra2Z\",\"PoS\",\"X13\",\"X14\",\"PoS\",\"SHA-256D\",\"Ethash\",\"Equihash\",\"DPoS\",\"X11\",\"Scrypt\",\"X11\",\"X13\",\"X11\",\"PoS\",\"Scrypt\",\"Scrypt\",\"X11\",\"PoS\",\"X11\",\"SHA-256\",\"Scrypt\",\"X11\",\"Scrypt\",\"Scrypt\",\"X11\",\"CryptoNight\",\"Scrypt\",\"Scrypt\",\"Scrypt\",\"Scrypt\",\"Quark\",\"QuBit\",\"Scrypt\",\"CryptoNight\",\"Lyra2RE\",\"Scrypt\",\"SHA-256\",\"X11\",\"Scrypt\",\"X11\",\"Scrypt\",\"CryptoNight-V7\",\"Scrypt\",\"Scrypt\",\"Scrypt\",\"X13\",\"X11\",\"Equihash\",\"Scrypt\",\"Scrypt\",\"Lyra2RE\",\"Scrypt\",\"Dagger-Hashimoto\",\"X11\",\"Blake2S\",\"X11\",\"Scrypt\",\"PoS\",\"X11\",\"NIST5\",\"PoS\",\"X11\",\"Scrypt\",\"Scrypt\",\"Scrypt\",\"SHA-256\",\"X11\",\"Scrypt\",\"Scrypt\",\"SHA-256\",\"PoS\",\"Scrypt\",\"X15\",\"SHA-256\",\"Scrypt\",\"POS 3.0\",\"CryptoNight-V7\",\"536\",\"Argon2d\",\"Blake2b\",\"Cloverhash\",\"CryptoNight\",\"NIST5\",\"X11\",\"NIST5\",\"Skein\",\"Scrypt\",\"X13\",\"Scrypt\",\"X11\",\"X11\",\"Scrypt\",\"CryptoNight\",\"X13\",\"Time Travel\",\"Scrypt\",\"Keccak\",\"SkunkHash v2 Raptor\",\"X11\",\"Skein\",\"SHA-256\",\"X11\",\"Scrypt\",\"Scrypt\",\"PoS\",\"Scrypt\",\"Scrypt\",\"Scrypt\",\"Scrypt\",\"Scrypt\",\"Scrypt\",\"Scrypt\",\"CryptoNight\",\"SHA-512\",\"Ouroboros\",\"X11\",\"Equihash\",\"NeoScrypt\",\"X11\",\"Scrypt\",\"NeoScrypt\",\"Lyra2REv2\",\"Equihash\",\"Scrypt\",\"SHA-256\",\"NIST5\",\"PHI1612\",\"Dagger\",\"Scrypt\",\"Quark\",\"Scrypt\",\"POS 2.0\",\"Scrypt\",\"SHA-256\",\"X11\",\"NeoScrypt\",\"Ethash\",\"NeoScrypt\",\"X11\",\"DPoS\",\"NIST5\",\"X13\",\"Multiple\",\"Scrypt\",\"CryptoNight\",\"CryptoNight\",\"Ethash\",\"NIST5\",\"Quark\",\"X11\",\"CryptoNight-V7\",\"Scrypt\",\"Scrypt\",\"Scrypt\",\"X11\",\"BLAKE256\",\"X11\",\"NeoScrypt\",\"Quark\",\"NeoScrypt\",\"Scrypt\",\"Scrypt\",\"Scrypt\",\"X11\",\"X11\",\"SHA-256\",\"C11\",\"POS 3.0\",\"Ethash\",\"Scrypt\",\"CryptoNight\",\"SkunkHash\",\"Scrypt\",\"CryptoNight\",\"Scrypt\",\"Dagger\",\"Lyra2REv2\",\"X13\",\"Proof-of-BibleHash\",\"SHA-256 + Hive\",\"Scrypt\",\"Scrypt\",\"X11\",\"C11\",\"Proof-of-Authority\",\"X11\",\"XEVAN\",\"Scrypt\",\"VBFT\",\"Ethash\",\"CryptoNight\",\"Scrypt\",\"IMesh\",\"NIST5\",\"Scrypt\",\"Scrypt\",\"Equihash\",\"Scrypt\",\"Lyra2Z\",\"Green Protocol\",\"PoS\",\"Scrypt\",\"Semux BFT consensus\",\"X11\",\"Quark\",\"PoS\",\"CryptoNight\",\"X16R\",\"Scrypt\",\"NIST5\",\"Lyra2RE\",\"XEVAN\",\"Tribus\",\"Scrypt\",\"Lyra2Z\",\"CryptoNight\",\"CryptoNight Heavy\",\"CryptoNight\",\"Scrypt\",\"Scrypt\",\"Jump Consistent Hash\",\"SHA-256D\",\"CryptoNight\",\"Scrypt\",\"X15\",\"Scrypt\",\"Quark\",\"SHA-256\",\"DPoS\",\"X16R\",\"HMQ1725\",\"X11\",\"X16R\",\"Quark\",\"Quark\",\"Scrypt\",\"Lyra2REv2\",\"Quark\",\"Scrypt\",\"Scrypt\",\"CryptoNight-V7\",\"Cryptonight-GPU\",\"XEVAN\",\"CryptoNight Heavy\",\"X11\",\"X11\",\"Scrypt\",\"PoS\",\"SHA-256\",\"Keccak\",\"X11\",\"X11\",\"Scrypt\",\"SHA-512\",\"X16R\",\"ECC 256K1\",\"Equihash\",\"XEVAN\",\"Lyra2Z\",\"SHA-256\",\"XEVAN\",\"X11\",\"CryptoNight\",\"Quark\",\"Blake\",\"Blake\",\"Equihash\",\"Exosis\",\"Scrypt\",\"Scrypt\",\"Equihash\",\"Quark\",\"Equihash\",\"Quark\",\"Scrypt\",\"QuBit\",\"X11\",\"Scrypt\",\"XEVAN\",\"SHA-256D\",\"X11\",\"SHA-256\",\"X13\",\"SHA-256\",\"X11\",\"DPoS\",\"Scrypt\",\"Scrypt\",\"X11\",\"NeoScrypt\",\"Scrypt\",\"Blake\",\"Scrypt\",\"SHA-256\",\"Scrypt\",\"X11\",\"Scrypt\",\"Scrypt\",\"SHA-256\",\"X11\",\"SHA-256\",\"Scrypt\",\"Scrypt\",\"Scrypt\",\"Groestl\",\"X11\",\"Scrypt\",\"PoS\",\"Scrypt\",\"Scrypt\",\"X11\",\"SHA-256\",\"DPoS\",\"Scrypt\",\"Scrypt\",\"NeoScrypt\",\"SHA3-256\",\"Multiple\",\"X13\",\"Equihash+Scrypt\",\"DPoS\",\"Ethash\",\"DPoS\",\"SHA-256\",\"Leased POS\",\"PoS\",\"PoS\",\"SHA-256\",\"Scrypt\",\"CryptoNight\",\"Equihash\",\"Scrypt\"],\"Class\":[3,3,3,0,0,0,3,0,0,0,3,0,3,3,0,3,0,0,3,3,0,0,0,0,0,3,0,0,0,3,0,3,0,0,0,3,0,0,0,0,0,0,3,3,0,0,0,0,0,3,3,0,3,0,0,0,0,3,0,0,3,0,3,3,3,0,0,0,3,3,3,3,3,0,0,0,3,3,0,3,0,3,3,0,0,0,0,3,3,0,3,0,0,3,3,0,3,3,0,0,3,3,0,3,3,0,3,0,3,0,3,0,3,3,0,0,3,0,0,0,3,0,0,0,0,0,3,3,0,0,0,3,0,3,0,0,3,0,3,0,3,3,0,0,3,0,0,3,3,0,3,0,3,3,3,0,0,0,0,3,3,3,3,3,0,0,3,3,3,3,3,0,3,3,3,3,3,0,3,0,3,3,0,3,0,3,3,0,3,0,3,0,3,0,3,3,3,3,0,3,3,3,3,3,0,0,3,3,0,0,3,3,3,3,3,0,3,3,3,3,3,3,3,3,0,3,3,3,3,3,3,0,0,0,3,3,3,3,0,3,0,3,3,0,3,0,0,3,0,0,3,0,3,3,3,0,3,3,0,3,3,3,3,3,3,3,0,3,0,3,3,3,3,0,3,0,3,0,0,0,0,3,0,3,3,0,3,0,0,0,3,0,3,0,0,0,3,0,3,0,3,3,0,3,0,0,0,0,0,3,3,0,3,3,3,0,3,0,3,0,3,0,3,3,3,3,0,3,3,0,3,3,3,0,0,0,0,3,3,3,3,0,3,0,0,0,3,3,0,0,3,3,0,3,0,0,0,3,0,0,3,3,3,0,0,0,3,3,3,0,0,3,0,0,0,0,3,3,1,0,0,0,3,1,3,3,3,3,0,0,0,0,3,3,3,0,3,0,3,3,3,3,0,3,3,0,3,3,0,0,3,0,3,0,0,0,0,3,3,0,3,0,3,3,0,3,3,3,0,0,0,3,3,3,3,3,3,0,3,0,0,0,0,3,3,3,3,0,3,3,0,3,3,0,1,0,3,0,0,3,3,0,3,0,0,3,0,0,3,0,3,0,3,3,0,3,3,3,3,3,0,0,0,3,3,3,0,3,0,3,0,3,3,3,3,0,3,3,3,0,3,0,3,0,3,3,3,0,0,3,3,3,3,3,3,2,0,3,0,3,0,3,3,3,3,3,3,3,0,0,3],\"CoinName\":[\"42 Coin\",\"404Coin\",\"EliteCoin\",\"Bitcoin\",\"Ethereum\",\"Litecoin\",\"Dash\",\"Monero\",\"Ethereum Classic\",\"ZCash\",\"Bitshares\",\"DigiByte\",\"BitcoinDark\",\"PayCoin\",\"ProsperCoin\",\"KoboCoin\",\"Spreadcoin\",\"Argentum\",\"Aurora Coin\",\"BlueCoin\",\"MyriadCoin\",\"MoonCoin\",\"ZetaCoin\",\"SexCoin\",\"Quatloo\",\"EnergyCoin\",\"QuarkCoin\",\"Riecoin\",\"Digitalcoin \",\"BitBar\",\"Catcoin\",\"CryptoBullion\",\"CannaCoin\",\"CryptCoin\",\"CasinoCoin\",\"Diamond\",\"Verge\",\"DevCoin\",\"EarthCoin\",\"E-Gulden\",\"Einsteinium\",\"Emerald\",\"Exclusive Coin\",\"FlutterCoin\",\"Franko\",\"FeatherCoin\",\"GrandCoin\",\"GlobalCoin\",\"GoldCoin\",\"HoboNickels\",\"HyperStake\",\"Infinite Coin\",\"IOCoin\",\"IXcoin\",\"KrugerCoin\",\"LuckyCoin\",\"Litebar \",\"MaxCoin\",\"MegaCoin\",\"MediterraneanCoin\",\"MintCoin\",\"MinCoin\",\"MazaCoin\",\"Nautilus Coin\",\"NavCoin\",\"NobleCoin\",\"Namecoin\",\"NyanCoin\",\"OpalCoin\",\"Orbitcoin\",\"PotCoin\",\"PhoenixCoin\",\"Reddcoin\",\"RonPaulCoin\",\"StableCoin\",\"SmartCoin\",\"SuperCoin\",\"SyncCoin\",\"SysCoin\",\"TeslaCoin\",\"TigerCoin\",\"TittieCoin\",\"TorCoin\",\"TerraCoin\",\"UnbreakableCoin\",\"Unobtanium\",\"UroCoin\",\"UnitaryStatus Dollar\",\"UltraCoin\",\"ViaCoin\",\"VeriCoin\",\"Vertcoin\",\"WorldCoin\",\"X11 Coin\",\"Crypti\",\"JouleCoin\",\"StealthCoin\",\"ZCC Coin\",\"ByteCoin\",\"DigitalNote \",\"BurstCoin\",\"StorjCoin\",\"MonaCoin\",\"Neutron\",\"FairCoin\",\"Gulden\",\"RubyCoin\",\"PesetaCoin\",\"Kore\",\"Wild Beast Coin\",\"Dnotes\",\"Flo\",\"8BIT Coin\",\"Sativa Coin\",\"ArtByte\",\"Folding Coin\",\"Ucoin\",\"Unitus\",\"CypherPunkCoin\",\"OmniCron\",\"Vtorrent\",\"GreenCoin\",\"Cryptonite\",\"MasterCoin\",\"SoonCoin\",\"1Credit\",\"IslaCoin\",\"Nexus\",\"MarsCoin \",\"Crypto\",\"Anarchists Prime\",\"Droidz\",\"BowsCoin\",\"Squall Coin\",\"Song Coin\",\"BitZeny\",\"Diggits\",\"Expanse\",\"Paycon\",\"Siacoin\",\"Emercoin\",\"EverGreenCoin\",\"MindCoin\",\"I0coin\",\"Decred\",\"Revolution VR\",\"HOdlcoin\",\"EDRCoin\",\"Hitcoin\",\"Gamecredits\",\"DubaiCoin\",\"CarpeDiemCoin\",\"PWR Coin\",\"BillaryCoin\",\"GPU Coin\",\"Adzcoin\",\"SoilCoin\",\"YoCoin\",\"SibCoin\",\"EuropeCoin\",\"ZeitCoin\",\"SwingCoin\",\"SafeExchangeCoin\",\"Nebuchadnezzar\",\"Francs\",\"BolivarCoin\",\"Ratecoin\",\"Revenu\",\"Clockcoin\",\"VIP Tokens\",\"BitSend\",\"Omni\",\"Let it Ride\",\"PutinCoin\",\"iBankCoin\",\"Frankywillcoin\",\"MudraCoin\",\"PizzaCoin\",\"Lutetium Coin\",\"Komodo\",\"GoldBlocks\",\"CarterCoin\",\"Karbo\",\"BitTokens\",\"ZayedCoin\",\"MustangCoin\",\"ZoneCoin\",\"Circuits of Value\",\"RootCoin\",\"DopeCoin\",\"BitCurrency\",\"DollarCoin\",\"Swiscoin\",\"Shilling\",\"BuzzCoin\",\"Opair\",\"PesoBit\",\"Halloween Coin\",\"ZCoin\",\"CoffeeCoin\",\"RoyalCoin\",\"GanjaCoin V2\",\"TeamUP\",\"LanaCoin\",\"Elementrem\",\"ZClassic\",\"ARK\",\"InsaneCoin\",\"KiloCoin\",\"ArtexCoin\",\"EmberCoin\",\"XenixCoin\",\"FreeCoin\",\"PLNCoin\",\"AquariusCoin\",\"Kurrent\",\"Creatio\",\"Eternity\",\"Eurocoin\",\"BitcoinFast\",\"Stakenet\",\"BitConnect Coin\",\"MoneyCoin\",\"Enigma\",\"Cannabis Industry Coin\",\"Russiacoin\",\"PandaCoin\",\"GameUnits\",\"GAKHcoin\",\"Allsafe\",\"LiteCreed\",\"OsmiumCoin\",\"Bikercoins\",\"HexxCoin\",\"Klingon Empire Darsek\",\"Internet of People\",\"KushCoin\",\"Printerium\",\"PacCoin\",\"Impeach\",\"Citadel\",\"Zilbercoin\",\"FirstCoin\",\"BeaverCoin\",\"FindCoin\",\"VaultCoin\",\"Zero\",\"OpenChat\",\"Canada eCoin\",\"Zoin\",\"RenosCoin\",\"DubaiCoin\",\"VirtacoinPlus\",\"TajCoin\",\"Impact\",\"EB3coin\",\"Atmos\",\"HappyCoin\",\"Coinonat\",\"MacronCoin\",\"Condensate\",\"Independent Money System\",\"ArgusCoin\",\"LomoCoin\",\"ProCurrency\",\"GoldReserve\",\"BenjiRolls\",\"GrowthCoin\",\"ILCoin\",\"Phreak\",\"Degas Coin\",\"HTML5 Coin\",\"Ultimate Secure Cash\",\"EquiTrader\",\"QTUM\",\"Quantum Resistant Ledger\",\"Espers\",\"Dynamic\",\"Nano\",\"ChanCoin\",\"Dinastycoin\",\"Denarius\",\"DigitalPrice\",\"Virta Unique Coin\",\"Bitcoin Planet\",\"Unify\",\"BritCoin\",\"SocialCoin\",\"ArcticCoin\",\"DAS\",\"Linda\",\"LeviarCoin\",\"DeepOnion\",\"Bitcore\",\"gCn Coin\",\"SmartCash\",\"Signatum\",\"Onix\",\"Cream\",\"Bitcoin Cash\",\"Monoeci\",\"Draftcoin\",\"Sojourn Coin\",\"Stakecoin\",\"NewYorkCoin\",\"FrazCoin\",\"Kronecoin\",\"AdCoin\",\"Linx\",\"CoinonatX\",\"Ethereum Dark\",\"Sumokoin\",\"Obsidian\",\"Cardano\",\"Regalcoin\",\"BitcoinZ\",\"TrezarCoin\",\"Elements\",\"TerraNovaCoin\",\"VIVO Coin\",\"Rupee\",\"Bitcoin Gold\",\"WomenCoin\",\"Theresa May Coin\",\"NamoCoin\",\"LUXCoin\",\"Pirl\",\"Xios\",\"Bitcloud 2.0\",\"eBoost\",\"KekCoin\",\"BlackholeCoin\",\"Infinity Economics\",\"Pura\",\"Innova\",\"Ellaism\",\"GoByte\",\"Magnet\",\"Lamden Tau\",\"Electra\",\"Bitcoin Diamond\",\"SHIELD\",\"Cash & Back Coin\",\"UltraNote\",\"BitCoal\",\"DaxxCoin\",\"Bulwark\",\"Kalkulus\",\"AC3\",\"Lethean\",\"GermanCoin\",\"LiteCoin Ultra\",\"PopularCoin\",\"PhantomX\",\"Photon\",\"Sucre\",\"SparksPay\",\"Digiwage\",\"GunCoin\",\"IrishCoin\",\"Trollcoin\",\"Litecoin Plus\",\"Monkey Project\",\"Pioneer Coin\",\"UnitedBitcoin\",\"Interzone\",\"TokenPay\",\"1717 Masonic Commemorative Token\",\"My Big Coin\",\"TurtleCoin\",\"MUNcoin\",\"Unified Society USDEX\",\"Niobio Cash\",\"ShareChain\",\"Travelflex\",\"KREDS\",\"Tokyo Coin\",\"BiblePay\",\"LitecoinCash\",\"BitFlip\",\"LottoCoin\",\"Crypto Improvement Fund\",\"Stipend\",\"Poa Network\",\"Pushi\",\"Ellerium\",\"Velox\",\"Ontology\",\"Callisto Network\",\"BitTube\",\"Poseidon\",\"Aidos Kuneen\",\"Bitspace\",\"Briacoin\",\"Ignition\",\"Bitrolium\",\"MedicCoin\",\"Alpenschillling\",\"Bitcoin Green\",\"Deviant Coin\",\"Abjcoin\",\"Semux\",\"FuturoCoin\",\"Carebit\",\"Zealium\",\"Monero Classic\",\"Proton\",\"iDealCash\",\"Jumpcoin\",\"Infinex\",\"Bitcoin Incognito\",\"KEYCO\",\"HollyWoodCoin\",\"GINcoin\",\"PlatinCoin\",\"Loki\",\"Newton Coin\",\"Swisscoin\",\"Xt3ch\",\"MassGrid\",\"TheVig\",\"PluraCoin\",\"EmaratCoin\",\"Dekado\",\"Lynx\",\"Poseidon Quark\",\"BitcoinWSpectrum\",\"Muse\",\"Motion\",\"PlusOneCoin\",\"Axe\",\"Trivechain\",\"Dystem\",\"Giant\",\"Peony Coin\",\"Absolute Coin\",\"Vitae\",\"HexCoin\",\"TPCash\",\"Webchain\",\"Ryo\",\"Urals Coin\",\"Qwertycoin\",\"ARENON\",\"EUNO\",\"MMOCoin\",\"Ketan\",\"Project Pai\",\"XDNA\",\"PAXEX\",\"Azart\",\"ThunderStake\",\"Kcash\",\"Xchange\",\"Acute Angle Cloud\",\"CrypticCoin\",\"Bettex coin\",\"Actinium\",\"Bitcoin SV\",\"BitMoney\",\"Junson Ming Chan Coin\",\"FREDEnergy\",\"HerbCoin\",\"Universal Molecule\",\"Lithium\",\"PirateCash\",\"Exosis\",\"Block-Logic\",\"Oduwa\",\"Beam\",\"Galilel\",\"Bithereum\",\"Crypto Sports\",\"Credit\",\"SLICE\",\"Dash Platinum\",\"Nasdacoin\",\"Beetle Coin\",\"Titan Coin\",\"Award\",\"BLAST\",\"Bitcoin Rhodium\",\"GlobalToken\",\"Insane Coin\",\"ALAX\",\"LiteDoge\",\"SolarCoin\",\"TruckCoin\",\"UFO Coin\",\"OrangeCoin\",\"BlakeCoin\",\"BitstarCoin\",\"NeosCoin\",\"HyperCoin\",\"PinkCoin\",\"Crypto Escudo\",\"AudioCoin\",\"IncaKoin\",\"Piggy Coin\",\"Crown Coin\",\"Genstake\",\"SmileyCoin\",\"XiaoMiCoin\",\"Groestlcoin\",\"CapriCoin\",\" ClubCoin\",\"Radium\",\"Bata\",\"Pakcoin\",\"Creditbit \",\"OKCash\",\"Lisk\",\"HiCoin\",\"WhiteCoin\",\"FriendshipCoin\",\"Fiii\",\"JoinCoin\",\"Triangles Coin\",\"Vollar\",\"EOS\",\"Reality Clash\",\"Oxycoin\",\"TigerCash\",\"Waves\",\"Particl\",\"Nxt\",\"ZEPHYR\",\"Gapcoin\",\"Beldex\",\"Horizen\",\"BitcoinPlus\"],\"ProofType\":[\"PoW/PoS\",\"PoW/PoS\",\"PoW/PoS\",\"PoW\",\"PoW\",\"PoW\",\"PoW/PoS\",\"PoW\",\"PoW\",\"PoW\",\"PoS\",\"PoW\",\"PoW/PoS\",\"PoS\",\"PoW\",\"PoW/PoS\",\"PoW\",\"PoW\",\"PoW/PoS\",\"PoW/PoS\",\"PoW\",\"PoW\",\"PoW\",\"PoW\",\"PoW\",\"PoW/PoS\",\"PoW\",\"PoW\",\"PoW\",\"PoW/PoS\",\"PoW\",\"PoW/PoS\",\"PoW\",\"PoW\",\"PoC\",\"PoW/PoS\",\"PoW\",\"PoW\",\"PoW\",\"PoW\",\"PoW\",\"PoW\",\"PoS\",\"PoS/PoW/PoT\",\"PoW\",\"PoW\",\"PoW\",\"PoW\",\"PoW\",\"PoW/PoS\",\"PoS\",\"PoW\",\"PoW/PoS\",\"PoW\",\"PoW\",\"PoW\",\"PoW\",\"PoW/PoS\",\"PoW\",\"PoW\",\"PoS\",\"PoW\",\"PoW/PoS\",\"PoS\",\"PoW/PoS\",\"PoW\",\"PoW\",\"PoW\",\"PoW/PoS\",\"PoW/PoS\",\"PoW/PoS\",\"PoW/PoS\",\"PoW/PoS\",\"PoW\",\"PoW\",\"PoW\",\"PoS\",\"PoW/PoS\",\"PoW\",\"PoS\",\"PoW\",\"PoS\",\"PoW/PoS\",\"PoW\",\"PoW\",\"PoW\",\"PoW\",\"PoW/PoS\",\"PoW/PoS\",\"PoW\",\"PoST\",\"PoW\",\"PoW\",\"PoW/PoS\",\"PoS\",\"PoW\",\"PoW/PoS\",\"PoW/PoS\",\"PoW\",\"PoW\",\"PoC\",\"PoS\",\"PoW\",\"PoW/PoS\",\"PoW/PoS\",\"PoW\",\"PoS\",\"PoW\",\"PoW/PoS\",\"PoW\",\"PoS\",\"PoW\",\"PoW/PoS\",\"PoW/PoS\",\"PoW\",\"PoW\",\"PoS\",\"PoW\",\"PoW\",\"PoW\",\"PoW/PoS\",\"PoW\",\"PoW\",\"PoW\",\"PoW\",\"PoW\",\"PoW/PoS\",\"PoW/nPoS\",\"PoW\",\"PoW\",\"PoW\",\"PoW/PoS\",\"PoW\",\"PoS/PoW\",\"PoW\",\"PoW\",\"PoS\",\"PoW\",\"PoW/PoS\",\"PoW\",\"PoW/PoS\",\"PoW/PoS\",\"PoW\",\"PoW\",\"PoW/PoS\",\"PoW\",\"PoW\",\"PoW/PoS\",\"PoW/PoS\",\"PoW\",\"PoW/PoS\",\"PoW\",\"PoW/PoS\",\"PoW/PoS\",\"PoS\",\"PoW\",\"PoW\",\"PoW\",\"PoW\",\"PoW/PoS\",\"PoS\",\"PoW/PoS\",\"PoC\",\"PoS\",\"PoW\",\"PoW\",\"PoW/PoS\",\"PoW/PoS\",\"PoW/PoS\",\"PoW/PoS\",\"PoW/PoS\",\"PoW\",\"PoS\",\"PoW/PoS\",\"PoW/PoS\",\"PoW/PoS\",\"PoS\",\"PoW\",\"PoS\",\"dPoW/PoW\",\"PoW/PoS\",\"PoW/PoS\",\"PoW\",\"PoW/PoS\",\"PoW\",\"PoW/PoS\",\"PoW/PoS\",\"PoW\",\"PoW/PoS\",\"PoW\",\"PoS\",\"PoW\",\"PoW/PoW\",\"PoW\",\"PoW/PoS\",\"PoS\",\"PoW/PoS\",\"PoW/PoS\",\"PoW\",\"PoS\",\"PoS\",\"PoW/PoS\",\"PoS\",\"PoW/PoS\",\"PoW\",\"PoW\",\"DPoS\",\"PoW/PoS\",\"PoW\",\"PoW\",\"PoW/PoS\",\"PoW/PoS\",\"PoS\",\"PoW/PoS\",\"PoW/PoS\",\"PoW\",\"PoS\",\"PoW/PoS\",\"PoW/PoS\",\"PoW/PoS\",\"TPoS\",\"PoW/PoS\",\"PoW/PoS\",\"PoW/PoS\",\"PoW\",\"PoW/PoS\",\"PoS\",\"PoW/PoS\",\"PoW/PoS\",\"PoS\",\"PoW/PoS\",\"PoW\",\"PoW\",\"PoW\",\"PoW/PoS\",\"PoW/PoS\",\"PoW/PoS\",\"PoW/PoS\",\"PoW\",\"PoW/PoS\",\"PoW\",\"PoS\",\"PoW/PoS \",\"PoW\",\"PoS\",\"PoW\",\"PoW\",\"PoW/PoS\",\"PoW\",\"PoW\",\"PoS\",\"PoW\",\"PoW/PoS\",\"PoW/PoS\",\"PoW/PoS\",\"PoW\",\"PoS\",\"PoW/PoS\",\"PoW\",\"PoS\",\"PoW/PoS\",\"PoW/PoS\",\"PoW/PoS\",\"PoW/PoS\",\"PoS\",\"PoW/PoS\",\"PoW\",\"PoS\",\"PoW\",\"PoS\",\"PoW/PoS\",\"PoW/PoS\",\"PoS\",\"PoW\",\"PoS\",\"PoW\",\"PoW/PoS\",\"PoW\",\"PoW\",\"PoW\",\"PoW\",\"PoW/PoS\",\"PoW\",\"PoW/PoS\",\"PoW/PoS\",\"PoW\",\"PoW/PoS\",\"PoW\",\"PoW\",\"PoW\",\"PoW/PoS\",\"PoW\",\"PoW/PoS\",\"PoW\",\"PoW\",\"PoW\",\"PoS\",\"PoW\",\"PoW/PoS\",\"PoW\",\"PoW/PoS\",\"PoS\",\"PoW\",\"PoS\",\"PoW\",\"PoW\",\"PoW\",\"PoW\",\"PoW\",\"PoW/PoS\",\"PoW/PoS\",\"PoW\",\"PoS\",\"PoS\",\"PoW/PoS\",\"PoW\",\"PoW/PoS\",\"PoW\",\"PoW/PoS\",\"PoW\",\"PoS\",\"PoW\",\"PoW/PoS\",\"PoW/PoS\",\"PoW/PoS\",\"PoW/PoS\",\"PoW\",\"PoW/PoS\",\"PoW/PoS\",\"PoW\",\"PoS\",\"PoW/PoS\",\"PoS\",\"PoW\",\"PoW\",\"PoW\",\"PoW\",\"PoW/PoS\",\"DPoS\",\"PoW/PoS\",\"PoW/PoS\",\"PoW\",\"PoW/PoS\",\"PoW\",\"PoW\",\"PoW\",\"PoS\",\"PoS\",\"PoW\",\"PoW\",\"PoW/PoS\",\"PoW/PoS\",\"PoW\",\"PoW/PoS\",\"PoW\",\"PoW\",\"PoW\",\"PoS\",\"PoW\",\"PoW\",\"PoW/PoS\",\"PoW/PoS\",\"PoS\",\"PoW\",\"PoW\",\"PoW\",\"PoS\",\"PoS\",\"PoW and PoS\",\"PoW\",\"PoW\",\"PoW/PoS\",\"PoW\",\"PoW\",\"PoW\",\"PoW\",\"PoS\",\"POBh\",\"PoW + Hive\",\"PoW\",\"PoW\",\"PoW\",\"PoW/PoS\",\"PoA\",\"PoW/PoS\",\"PoW/PoS\",\"PoS\",\"PoS\",\"PoW\",\"PoW\",\"PoW\",\"PoW\",\"PoW/PoS\",\"PoW/PoS\",\"PoW/PoS\",\"PoW\",\"PoS\",\"PoW\",\"PoS\",\"PoS\",\"PoW/PoS\",\"DPoS\",\"PoW\",\"PoW/PoS\",\"PoS\",\"PoW\",\"PoS\",\"PoW/PoS\",\"PoW\",\"PoW\",\"PoS/PoW\",\"PoW\",\"PoS\",\"PoW\",\"PoW\",\"PoW\",\"PoW\",\"PoW/PoS\",\"PoS\",\"PoW\",\"PoW/PoS\",\"PoW\",\"PoW/PoS\",\"PoS\",\"HPoW\",\"PoS\",\"PoS\",\"PoS\",\"PoW\",\"PoW\",\"PoW\",\"PoW/PoS\",\"PoS\",\"PoW/PoS\",\"PoS\",\"PoW/PoS\",\"PoS\",\"PoW\",\"PoW/PoS\",\"PoW\",\"PoW\",\"PoW\",\"PoW\",\"PoS\",\"PoW/PoS\",\"PoS\",\"PoS\",\"PoW\",\"PoW/PoS\",\"PoS\",\"PoW\",\"PoW/PoS\",\"Zero-Knowledge Proof\",\"PoW\",\"DPOS\",\"PoW\",\"PoS\",\"PoW\",\"PoW\",\"Pos\",\"PoS\",\"PoW\",\"PoW/PoS\",\"PoW\",\"PoW\",\"PoS\",\"PoW\",\"PoW\",\"PoW/PoS\",\"PoW\",\"PoW/PoS\",\"PoW\",\"PoS\",\"PoW/PoS\",\"PoW\",\"PoS\",\"PoW/PoS\",\"PoW/PoS\",\"PoW/PoS\",\"PoW/PoS\",\"PoW\",\"PoW\",\"PoW\",\"PoW/PoS\",\"DPoS\",\"PoW/PoS\",\"PoW\",\"PoW/PoS\",\"PoW\",\"PoW/PoS\",\"PoW\",\"PoW/PoS\",\"PoS\",\"PoW/PoS\",\"PoW/PoS\",\"PoW\",\"PoW/PoS\",\"PoW/PoS\",\"PoW/PoS\",\"PoW\",\"PoW/PoS\",\"PoW\",\"PoW/PoS\",\"PoW\",\"PoW/PoS\",\"PoW/PoS\",\"PoS\",\"PoW\",\"PoW\",\"Proof of Trust\",\"PoW/PoS\",\"DPoS\",\"PoS\",\"PoW/PoS\",\"PoW/PoS\",\"DPoC\",\"PoW\",\"PoW/PoS\",\"PoW\",\"DPoS\",\"PoW\",\"DPoS\",\"PoS\",\"LPoS\",\"PoS\",\"PoS/LPoS\",\"DPoS\",\"PoW/PoS\",\"PoW\",\"PoW\",\"PoS\"],\"TotalCoinSupply\":[\"42\",\"532000000\",\"314159265359\",\"21000000\",\"0\",\"84000000\",\"22000000\",\"0\",\"210000000\",\"21000000\",\"3600570502\",\"21000000000\",\"22000000\",\"12500000\",\"21000000\",\"350000000\",\"20000000\",\"64000000\",\"16768584\",\"0\",\"2000000000\",\"384000000000\",\"169795588\",\"250000000\",\"100000000\",\"0\",\"247000000\",\"84000000\",\"48166000\",\"500000\",\"21000000 \",\"1000000\",\"13140000\",\"18000000\",\"40000000000\",\"4380000\",\"16555000000\",\"21000000000\",\"13500000000\",\"21000000 \",\"299792458\",\"32000000\",\"0\",\"0\",\"11235813\",\"336000000\",\"1420609614\",\"70000000\",\"72245700\",\"120000000\",\"0\",\"90600000000\",\"22000000\",\"21000000\",\"265420800\",\"20000000\",\"1350000\",\"100000000\",\"42000000\",\"200000000\",\"0\",\"10000000\",\"2419200000\",\"16180000\",\"0\",\"15000000000\",\"21000000\",\"337000000\",\"0\",\"3770000\",\"420000000\",\"98000000\",\"0\",\"21000000\",\"250000000\",\"51200000\",\"0\",\"1000\",\"888000000\",\"100000000\",\"47011968\",\"2300000000\",\"10000000\",\"42000000\",\"80000000\",\"250000\",\"0\",\"1600000000\",\"100000000\",\"23000000\",\"0\",\"84000000\",\"265420800\",\"5500000\",\"0\",\"45000000\",\"0\",\"1000000000\",\"184467440735\",\"10000000000\",\"2158812800\",\"500000000\",\"105120000\",\"68000000\",\"0\",\"1680000000\",\"0\",\"166386000\",\"12000000\",\"2628000\",\"500000000\",\"160000000\",\"0\",\"10000000\",\"1000000000\",\"1000000000\",\"20000000\",\"0\",\"0\",\"3371337\",\"20000000\",\"10000000000\",\"1840000000\",\"619478\",\"21000000\",\"92000000000\",\"0\",\"78000000\",\"33000000\",\"65789100\",\"53760000\",\"5060000\",\"21000000\",\"0\",\"210240000\",\"250000000\",\"100000000\",\"16906397\",\"50000000\",\"0\",\"1000000000\",\"26298000\",\"16000000\",\"21000000\",\"21000000\",\"210000000\",\"81962100\",\"22000000\",\"26550000000\",\"84000000\",\"10500000\",\"21626280000 \",\"0\",\"42000000\",\"221052632\",\"84000000\",\"30000000\",\"168351300\",\"24000000\",\"384000000\",\" 99000000000\",\"40000000\",\"2147483647\",\"20000000\",\"20000000\",\"25000000\",\"75000000\",\"222725000\",\"525000000\",\"90000000\",\"139000000\",\"616448\",\"33500000\",\"2000000000\",\"44333333\",\"100000000\",\"200000000\",\"25000000\",\"657000000\",\"200000000\",\"50000000\",\"90000000\",\"10000000\",\"21000000\",\"9736000\",\"3000000\",\"21000000\",\"1200000000\",\"0\",\"200000000\",\"0\",\"10638298\",\"3100000000\",\"30000000\",\"20000000000\",\"74000000\",\"0\",\"1500000000\",\"21400000\",\"39999898\",\"2500124\",\"100000000\",\"301000000\",\"7506000000\",\"26205539\",\"21000000\",\"125000000\",\"30000000\",\"10000000000\",\"500000000\",\"850000000\",\"3853326.77707314\",\"50000000\",\"38540000 \",\"42000000\",\"228000000\",\"20000000\",\"60000000\",\"20000000\",\"33000000\",\"76500000\",\"28000000\",\"650659833\",\"5000000\",\"21000000\",\"144000000\",\"32514916898\",\"13000000\",\"3315789\",\"15000000\",\"78835200\",\"2714286\",\"25000000\",\"9999999\",\"500000000\",\"21000000\",\"9354000\",\"20000000\",\"100000000000\",\"21933333\",\"185000000\",\"55000000\",\"110000000\",\"3360000\",\"14524851.4827\",\"1000000000\",\"17000000\",\"1000000000\",\"100000000 \",\"21000000\",\"34426423\",\"2232901\",\"100000000\",\"36900000\",\"110000000\",\"4000000000\",\"110290030\",\"100000000\",\"48252000\",\"400000000\",\"500000000\",\"21212121\",\"28600000\",\"1000000000\",\"75000000000\",\"40000000\",\"35520400\",\"2000000000\",\"2500000000\",\"30000000\",\"105000000\",\"90000000000\",\"200084200\",\"72000000\",\"100000000\",\"105000000\",\"50000000000\",\"0\",\"340282367\",\"30000000\",\"2000000000\",\"10000000\",\"100000000\",\"120000000\",\"100000000\",\"19276800\",\"30000000\",\" 75000000\",\"60000000\",\"18900000\",\"50000000000\",\"54000000\",\"18898187.6216583\",\"21000000\",\"200000000000\",\"5000000000\",\"137500000\",\"1100000000\",\"100000000\",\"21000000\",\"9507271\",\"17405891.19707116\",\"10500000000\",\"61599965\",\"0\",\"20000000\",\"84000000\",\"100000000\",\"100000000\",\"48252000\",\"4200000\",\"88888888\",\"91388946\",\"45000000000\",\"27000000\",\"21000000000\",\"400000000\",\"1800000000\",\"15733333\",\"27000000\",\"24000000\",\"21000000\",\"25000000000\",\"100000000\",\"1200000000\",\"60000000\",\"156306732.71\",\"21000000\",\"200000000\",\"100000000\",\"21000000\",\"14788275.991\",\"9000000000\",\"350000000\",\"45000000\",\"280000000\",\"31800000\",\"144000000\",\"500000000\",\"30000000000\",\"210000000\",\"660000000\",\"210000000\",\"85000000000\",\"12500000\",\"10000000000\",\"27716121\",\"20000000\",\"550000000\",\"999481516\",\"50000000000\",\"150000000\",\"4999999999\",\"50000000\",\" 90000000000\",\"19800000\",\"21000000\",\"120000000\",\"500000000\",\"64000000\",\"900000000\",\"4000000\",\"21000000\",\"23000000\",\"20166000\",\"23000000\",\"25000000\",\"1618033\",\"30000000\",\"1000000000000\",\"16600000\",\"232000000\",\"336000000\",\"10000000000\",\"100000000\",\"1100000000\",\"800000000\",\"5200000000\",\"840000000\",\"40000000\",\"18406979840\",\"500000000\",\"19340594\",\"252460800\",\"25000000\",\"60000000\",\"124000000\",\"1000000000\",\"6500000000\",\"1000000000\",\"21000000\",\"25000000\",\"50000000\",\"3000000\",\"5000000\",\"70000000\",\"500000000\",\"300000000\",\"21000000\",\"88000000\",\"30000000\",\"100000000\",\"100000000\",\"200000000\",\"80000000\",\"18400000\",\"45000000\",\"5121951220\",\"21000000\",\"26280000\",\"21000000\",\"18000000\",\"26000000\",\"10500000\",\"600000518\",\"150000000\",\"184000000000\",\"10200000000\",\"44000000\",\"168000000\",\"100000000\",\"1000000000\",\"84000000\",\"90000000\",\"92000000000\",\"650000000 \",\"100262205\",\"18081806 \",\"22075700\",\"21000000\",\"21000000\",\"82546564\",\"21000000\",\"5151000\",\"16880000000\",\"52500000\",\"100000000\",\"22105263\",\"1000000000\",\"1750000000\",\"88188888\",\"210000000\",\"184470000000\",\"55000000\",\"50000000\",\"260000000\",\"210000000\",\"2100000000\",\"366000000\",\"100000000\",\"25000000\",\"18000000000\",\"1000000000\",\"100000000\",\"1000000000\",\"7600000000\",\"50000000\",\"84000000\",\"21000000\",\"70000000000\",\"0\",\"8080000000\",\"54000000\",\"105120001.44\",\"25228800\",\"105000000\",\"21000000\",\"120000000\",\"21000000\",\"262800000\",\"19035999\",\"30886000\",\"13370000\",\"74800000000\",\"100000000\",\"19700000\",\"84000000\",\"500000000\",\"5000000000\",\"420000000\",\"64000000\",\"2100000\",\"168000000\",\"30000000\",\"1000000000\",\"35000000000\",\"98100000000\",\"0\",\"4000000000\",\"200000000\",\"7000000000\",\"54256119\",\"21000000\",\"0\",\"500000000\",\"1000000000\",\"10500000000\",\"190000000\",\"1000000000\",\"42000000\",\"15000000\",\"50000000000\",\"400000000\",\"105000000\",\"208000000\",\"160000000\",\"9000000\",\"5000000\",\"182000000\",\"16504333\",\"105000000\",\"159918400\",\"10008835635\",\"300000000\",\"60168145\",\"5000000000\",\"2800000\",\"120000\",\"2100000000\",\"0\",\"24487944\",\"0\",\"1000000000\",\"100000000\",\"8634140\",\"1000000000\",\"2000000000\",\"250000000\",\"1400222610\",\"21000000\",\"1000000\"],\"TotalCoinsMined\":{\"__ndarray__\":\"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\",\"dtype\":\"float64\",\"order\":\"little\",\"shape\":[531]}},\"selected\":{\"id\":\"1509\"},\"selection_policy\":{\"id\":\"1543\"}},\"id\":\"1508\",\"type\":\"ColumnDataSource\"},{\"attributes\":{\"editor\":{\"id\":\"1526\"},\"field\":\"TotalCoinSupply\",\"formatter\":{\"id\":\"1525\"},\"title\":\"TotalCoinSupply\"},\"id\":\"1527\",\"type\":\"TableColumn\"},{\"attributes\":{},\"id\":\"1520\",\"type\":\"StringFormatter\"},{\"attributes\":{},\"id\":\"1509\",\"type\":\"Selection\"},{\"attributes\":{\"margin\":[5,5,5,5],\"name\":\"HSpacer01335\",\"sizing_mode\":\"stretch_width\"},\"id\":\"1507\",\"type\":\"Spacer\"},{\"attributes\":{\"format\":\"0,0.0[00000]\"},\"id\":\"1530\",\"type\":\"NumberFormatter\"},{\"attributes\":{},\"id\":\"1511\",\"type\":\"StringEditor\"},{\"attributes\":{},\"id\":\"1526\",\"type\":\"StringEditor\"},{\"attributes\":{\"editor\":{\"id\":\"1521\"},\"field\":\"ProofType\",\"formatter\":{\"id\":\"1520\"},\"title\":\"ProofType\"},\"id\":\"1522\",\"type\":\"TableColumn\"},{\"attributes\":{\"editor\":{\"id\":\"1511\"},\"field\":\"CoinName\",\"formatter\":{\"id\":\"1510\"},\"title\":\"CoinName\"},\"id\":\"1512\",\"type\":\"TableColumn\"},{\"attributes\":{},\"id\":\"1521\",\"type\":\"StringEditor\"},{\"attributes\":{},\"id\":\"1516\",\"type\":\"StringEditor\"},{\"attributes\":{},\"id\":\"1525\",\"type\":\"StringFormatter\"},{\"attributes\":{},\"id\":\"1536\",\"type\":\"IntEditor\"},{\"attributes\":{\"children\":[{\"id\":\"1507\"},{\"id\":\"1540\"},{\"id\":\"1545\"}],\"margin\":[0,0,0,0],\"name\":\"Row01331\",\"tags\":[\"embedded\"]},\"id\":\"1506\",\"type\":\"Row\"},{\"attributes\":{},\"id\":\"1510\",\"type\":\"StringFormatter\"},{\"attributes\":{},\"id\":\"1535\",\"type\":\"NumberFormatter\"},{\"attributes\":{\"editor\":{\"id\":\"1536\"},\"field\":\"Class\",\"formatter\":{\"id\":\"1535\"},\"title\":\"Class\"},\"id\":\"1537\",\"type\":\"TableColumn\"},{\"attributes\":{},\"id\":\"1543\",\"type\":\"UnionRenderers\"},{\"attributes\":{\"source\":{\"id\":\"1508\"}},\"id\":\"1542\",\"type\":\"CDSView\"},{\"attributes\":{},\"id\":\"1531\",\"type\":\"NumberEditor\"},{\"attributes\":{},\"id\":\"1515\",\"type\":\"StringFormatter\"},{\"attributes\":{\"editor\":{\"id\":\"1516\"},\"field\":\"Algorithm\",\"formatter\":{\"id\":\"1515\"},\"title\":\"Algorithm\"},\"id\":\"1517\",\"type\":\"TableColumn\"}],\"root_ids\":[\"1506\"]},\"title\":\"Bokeh Application\",\"version\":\"2.4.3\"}};\n",
       "    var render_items = [{\"docid\":\"258e73e5-bef4-42c0-b266-c8083ae811d4\",\"root_ids\":[\"1506\"],\"roots\":{\"1506\":\"358ae373-d4f6-4ce6-99c3-0f15f4a72944\"}}];\n",
       "    root.Bokeh.embed.embed_items_notebook(docs_json, render_items);\n",
       "  }\n",
       "  if (root.Bokeh !== undefined && root.Bokeh.Panel !== undefined) {\n",
       "    embed_document(root);\n",
       "  } else {\n",
       "    var attempts = 0;\n",
       "    var timer = setInterval(function(root) {\n",
       "      if (root.Bokeh !== undefined && root.Bokeh.Panel !== undefined) {\n",
       "        clearInterval(timer);\n",
       "        embed_document(root);\n",
       "      } else if (document.readyState == \"complete\") {\n",
       "        attempts++;\n",
       "        if (attempts > 200) {\n",
       "          clearInterval(timer);\n",
       "          console.log(\"Bokeh: ERROR: Unable to run BokehJS code because BokehJS library is missing\");\n",
       "        }\n",
       "      }\n",
       "    }, 25, root)\n",
       "  }\n",
       "})(window);</script>"
      ],
      "text/plain": [
       ":Table   [CoinName,Algorithm,ProofType,TotalCoinSupply,TotalCoinsMined,Class]"
      ]
     },
     "execution_count": 47,
     "metadata": {
      "application/vnd.holoviews_exec.v0+json": {
       "id": "1506"
      }
     },
     "output_type": "execute_result"
    }
   ],
   "source": [
    "# Create a table with tradable cryptocurrencies.\n",
    "columns = ['CoinName', 'Algorithm', 'ProofType', 'TotalCoinSupply', 'TotalCoinsMined', 'Class']\n",
    "clustered_df.hvplot.table(columns)"
   ]
  },
  {
   "cell_type": "code",
   "execution_count": 20,
   "metadata": {},
   "outputs": [
    {
     "data": {
      "text/plain": [
       "532"
      ]
     },
     "execution_count": 20,
     "metadata": {},
     "output_type": "execute_result"
    }
   ],
   "source": [
    "# Print the total number of tradable cryptocurrencies.\n",
    "len(clustered_df)"
   ]
  },
  {
   "cell_type": "code",
   "execution_count": 21,
   "metadata": {},
   "outputs": [
    {
     "data": {
      "text/plain": [
       "array([[4.20000000e-11, 3.11497414e-02],\n",
       "       [5.32000000e-04, 3.67037901e-02],\n",
       "       [3.14159265e-01, 1.85264300e-01],\n",
       "       ...,\n",
       "       [1.40022261e-03, 3.63092201e-02],\n",
       "       [2.10000000e-05, 3.11881471e-02],\n",
       "       [1.00000000e-06, 3.11504166e-02]])"
      ]
     },
     "execution_count": 21,
     "metadata": {},
     "output_type": "execute_result"
    }
   ],
   "source": [
    "# Scaling data to create the scatter plot with tradable cryptocurrencies.\n",
    "\n",
    "X_scaled = MinMaxScaler().fit_transform(clustered_df[[\"TotalCoinSupply\",\"TotalCoinsMined\"]])\n",
    "X_scaled"
   ]
  },
  {
   "cell_type": "code",
   "execution_count": 22,
   "metadata": {},
   "outputs": [
    {
     "data": {
      "text/html": [
       "<div>\n",
       "<style scoped>\n",
       "    .dataframe tbody tr th:only-of-type {\n",
       "        vertical-align: middle;\n",
       "    }\n",
       "\n",
       "    .dataframe tbody tr th {\n",
       "        vertical-align: top;\n",
       "    }\n",
       "\n",
       "    .dataframe thead th {\n",
       "        text-align: right;\n",
       "    }\n",
       "</style>\n",
       "<table border=\"1\" class=\"dataframe\">\n",
       "  <thead>\n",
       "    <tr style=\"text-align: right;\">\n",
       "      <th></th>\n",
       "      <th>TotalCoinSupply</th>\n",
       "      <th>TotalCoinsMined</th>\n",
       "      <th>CoinName</th>\n",
       "      <th>Class</th>\n",
       "    </tr>\n",
       "  </thead>\n",
       "  <tbody>\n",
       "    <tr>\n",
       "      <th>42</th>\n",
       "      <td>4.200000e-11</td>\n",
       "      <td>0.031150</td>\n",
       "      <td>42 Coin</td>\n",
       "      <td>1</td>\n",
       "    </tr>\n",
       "    <tr>\n",
       "      <th>404</th>\n",
       "      <td>5.320000e-04</td>\n",
       "      <td>0.036704</td>\n",
       "      <td>404Coin</td>\n",
       "      <td>1</td>\n",
       "    </tr>\n",
       "    <tr>\n",
       "      <th>1337</th>\n",
       "      <td>3.141593e-01</td>\n",
       "      <td>0.185264</td>\n",
       "      <td>EliteCoin</td>\n",
       "      <td>1</td>\n",
       "    </tr>\n",
       "    <tr>\n",
       "      <th>BTC</th>\n",
       "      <td>2.100000e-05</td>\n",
       "      <td>0.031244</td>\n",
       "      <td>Bitcoin</td>\n",
       "      <td>0</td>\n",
       "    </tr>\n",
       "    <tr>\n",
       "      <th>ETH</th>\n",
       "      <td>0.000000e+00</td>\n",
       "      <td>0.031717</td>\n",
       "      <td>Ethereum</td>\n",
       "      <td>0</td>\n",
       "    </tr>\n",
       "    <tr>\n",
       "      <th>...</th>\n",
       "      <td>...</td>\n",
       "      <td>...</td>\n",
       "      <td>...</td>\n",
       "      <td>...</td>\n",
       "    </tr>\n",
       "    <tr>\n",
       "      <th>ZEPH</th>\n",
       "      <td>2.000000e-03</td>\n",
       "      <td>0.041677</td>\n",
       "      <td>ZEPHYR</td>\n",
       "      <td>1</td>\n",
       "    </tr>\n",
       "    <tr>\n",
       "      <th>GAP</th>\n",
       "      <td>2.500000e-04</td>\n",
       "      <td>0.031228</td>\n",
       "      <td>Gapcoin</td>\n",
       "      <td>1</td>\n",
       "    </tr>\n",
       "    <tr>\n",
       "      <th>BDX</th>\n",
       "      <td>1.400223e-03</td>\n",
       "      <td>0.036309</td>\n",
       "      <td>Beldex</td>\n",
       "      <td>0</td>\n",
       "    </tr>\n",
       "    <tr>\n",
       "      <th>ZEN</th>\n",
       "      <td>2.100000e-05</td>\n",
       "      <td>0.031188</td>\n",
       "      <td>Horizen</td>\n",
       "      <td>0</td>\n",
       "    </tr>\n",
       "    <tr>\n",
       "      <th>XBC</th>\n",
       "      <td>1.000000e-06</td>\n",
       "      <td>0.031150</td>\n",
       "      <td>BitcoinPlus</td>\n",
       "      <td>1</td>\n",
       "    </tr>\n",
       "  </tbody>\n",
       "</table>\n",
       "<p>532 rows × 4 columns</p>\n",
       "</div>"
      ],
      "text/plain": [
       "      TotalCoinSupply  TotalCoinsMined     CoinName  Class\n",
       "42       4.200000e-11         0.031150      42 Coin      1\n",
       "404      5.320000e-04         0.036704      404Coin      1\n",
       "1337     3.141593e-01         0.185264    EliteCoin      1\n",
       "BTC      2.100000e-05         0.031244      Bitcoin      0\n",
       "ETH      0.000000e+00         0.031717     Ethereum      0\n",
       "...               ...              ...          ...    ...\n",
       "ZEPH     2.000000e-03         0.041677       ZEPHYR      1\n",
       "GAP      2.500000e-04         0.031228      Gapcoin      1\n",
       "BDX      1.400223e-03         0.036309       Beldex      0\n",
       "ZEN      2.100000e-05         0.031188      Horizen      0\n",
       "XBC      1.000000e-06         0.031150  BitcoinPlus      1\n",
       "\n",
       "[532 rows x 4 columns]"
      ]
     },
     "execution_count": 22,
     "metadata": {},
     "output_type": "execute_result"
    }
   ],
   "source": [
    "# Create a new DataFrame that has the scaled data with the clustered_df DataFrame index.\n",
    "x_df = pd.DataFrame(data = X_scaled, \n",
    "                  index = crypto_df.index, \n",
    "                  columns = [\"TotalCoinSupply\",\"TotalCoinsMined\"])\n",
    "\n",
    "# Add the \"CoinName\" column from the clustered_df DataFrame to the new DataFrame.\n",
    "x_df['CoinName'] = clustered_df.CoinName\n",
    "\n",
    "# Add the \"Class\" column from the clustered_df DataFrame to the new DataFrame. \n",
    "x_df['Class'] = clustered_df.Class\n",
    "\n",
    "#plot_df.head(10)\n",
    "\n",
    "x_df"
   ]
  },
  {
   "cell_type": "code",
   "execution_count": 23,
   "metadata": {},
   "outputs": [
    {
     "data": {},
     "metadata": {},
     "output_type": "display_data"
    },
    {
     "data": {
      "application/vnd.holoviews_exec.v0+json": "",
      "text/html": [
       "<div id='1162'>\n",
       "  <div class=\"bk-root\" id=\"fb7d56cd-96b1-4133-9abc-8c8ac4803b7f\" data-root-id=\"1162\"></div>\n",
       "</div>\n",
       "<script type=\"application/javascript\">(function(root) {\n",
       "  function embed_document(root) {\n",
       "    var docs_json = {\"b54619ef-75f6-4904-87df-e7f6a9c587de\":{\"defs\":[{\"extends\":null,\"module\":null,\"name\":\"ReactiveHTML1\",\"overrides\":[],\"properties\":[]},{\"extends\":null,\"module\":null,\"name\":\"FlexBox1\",\"overrides\":[],\"properties\":[{\"default\":\"flex-start\",\"kind\":null,\"name\":\"align_content\"},{\"default\":\"flex-start\",\"kind\":null,\"name\":\"align_items\"},{\"default\":\"row\",\"kind\":null,\"name\":\"flex_direction\"},{\"default\":\"wrap\",\"kind\":null,\"name\":\"flex_wrap\"},{\"default\":\"flex-start\",\"kind\":null,\"name\":\"justify_content\"}]},{\"extends\":null,\"module\":null,\"name\":\"GridStack1\",\"overrides\":[],\"properties\":[{\"default\":\"warn\",\"kind\":null,\"name\":\"mode\"},{\"default\":null,\"kind\":null,\"name\":\"ncols\"},{\"default\":null,\"kind\":null,\"name\":\"nrows\"},{\"default\":true,\"kind\":null,\"name\":\"allow_resize\"},{\"default\":true,\"kind\":null,\"name\":\"allow_drag\"},{\"default\":[],\"kind\":null,\"name\":\"state\"}]},{\"extends\":null,\"module\":null,\"name\":\"click1\",\"overrides\":[],\"properties\":[{\"default\":\"\",\"kind\":null,\"name\":\"terminal_output\"},{\"default\":\"\",\"kind\":null,\"name\":\"debug_name\"},{\"default\":0,\"kind\":null,\"name\":\"clears\"}]},{\"extends\":null,\"module\":null,\"name\":\"NotificationAreaBase1\",\"overrides\":[],\"properties\":[{\"default\":\"bottom-right\",\"kind\":null,\"name\":\"position\"},{\"default\":0,\"kind\":null,\"name\":\"_clear\"}]},{\"extends\":null,\"module\":null,\"name\":\"NotificationArea1\",\"overrides\":[],\"properties\":[{\"default\":[],\"kind\":null,\"name\":\"notifications\"},{\"default\":\"bottom-right\",\"kind\":null,\"name\":\"position\"},{\"default\":0,\"kind\":null,\"name\":\"_clear\"},{\"default\":[{\"background\":\"#ffc107\",\"icon\":{\"className\":\"fas fa-exclamation-triangle\",\"color\":\"white\",\"tagName\":\"i\"},\"type\":\"warning\"},{\"background\":\"#007bff\",\"icon\":{\"className\":\"fas fa-info-circle\",\"color\":\"white\",\"tagName\":\"i\"},\"type\":\"info\"}],\"kind\":null,\"name\":\"types\"}]},{\"extends\":null,\"module\":null,\"name\":\"Notification\",\"overrides\":[],\"properties\":[{\"default\":null,\"kind\":null,\"name\":\"background\"},{\"default\":3000,\"kind\":null,\"name\":\"duration\"},{\"default\":null,\"kind\":null,\"name\":\"icon\"},{\"default\":\"\",\"kind\":null,\"name\":\"message\"},{\"default\":null,\"kind\":null,\"name\":\"notification_type\"},{\"default\":false,\"kind\":null,\"name\":\"_destroyed\"}]},{\"extends\":null,\"module\":null,\"name\":\"TemplateActions1\",\"overrides\":[],\"properties\":[{\"default\":0,\"kind\":null,\"name\":\"open_modal\"},{\"default\":0,\"kind\":null,\"name\":\"close_modal\"}]},{\"extends\":null,\"module\":null,\"name\":\"MaterialTemplateActions1\",\"overrides\":[],\"properties\":[{\"default\":0,\"kind\":null,\"name\":\"open_modal\"},{\"default\":0,\"kind\":null,\"name\":\"close_modal\"}]}],\"roots\":{\"references\":[{\"attributes\":{\"margin\":[5,5,5,5],\"name\":\"HSpacer01111\",\"sizing_mode\":\"stretch_width\"},\"id\":\"1163\",\"type\":\"Spacer\"},{\"attributes\":{\"angle\":{\"value\":0.0},\"fill_alpha\":{\"value\":1.0},\"fill_color\":{\"value\":\"#fc4f30\"},\"hatch_alpha\":{\"value\":1.0},\"hatch_color\":{\"value\":\"#fc4f30\"},\"hatch_scale\":{\"value\":12.0},\"hatch_weight\":{\"value\":1.0},\"line_alpha\":{\"value\":1.0},\"line_cap\":{\"value\":\"butt\"},\"line_color\":{\"value\":\"#fc4f30\"},\"line_dash\":{\"value\":[]},\"line_dash_offset\":{\"value\":0},\"line_join\":{\"value\":\"bevel\"},\"line_width\":{\"value\":1},\"marker\":{\"value\":\"circle\"},\"size\":{\"value\":5.477225575051661},\"x\":{\"field\":\"TotalCoinsMined\"},\"y\":{\"field\":\"TotalCoinSupply\"}},\"id\":\"1248\",\"type\":\"Scatter\"},{\"attributes\":{\"data\":{\"Class\":[3,3,3,3,3,3],\"TotalCoinSupply\":{\"__ndarray__\":\"lPYGX5hMdT+8eapDboZLP4RaKOGWizA//Knx0k1iUD97FK5H4Xp0PyxDHOviNho/\",\"dtype\":\"float64\",\"order\":\"little\",\"shape\":[6]},\"TotalCoinsMined\":{\"__ndarray__\":\"cdYgTHC5pD9udfaoSKuhP9U6Qznuf6A/tqIFRcSkoj8AAAAAAAAAAKpgIoPZN6A/\",\"dtype\":\"float64\",\"order\":\"little\",\"shape\":[6]}},\"selected\":{\"id\":\"1274\"},\"selection_policy\":{\"id\":\"1294\"}},\"id\":\"1273\",\"type\":\"ColumnDataSource\"},{\"attributes\":{\"source\":{\"id\":\"1273\"}},\"id\":\"1280\",\"type\":\"CDSView\"},{\"attributes\":{\"click_policy\":\"mute\",\"coordinates\":null,\"group\":null,\"items\":[{\"id\":\"1225\"},{\"id\":\"1247\"},{\"id\":\"1271\"},{\"id\":\"1297\"}],\"location\":[0,0],\"title\":\"Class\"},\"id\":\"1224\",\"type\":\"Legend\"},{\"attributes\":{\"axis\":{\"id\":\"1179\"},\"coordinates\":null,\"grid_line_color\":null,\"group\":null,\"ticker\":null},\"id\":\"1182\",\"type\":\"Grid\"},{\"attributes\":{\"angle\":{\"value\":0.0},\"fill_alpha\":{\"value\":1.0},\"fill_color\":{\"value\":\"#e5ae38\"},\"hatch_alpha\":{\"value\":1.0},\"hatch_color\":{\"value\":\"#e5ae38\"},\"hatch_scale\":{\"value\":12.0},\"hatch_weight\":{\"value\":1.0},\"line_alpha\":{\"value\":1.0},\"line_cap\":{\"value\":\"butt\"},\"line_color\":{\"value\":\"#e5ae38\"},\"line_dash\":{\"value\":[]},\"line_dash_offset\":{\"value\":0},\"line_join\":{\"value\":\"bevel\"},\"line_width\":{\"value\":1},\"marker\":{\"value\":\"circle\"},\"size\":{\"value\":5.477225575051661},\"x\":{\"field\":\"TotalCoinsMined\"},\"y\":{\"field\":\"TotalCoinSupply\"}},\"id\":\"1272\",\"type\":\"Scatter\"},{\"attributes\":{},\"id\":\"1244\",\"type\":\"UnionRenderers\"},{\"attributes\":{\"data\":{\"Class\":[2],\"TotalCoinSupply\":{\"__ndarray__\":\"+nQumcwytj8=\",\"dtype\":\"float64\",\"order\":\"little\",\"shape\":[1]},\"TotalCoinsMined\":{\"__ndarray__\":\"WpiwarCs1D8=\",\"dtype\":\"float64\",\"order\":\"little\",\"shape\":[1]}},\"selected\":{\"id\":\"1250\"},\"selection_policy\":{\"id\":\"1268\"}},\"id\":\"1249\",\"type\":\"ColumnDataSource\"},{\"attributes\":{},\"id\":\"1221\",\"type\":\"UnionRenderers\"},{\"attributes\":{\"coordinates\":null,\"group\":null,\"text\":\"Scatter Visualization\",\"text_color\":\"black\",\"text_font_size\":\"12pt\"},\"id\":\"1171\",\"type\":\"Title\"},{\"attributes\":{},\"id\":\"1180\",\"type\":\"BasicTicker\"},{\"attributes\":{\"axis_label\":\"TotalCoinSupply\",\"coordinates\":null,\"formatter\":{\"id\":\"1204\"},\"group\":null,\"major_label_policy\":{\"id\":\"1205\"},\"ticker\":{\"id\":\"1184\"}},\"id\":\"1183\",\"type\":\"LinearAxis\"},{\"attributes\":{\"angle\":{\"value\":0.0},\"fill_alpha\":{\"value\":1.0},\"fill_color\":{\"value\":\"#30a2da\"},\"hatch_alpha\":{\"value\":1.0},\"hatch_color\":{\"value\":\"#30a2da\"},\"hatch_scale\":{\"value\":12.0},\"hatch_weight\":{\"value\":1.0},\"line_alpha\":{\"value\":1.0},\"line_cap\":{\"value\":\"butt\"},\"line_color\":{\"value\":\"#30a2da\"},\"line_dash\":{\"value\":[]},\"line_dash_offset\":{\"value\":0},\"line_join\":{\"value\":\"bevel\"},\"line_width\":{\"value\":1},\"marker\":{\"value\":\"circle\"},\"size\":{\"value\":5.477225575051661},\"x\":{\"field\":\"TotalCoinsMined\"},\"y\":{\"field\":\"TotalCoinSupply\"}},\"id\":\"1226\",\"type\":\"Scatter\"},{\"attributes\":{},\"id\":\"1274\",\"type\":\"Selection\"},{\"attributes\":{\"axis_label\":\"TotalCoinsMined\",\"coordinates\":null,\"formatter\":{\"id\":\"1201\"},\"group\":null,\"major_label_policy\":{\"id\":\"1202\"},\"ticker\":{\"id\":\"1180\"}},\"id\":\"1179\",\"type\":\"LinearAxis\"},{\"attributes\":{\"label\":{\"value\":\"0\"},\"renderers\":[{\"id\":\"1212\"}]},\"id\":\"1225\",\"type\":\"LegendItem\"},{\"attributes\":{\"label\":{\"value\":\"1\"},\"renderers\":[{\"id\":\"1233\"}]},\"id\":\"1247\",\"type\":\"LegendItem\"},{\"attributes\":{\"fill_alpha\":{\"value\":0.2},\"fill_color\":{\"value\":\"#6d904f\"},\"hatch_alpha\":{\"value\":0.2},\"hatch_color\":{\"value\":\"#6d904f\"},\"line_alpha\":{\"value\":0.2},\"line_color\":{\"value\":\"#6d904f\"},\"size\":{\"value\":5.477225575051661},\"x\":{\"field\":\"TotalCoinsMined\"},\"y\":{\"field\":\"TotalCoinSupply\"}},\"id\":\"1278\",\"type\":\"Scatter\"},{\"attributes\":{\"axis\":{\"id\":\"1183\"},\"coordinates\":null,\"dimension\":1,\"grid_line_color\":null,\"group\":null,\"ticker\":null},\"id\":\"1186\",\"type\":\"Grid\"},{\"attributes\":{\"fill_alpha\":{\"value\":0.2},\"fill_color\":{\"value\":\"#fc4f30\"},\"hatch_alpha\":{\"value\":0.2},\"hatch_color\":{\"value\":\"#fc4f30\"},\"line_alpha\":{\"value\":0.2},\"line_color\":{\"value\":\"#fc4f30\"},\"size\":{\"value\":5.477225575051661},\"x\":{\"field\":\"TotalCoinsMined\"},\"y\":{\"field\":\"TotalCoinSupply\"}},\"id\":\"1232\",\"type\":\"Scatter\"},{\"attributes\":{\"coordinates\":null,\"data_source\":{\"id\":\"1249\"},\"glyph\":{\"id\":\"1252\"},\"group\":null,\"hover_glyph\":null,\"muted_glyph\":{\"id\":\"1254\"},\"nonselection_glyph\":{\"id\":\"1253\"},\"selection_glyph\":{\"id\":\"1272\"},\"view\":{\"id\":\"1256\"}},\"id\":\"1255\",\"type\":\"GlyphRenderer\"},{\"attributes\":{\"coordinates\":null,\"data_source\":{\"id\":\"1273\"},\"glyph\":{\"id\":\"1276\"},\"group\":null,\"hover_glyph\":null,\"muted_glyph\":{\"id\":\"1278\"},\"nonselection_glyph\":{\"id\":\"1277\"},\"selection_glyph\":{\"id\":\"1298\"},\"view\":{\"id\":\"1280\"}},\"id\":\"1279\",\"type\":\"GlyphRenderer\"},{\"attributes\":{\"fill_color\":{\"value\":\"#6d904f\"},\"hatch_color\":{\"value\":\"#6d904f\"},\"line_color\":{\"value\":\"#6d904f\"},\"size\":{\"value\":5.477225575051661},\"x\":{\"field\":\"TotalCoinsMined\"},\"y\":{\"field\":\"TotalCoinSupply\"}},\"id\":\"1276\",\"type\":\"Scatter\"},{\"attributes\":{\"source\":{\"id\":\"1206\"}},\"id\":\"1213\",\"type\":\"CDSView\"},{\"attributes\":{},\"id\":\"1189\",\"type\":\"WheelZoomTool\"},{\"attributes\":{},\"id\":\"1268\",\"type\":\"UnionRenderers\"},{\"attributes\":{},\"id\":\"1294\",\"type\":\"UnionRenderers\"},{\"attributes\":{},\"id\":\"1207\",\"type\":\"Selection\"},{\"attributes\":{\"fill_alpha\":{\"value\":0.1},\"fill_color\":{\"value\":\"#6d904f\"},\"hatch_alpha\":{\"value\":0.1},\"hatch_color\":{\"value\":\"#6d904f\"},\"line_alpha\":{\"value\":0.1},\"line_color\":{\"value\":\"#6d904f\"},\"size\":{\"value\":5.477225575051661},\"x\":{\"field\":\"TotalCoinsMined\"},\"y\":{\"field\":\"TotalCoinSupply\"}},\"id\":\"1277\",\"type\":\"Scatter\"},{\"attributes\":{},\"id\":\"1187\",\"type\":\"SaveTool\"},{\"attributes\":{},\"id\":\"1205\",\"type\":\"AllLabels\"},{\"attributes\":{\"end\":1.1,\"reset_end\":1.1,\"reset_start\":-0.1,\"start\":-0.1,\"tags\":[[[\"TotalCoinSupply\",\"TotalCoinSupply\",null]]]},\"id\":\"1165\",\"type\":\"Range1d\"},{\"attributes\":{},\"id\":\"1188\",\"type\":\"PanTool\"},{\"attributes\":{},\"id\":\"1191\",\"type\":\"ResetTool\"},{\"attributes\":{\"overlay\":{\"id\":\"1192\"}},\"id\":\"1190\",\"type\":\"BoxZoomTool\"},{\"attributes\":{},\"id\":\"1250\",\"type\":\"Selection\"},{\"attributes\":{\"coordinates\":null,\"data_source\":{\"id\":\"1227\"},\"glyph\":{\"id\":\"1230\"},\"group\":null,\"hover_glyph\":null,\"muted_glyph\":{\"id\":\"1232\"},\"nonselection_glyph\":{\"id\":\"1231\"},\"selection_glyph\":{\"id\":\"1248\"},\"view\":{\"id\":\"1234\"}},\"id\":\"1233\",\"type\":\"GlyphRenderer\"},{\"attributes\":{\"data\":{\"Class\":[0,0,0,0,0,0,0,0,0,0,0,0,0,0,0,0,0,0,0,0,0,0,0,0,0,0,0,0,0,0,0,0,0,0,0,0,0,0,0,0,0,0,0,0,0,0,0,0,0,0,0,0,0,0,0,0,0,0,0,0,0,0,0,0,0,0,0,0,0,0,0,0,0,0,0,0,0,0,0,0,0,0,0,0,0,0,0,0,0,0,0,0,0,0,0,0,0,0,0,0,0,0,0,0,0,0,0,0,0,0,0,0,0,0,0,0,0,0,0,0,0,0,0,0,0,0,0,0,0,0,0,0,0,0,0,0,0,0,0,0,0,0,0,0,0,0,0,0,0,0,0,0,0,0,0,0,0,0,0,0,0,0,0,0,0,0,0,0,0,0,0,0,0,0,0,0,0,0,0,0,0,0,0,0,0,0,0,0,0,0,0,0,0,0,0,0,0,0,0,0,0,0,0,0,0,0,0,0,0,0,0,0,0,0,0,0,0,0,0,0,0,0,0,0,0,0,0,0,0,0,0,0,0,0,0,0,0,0,0,0],\"TotalCoinSupply\":{\"__ndarray__\":\"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\",\"dtype\":\"float64\",\"order\":\"little\",\"shape\":[240]},\"TotalCoinsMined\":{\"__ndarray__\":\"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\",\"dtype\":\"float64\",\"order\":\"little\",\"shape\":[240]}},\"selected\":{\"id\":\"1207\"},\"selection_policy\":{\"id\":\"1221\"}},\"id\":\"1206\",\"type\":\"ColumnDataSource\"},{\"attributes\":{},\"id\":\"1184\",\"type\":\"BasicTicker\"},{\"attributes\":{\"source\":{\"id\":\"1227\"}},\"id\":\"1234\",\"type\":\"CDSView\"},{\"attributes\":{\"tools\":[{\"id\":\"1166\"},{\"id\":\"1187\"},{\"id\":\"1188\"},{\"id\":\"1189\"},{\"id\":\"1190\"},{\"id\":\"1191\"}]},\"id\":\"1193\",\"type\":\"Toolbar\"},{\"attributes\":{\"fill_alpha\":{\"value\":0.1},\"fill_color\":{\"value\":\"#fc4f30\"},\"hatch_alpha\":{\"value\":0.1},\"hatch_color\":{\"value\":\"#fc4f30\"},\"line_alpha\":{\"value\":0.1},\"line_color\":{\"value\":\"#fc4f30\"},\"size\":{\"value\":5.477225575051661},\"x\":{\"field\":\"TotalCoinsMined\"},\"y\":{\"field\":\"TotalCoinSupply\"}},\"id\":\"1231\",\"type\":\"Scatter\"},{\"attributes\":{\"fill_color\":{\"value\":\"#30a2da\"},\"hatch_color\":{\"value\":\"#30a2da\"},\"line_color\":{\"value\":\"#30a2da\"},\"size\":{\"value\":5.477225575051661},\"x\":{\"field\":\"TotalCoinsMined\"},\"y\":{\"field\":\"TotalCoinSupply\"}},\"id\":\"1209\",\"type\":\"Scatter\"},{\"attributes\":{\"bottom_units\":\"screen\",\"coordinates\":null,\"fill_alpha\":0.5,\"fill_color\":\"lightgrey\",\"group\":null,\"left_units\":\"screen\",\"level\":\"overlay\",\"line_alpha\":1.0,\"line_color\":\"black\",\"line_dash\":[4,4],\"line_width\":2,\"right_units\":\"screen\",\"syncable\":false,\"top_units\":\"screen\"},\"id\":\"1192\",\"type\":\"BoxAnnotation\"},{\"attributes\":{\"data\":{\"Class\":[1,1,1,1,1,1,1,1,1,1,1,1,1,1,1,1,1,1,1,1,1,1,1,1,1,1,1,1,1,1,1,1,1,1,1,1,1,1,1,1,1,1,1,1,1,1,1,1,1,1,1,1,1,1,1,1,1,1,1,1,1,1,1,1,1,1,1,1,1,1,1,1,1,1,1,1,1,1,1,1,1,1,1,1,1,1,1,1,1,1,1,1,1,1,1,1,1,1,1,1,1,1,1,1,1,1,1,1,1,1,1,1,1,1,1,1,1,1,1,1,1,1,1,1,1,1,1,1,1,1,1,1,1,1,1,1,1,1,1,1,1,1,1,1,1,1,1,1,1,1,1,1,1,1,1,1,1,1,1,1,1,1,1,1,1,1,1,1,1,1,1,1,1,1,1,1,1,1,1,1,1,1,1,1,1,1,1,1,1,1,1,1,1,1,1,1,1,1,1,1,1,1,1,1,1,1,1,1,1,1,1,1,1,1,1,1,1,1,1,1,1,1,1,1,1,1,1,1,1,1,1,1,1,1,1,1,1,1,1,1,1,1,1,1,1,1,1,1,1,1,1,1,1,1,1,1,1,1,1,1,1,1,1,1,1,1,1,1,1,1,1,1,1,1,1,1,1,1,1,1,1,1,1,1,1],\"TotalCoinSupply\":{\"__ndarray__\":\"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\",\"dtype\":\"float64\",\"order\":\"little\",\"shape\":[285]},\"TotalCoinsMined\":{\"__ndarray__\":\"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\",\"dtype\":\"float64\",\"order\":\"little\",\"shape\":[285]}},\"selected\":{\"id\":\"1228\"},\"selection_policy\":{\"id\":\"1244\"}},\"id\":\"1227\",\"type\":\"ColumnDataSource\"},{\"attributes\":{\"fill_color\":{\"value\":\"#e5ae38\"},\"hatch_color\":{\"value\":\"#e5ae38\"},\"line_color\":{\"value\":\"#e5ae38\"},\"size\":{\"value\":5.477225575051661},\"x\":{\"field\":\"TotalCoinsMined\"},\"y\":{\"field\":\"TotalCoinSupply\"}},\"id\":\"1252\",\"type\":\"Scatter\"},{\"attributes\":{},\"id\":\"1201\",\"type\":\"BasicTickFormatter\"},{\"attributes\":{\"coordinates\":null,\"data_source\":{\"id\":\"1206\"},\"glyph\":{\"id\":\"1209\"},\"group\":null,\"hover_glyph\":null,\"muted_glyph\":{\"id\":\"1211\"},\"nonselection_glyph\":{\"id\":\"1210\"},\"selection_glyph\":{\"id\":\"1226\"},\"view\":{\"id\":\"1213\"}},\"id\":\"1212\",\"type\":\"GlyphRenderer\"},{\"attributes\":{\"label\":{\"value\":\"3\"},\"renderers\":[{\"id\":\"1279\"}]},\"id\":\"1297\",\"type\":\"LegendItem\"},{\"attributes\":{\"fill_alpha\":{\"value\":0.2},\"fill_color\":{\"value\":\"#30a2da\"},\"hatch_alpha\":{\"value\":0.2},\"hatch_color\":{\"value\":\"#30a2da\"},\"line_alpha\":{\"value\":0.2},\"line_color\":{\"value\":\"#30a2da\"},\"size\":{\"value\":5.477225575051661},\"x\":{\"field\":\"TotalCoinsMined\"},\"y\":{\"field\":\"TotalCoinSupply\"}},\"id\":\"1211\",\"type\":\"Scatter\"},{\"attributes\":{\"label\":{\"value\":\"2\"},\"renderers\":[{\"id\":\"1255\"}]},\"id\":\"1271\",\"type\":\"LegendItem\"},{\"attributes\":{\"fill_alpha\":{\"value\":0.1},\"fill_color\":{\"value\":\"#30a2da\"},\"hatch_alpha\":{\"value\":0.1},\"hatch_color\":{\"value\":\"#30a2da\"},\"line_alpha\":{\"value\":0.1},\"line_color\":{\"value\":\"#30a2da\"},\"size\":{\"value\":5.477225575051661},\"x\":{\"field\":\"TotalCoinsMined\"},\"y\":{\"field\":\"TotalCoinSupply\"}},\"id\":\"1210\",\"type\":\"Scatter\"},{\"attributes\":{\"callback\":null,\"renderers\":[{\"id\":\"1212\"},{\"id\":\"1233\"},{\"id\":\"1255\"},{\"id\":\"1279\"}],\"tags\":[\"hv_created\"],\"tooltips\":[[\"Class\",\"@{Class}\"],[\"TotalCoinsMined\",\"@{TotalCoinsMined}\"],[\"TotalCoinSupply\",\"@{TotalCoinSupply}\"]]},\"id\":\"1166\",\"type\":\"HoverTool\"},{\"attributes\":{\"below\":[{\"id\":\"1179\"}],\"center\":[{\"id\":\"1182\"},{\"id\":\"1186\"}],\"height\":300,\"left\":[{\"id\":\"1183\"}],\"margin\":[5,5,5,5],\"min_border_bottom\":10,\"min_border_left\":10,\"min_border_right\":10,\"min_border_top\":10,\"renderers\":[{\"id\":\"1212\"},{\"id\":\"1233\"},{\"id\":\"1255\"},{\"id\":\"1279\"}],\"right\":[{\"id\":\"1224\"}],\"sizing_mode\":\"fixed\",\"title\":{\"id\":\"1171\"},\"toolbar\":{\"id\":\"1193\"},\"width\":700,\"x_range\":{\"id\":\"1164\"},\"x_scale\":{\"id\":\"1175\"},\"y_range\":{\"id\":\"1165\"},\"y_scale\":{\"id\":\"1177\"}},\"id\":\"1170\",\"subtype\":\"Figure\",\"type\":\"Plot\"},{\"attributes\":{},\"id\":\"1204\",\"type\":\"BasicTickFormatter\"},{\"attributes\":{\"fill_color\":{\"value\":\"#fc4f30\"},\"hatch_color\":{\"value\":\"#fc4f30\"},\"line_color\":{\"value\":\"#fc4f30\"},\"size\":{\"value\":5.477225575051661},\"x\":{\"field\":\"TotalCoinsMined\"},\"y\":{\"field\":\"TotalCoinSupply\"}},\"id\":\"1230\",\"type\":\"Scatter\"},{\"attributes\":{\"fill_alpha\":{\"value\":0.1},\"fill_color\":{\"value\":\"#e5ae38\"},\"hatch_alpha\":{\"value\":0.1},\"hatch_color\":{\"value\":\"#e5ae38\"},\"line_alpha\":{\"value\":0.1},\"line_color\":{\"value\":\"#e5ae38\"},\"size\":{\"value\":5.477225575051661},\"x\":{\"field\":\"TotalCoinsMined\"},\"y\":{\"field\":\"TotalCoinSupply\"}},\"id\":\"1253\",\"type\":\"Scatter\"},{\"attributes\":{},\"id\":\"1202\",\"type\":\"AllLabels\"},{\"attributes\":{\"end\":1.0428571428571427,\"reset_end\":1.0428571428571427,\"reset_start\":-0.04285714285714285,\"start\":-0.04285714285714285,\"tags\":[[[\"TotalCoinsMined\",\"TotalCoinsMined\",null]]]},\"id\":\"1164\",\"type\":\"Range1d\"},{\"attributes\":{},\"id\":\"1228\",\"type\":\"Selection\"},{\"attributes\":{\"children\":[{\"id\":\"1163\"},{\"id\":\"1170\"},{\"id\":\"1315\"}],\"margin\":[0,0,0,0],\"name\":\"Row01107\",\"tags\":[\"embedded\"]},\"id\":\"1162\",\"type\":\"Row\"},{\"attributes\":{\"margin\":[5,5,5,5],\"name\":\"HSpacer01112\",\"sizing_mode\":\"stretch_width\"},\"id\":\"1315\",\"type\":\"Spacer\"},{\"attributes\":{\"angle\":{\"value\":0.0},\"fill_alpha\":{\"value\":1.0},\"fill_color\":{\"value\":\"#6d904f\"},\"hatch_alpha\":{\"value\":1.0},\"hatch_color\":{\"value\":\"#6d904f\"},\"hatch_scale\":{\"value\":12.0},\"hatch_weight\":{\"value\":1.0},\"line_alpha\":{\"value\":1.0},\"line_cap\":{\"value\":\"butt\"},\"line_color\":{\"value\":\"#6d904f\"},\"line_dash\":{\"value\":[]},\"line_dash_offset\":{\"value\":0},\"line_join\":{\"value\":\"bevel\"},\"line_width\":{\"value\":1},\"marker\":{\"value\":\"circle\"},\"size\":{\"value\":5.477225575051661},\"x\":{\"field\":\"TotalCoinsMined\"},\"y\":{\"field\":\"TotalCoinSupply\"}},\"id\":\"1298\",\"type\":\"Scatter\"},{\"attributes\":{},\"id\":\"1177\",\"type\":\"LinearScale\"},{\"attributes\":{\"fill_alpha\":{\"value\":0.2},\"fill_color\":{\"value\":\"#e5ae38\"},\"hatch_alpha\":{\"value\":0.2},\"hatch_color\":{\"value\":\"#e5ae38\"},\"line_alpha\":{\"value\":0.2},\"line_color\":{\"value\":\"#e5ae38\"},\"size\":{\"value\":5.477225575051661},\"x\":{\"field\":\"TotalCoinsMined\"},\"y\":{\"field\":\"TotalCoinSupply\"}},\"id\":\"1254\",\"type\":\"Scatter\"},{\"attributes\":{},\"id\":\"1175\",\"type\":\"LinearScale\"},{\"attributes\":{\"source\":{\"id\":\"1249\"}},\"id\":\"1256\",\"type\":\"CDSView\"}],\"root_ids\":[\"1162\"]},\"title\":\"Bokeh Application\",\"version\":\"2.4.3\"}};\n",
       "    var render_items = [{\"docid\":\"b54619ef-75f6-4904-87df-e7f6a9c587de\",\"root_ids\":[\"1162\"],\"roots\":{\"1162\":\"fb7d56cd-96b1-4133-9abc-8c8ac4803b7f\"}}];\n",
       "    root.Bokeh.embed.embed_items_notebook(docs_json, render_items);\n",
       "  }\n",
       "  if (root.Bokeh !== undefined && root.Bokeh.Panel !== undefined) {\n",
       "    embed_document(root);\n",
       "  } else {\n",
       "    var attempts = 0;\n",
       "    var timer = setInterval(function(root) {\n",
       "      if (root.Bokeh !== undefined && root.Bokeh.Panel !== undefined) {\n",
       "        clearInterval(timer);\n",
       "        embed_document(root);\n",
       "      } else if (document.readyState == \"complete\") {\n",
       "        attempts++;\n",
       "        if (attempts > 200) {\n",
       "          clearInterval(timer);\n",
       "          console.log(\"Bokeh: ERROR: Unable to run BokehJS code because BokehJS library is missing\");\n",
       "        }\n",
       "      }\n",
       "    }, 25, root)\n",
       "  }\n",
       "})(window);</script>"
      ],
      "text/plain": [
       ":NdOverlay   [Class]\n",
       "   :Scatter   [TotalCoinsMined]   (TotalCoinSupply)"
      ]
     },
     "execution_count": 23,
     "metadata": {
      "application/vnd.holoviews_exec.v0+json": {
       "id": "1162"
      }
     },
     "output_type": "execute_result"
    }
   ],
   "source": [
    "# Create a hvplot.scatter plot using x=\"TotalCoinsMined\" and y=\"TotalCoinSupply\".\n",
    "x_df.hvplot.scatter(x=\"TotalCoinsMined\", \n",
    "                     y=\"TotalCoinSupply\",\n",
    "                     by=\"Class\",\n",
    "                     xticks=\"TotalCoinsMined\", \n",
    "                     title=\"Scatter Visualization\", \n",
    "                     xlabel=\"TotalCoinsMined\", \n",
    "                     ylabel=\"TotalCoinSupply\")\n"
   ]
  },
  {
   "cell_type": "code",
   "execution_count": null,
   "metadata": {},
   "outputs": [],
   "source": []
  }
 ],
 "metadata": {
  "file_extension": ".py",
  "kernelspec": {
   "display_name": "mlenv",
   "language": "python",
   "name": "mlenv"
  },
  "language_info": {
   "codemirror_mode": {
    "name": "ipython",
    "version": 3
   },
   "file_extension": ".py",
   "mimetype": "text/x-python",
   "name": "python",
   "nbconvert_exporter": "python",
   "pygments_lexer": "ipython3",
   "version": "3.7.13"
  },
  "latex_envs": {
   "LaTeX_envs_menu_present": true,
   "autoclose": false,
   "autocomplete": true,
   "bibliofile": "biblio.bib",
   "cite_by": "apalike",
   "current_citInitial": 1,
   "eqLabelWithNumbers": true,
   "eqNumInitial": 1,
   "hotkeys": {
    "equation": "Ctrl-E",
    "itemize": "Ctrl-I"
   },
   "labels_anchors": false,
   "latex_user_defs": false,
   "report_style_numbering": false,
   "user_envs_cfg": false
  },
  "mimetype": "text/x-python",
  "name": "python",
  "npconvert_exporter": "python",
  "pygments_lexer": "ipython3",
  "version": 3
 },
 "nbformat": 4,
 "nbformat_minor": 2
}
